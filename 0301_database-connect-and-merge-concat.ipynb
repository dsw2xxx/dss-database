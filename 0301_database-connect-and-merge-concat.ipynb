{
 "cells": [
  {
   "cell_type": "markdown",
   "metadata": {
    "colab_type": "text",
    "id": "gruSRZrtxK1R"
   },
   "source": [
    "### 실전 데이터분석반 2주차 - 다양한 형태로 보관된 데이터를 읽어오기\n",
    "\n",
    "이번 시간에는 먼저 다양한 형태로 저장되어 있는 데이터를 판다스로 읽어오는 방법을 살펴봅니다. 데이터 분석가는 CSV 파일 외에도 엑셀, 또는 데이터베이스(ex: MySQL, Oracle, etc)에 저장되어 있는 파일을 읽어올 수 있어야 합니다. 이 중 데이터분석가가 가장 많이 다루는 형식은 MySQL과 같은 데이터베이스 시스템이며, 이런 데이터베이스 시스템에서 필요한 데이터를 가져오는 별도의 프로그래밍 언어를 Structured Query Language, 줄여서 SQL 이라고 합니다.\n",
    "\n",
    "회사마다 다르지만, 보통은 이 SQL을 얼마나 잘 다루는지 여부를 데이터분석가의 실력을 판가름하는 요소 중에 하나로 간주합니다. 그러므로 이번 수업에서는 SQL을 활용해 데이터를 읽어오고 분석하는 노하우를 배웁니다. 가장 기초적인 ```SELECT```문부터 시작하여, 조건을 활용하여 특정 데이터만 읽어올 수 있는 ```WHERE``` 문, 여러 개의 데이터를 하나로 합치는 ```JOIN```문에 대해서도 다룰 것입니다.\n",
    "\n",
    "또한 데이터를 판다스의 DataFrame으로 읽어온 후에도, 여러 개의 데이터를 읽어와서 하나로 합쳐야 하는 경우가 있습니다. 이런 기술을 ```merge```, ```join```, ```concatenate``` 이라고 부릅니다. 이번 시간에는 ```merge```, ```join```, ```concatenate``` 를 활용 해 여러 개의 데이터를 합치는 방법, 그리고 나아가서 ```merge```, ```join```, ```concatenate``` 세 개가 구체적으로 어떤 차이가 있는지를 집중적으로 다뤄보겠습니다."
   ]
  },
  {
   "cell_type": "code",
   "execution_count": 0,
   "metadata": {
    "colab": {},
    "colab_type": "code",
    "id": "SRx--r_3xK1T"
   },
   "outputs": [],
   "source": [
    "import pandas as pd"
   ]
  },
  {
   "cell_type": "markdown",
   "metadata": {
    "colab_type": "text",
    "id": "zcacCUAAxK1W"
   },
   "source": [
    "### 다양한 확장자의 파일 읽어오기\n",
    "\n",
    "먼저 판다스에서 다양한 형식의 파일을 읽어오는 방법에 대해서 배워봅니다. 판다스에서는 CSV 파일 이외에도 TSV, Excel, HDF와 같은 다양한 형식의 데이터를 읽어올 수 있습니다. 이러한 형식들의 장단점을 이해하고, 이 형식의 데이터를 판다스로 읽어오는 방법을 살펴봅니다. 또한 ```read_csv```를 포함한 다양한 메소드의 옵션들을 활용하는 법을 배울 것입니다."
   ]
  },
  {
   "cell_type": "markdown",
   "metadata": {
    "colab_type": "text",
    "id": "PrGq79vUxK1W"
   },
   "source": [
    "** CSV 파일 읽어오기 **"
   ]
  },
  {
   "cell_type": "markdown",
   "metadata": {
    "colab_type": "text",
    "id": "VE_0b0v3xK1X"
   },
   "source": [
    "csv는 **comma seperated value**의 약자로, 말 그대로 값을 쉼표(```,```)로 구분한 것을 의미합니다. 이 CSV 파일을 엑셀이 아닌 메모장 (notepad)로 열어보시면, 쉼표(```,```)를 기준으로 값이 분리되어 있는 것을 확인할 수 있습니다."
   ]
  },
  {
   "cell_type": "code",
   "execution_count": 0,
   "metadata": {
    "colab": {},
    "colab_type": "code",
    "id": "8Gl8ThPixK1Y",
    "outputId": "c1100331-de38-46a1-d4d4-30db4290613b"
   },
   "outputs": [
    {
     "name": "stdout",
     "output_type": "stream",
     "text": [
      "Name,date,amount,result,date(한글)\n",
      "\n",
      "Kang,2017-01-01,500,confirmed,2017년 1월 1일\n",
      "\n",
      "Kim,2017-01-03,700,confirmed,2017년 1월 3일\n",
      "\n",
      "Choi,2017-01-05,800,confirmed,2017년 1월 5일\n",
      "\n",
      "Park,2017-01-07,500,canceled,2017년 1월 7일\n",
      "\n",
      "Lee,2017-01-09,700,confirmed,2017년 1월 9일\n",
      "\n",
      "Yoon,2017-01-10,200,canceled,2017년 1월 10일\n",
      "\n"
     ]
    }
   ],
   "source": [
    "# csv 파일을 파이썬의 open을 활용해 그대로 열어봅니다.\n",
    "# 여기서 저장된 텍스트 형식의 데이터를 행 단위로 화면에 출력합니다.\n",
    "for i in open('transaction.csv'):\n",
    "    print(i)\n",
    "    # PS) print(i, end='') 를 이용하면 행간에 출력된 엔터를 생략할 수 있습니다."
   ]
  },
  {
   "cell_type": "markdown",
   "metadata": {
    "colab_type": "text",
    "id": "iqexBvlsxK1b"
   },
   "source": [
    "이러한 ```CSV``` 파일은 판다스에서 ```read_csv```라는 메소드를 활용해 간단히 읽어올 수 있습니다. 읽어온 결과는  DataFrame으로 변환합니다."
   ]
  },
  {
   "cell_type": "code",
   "execution_count": 0,
   "metadata": {
    "colab": {},
    "colab_type": "code",
    "id": "8-BqEjvOxK1c",
    "outputId": "ab9ade3a-ce39-441d-d77e-b8ed4668bc8e",
    "scrolled": true
   },
   "outputs": [
    {
     "data": {
      "text/html": [
       "<div>\n",
       "<style>\n",
       "    .dataframe thead tr:only-child th {\n",
       "        text-align: right;\n",
       "    }\n",
       "\n",
       "    .dataframe thead th {\n",
       "        text-align: left;\n",
       "    }\n",
       "\n",
       "    .dataframe tbody tr th {\n",
       "        vertical-align: top;\n",
       "    }\n",
       "</style>\n",
       "<table border=\"1\" class=\"dataframe\">\n",
       "  <thead>\n",
       "    <tr style=\"text-align: right;\">\n",
       "      <th></th>\n",
       "      <th>Name</th>\n",
       "      <th>date</th>\n",
       "      <th>amount</th>\n",
       "      <th>result</th>\n",
       "      <th>date(한글)</th>\n",
       "    </tr>\n",
       "  </thead>\n",
       "  <tbody>\n",
       "    <tr>\n",
       "      <th>0</th>\n",
       "      <td>Kang</td>\n",
       "      <td>2017-01-01</td>\n",
       "      <td>500</td>\n",
       "      <td>confirmed</td>\n",
       "      <td>2017년 1월 1일</td>\n",
       "    </tr>\n",
       "    <tr>\n",
       "      <th>1</th>\n",
       "      <td>Kim</td>\n",
       "      <td>2017-01-03</td>\n",
       "      <td>700</td>\n",
       "      <td>confirmed</td>\n",
       "      <td>2017년 1월 3일</td>\n",
       "    </tr>\n",
       "    <tr>\n",
       "      <th>2</th>\n",
       "      <td>Choi</td>\n",
       "      <td>2017-01-05</td>\n",
       "      <td>800</td>\n",
       "      <td>confirmed</td>\n",
       "      <td>2017년 1월 5일</td>\n",
       "    </tr>\n",
       "    <tr>\n",
       "      <th>3</th>\n",
       "      <td>Park</td>\n",
       "      <td>2017-01-07</td>\n",
       "      <td>500</td>\n",
       "      <td>canceled</td>\n",
       "      <td>2017년 1월 7일</td>\n",
       "    </tr>\n",
       "    <tr>\n",
       "      <th>4</th>\n",
       "      <td>Lee</td>\n",
       "      <td>2017-01-09</td>\n",
       "      <td>700</td>\n",
       "      <td>confirmed</td>\n",
       "      <td>2017년 1월 9일</td>\n",
       "    </tr>\n",
       "    <tr>\n",
       "      <th>5</th>\n",
       "      <td>Yoon</td>\n",
       "      <td>2017-01-10</td>\n",
       "      <td>200</td>\n",
       "      <td>canceled</td>\n",
       "      <td>2017년 1월 10일</td>\n",
       "    </tr>\n",
       "  </tbody>\n",
       "</table>\n",
       "</div>"
      ],
      "text/plain": [
       "   Name        date  amount     result      date(한글)\n",
       "0  Kang  2017-01-01     500  confirmed   2017년 1월 1일\n",
       "1   Kim  2017-01-03     700  confirmed   2017년 1월 3일\n",
       "2  Choi  2017-01-05     800  confirmed   2017년 1월 5일\n",
       "3  Park  2017-01-07     500   canceled   2017년 1월 7일\n",
       "4   Lee  2017-01-09     700  confirmed   2017년 1월 9일\n",
       "5  Yoon  2017-01-10     200   canceled  2017년 1월 10일"
      ]
     },
     "execution_count": 3,
     "metadata": {
      "tags": []
     },
     "output_type": "execute_result"
    }
   ],
   "source": [
    "# 실행파일과 같은 폴더에 위치한 결제정보 데이터(transaction.csv)를 불러옵니다.\n",
    "# 불러온 결과는 판다스의 DataFrame으로 자동 변환됩니다.\n",
    "# 이 데이터를 transaction이라는 변수에 저장합니다.\n",
    "transaction = pd.read_csv(\"transaction.csv\")\n",
    "\n",
    "# transaction 변수에 저장된 데이터를 화면에 출력합니다.\n",
    "transaction"
   ]
  },
  {
   "cell_type": "markdown",
   "metadata": {
    "colab_type": "text",
    "id": "bjYq0AnfxK1e"
   },
   "source": [
    "```read_csv```는 자동으로 첫 번째 행을 헤더 (header)로 사용합니다. (이 헤더는 결국 컬럼 명이 되는 셈입니다.) 만일 첫 행을 헤더로 사용하고 싶지 않은 경우에는 다음의 옵션을 넣을 수 있습니다."
   ]
  },
  {
   "cell_type": "code",
   "execution_count": 0,
   "metadata": {
    "colab": {},
    "colab_type": "code",
    "id": "906iiHEhxK1f",
    "outputId": "c3be29a6-cecd-4641-8ac3-3379926f1aab",
    "scrolled": true
   },
   "outputs": [
    {
     "data": {
      "text/html": [
       "<div>\n",
       "<style>\n",
       "    .dataframe thead tr:only-child th {\n",
       "        text-align: right;\n",
       "    }\n",
       "\n",
       "    .dataframe thead th {\n",
       "        text-align: left;\n",
       "    }\n",
       "\n",
       "    .dataframe tbody tr th {\n",
       "        vertical-align: top;\n",
       "    }\n",
       "</style>\n",
       "<table border=\"1\" class=\"dataframe\">\n",
       "  <thead>\n",
       "    <tr style=\"text-align: right;\">\n",
       "      <th></th>\n",
       "      <th>0</th>\n",
       "      <th>1</th>\n",
       "      <th>2</th>\n",
       "      <th>3</th>\n",
       "      <th>4</th>\n",
       "    </tr>\n",
       "  </thead>\n",
       "  <tbody>\n",
       "    <tr>\n",
       "      <th>0</th>\n",
       "      <td>Name</td>\n",
       "      <td>date</td>\n",
       "      <td>amount</td>\n",
       "      <td>result</td>\n",
       "      <td>date(한글)</td>\n",
       "    </tr>\n",
       "    <tr>\n",
       "      <th>1</th>\n",
       "      <td>Kang</td>\n",
       "      <td>2017-01-01</td>\n",
       "      <td>500</td>\n",
       "      <td>confirmed</td>\n",
       "      <td>2017년 1월 1일</td>\n",
       "    </tr>\n",
       "    <tr>\n",
       "      <th>2</th>\n",
       "      <td>Kim</td>\n",
       "      <td>2017-01-03</td>\n",
       "      <td>700</td>\n",
       "      <td>confirmed</td>\n",
       "      <td>2017년 1월 3일</td>\n",
       "    </tr>\n",
       "    <tr>\n",
       "      <th>3</th>\n",
       "      <td>Choi</td>\n",
       "      <td>2017-01-05</td>\n",
       "      <td>800</td>\n",
       "      <td>confirmed</td>\n",
       "      <td>2017년 1월 5일</td>\n",
       "    </tr>\n",
       "    <tr>\n",
       "      <th>4</th>\n",
       "      <td>Park</td>\n",
       "      <td>2017-01-07</td>\n",
       "      <td>500</td>\n",
       "      <td>canceled</td>\n",
       "      <td>2017년 1월 7일</td>\n",
       "    </tr>\n",
       "    <tr>\n",
       "      <th>5</th>\n",
       "      <td>Lee</td>\n",
       "      <td>2017-01-09</td>\n",
       "      <td>700</td>\n",
       "      <td>confirmed</td>\n",
       "      <td>2017년 1월 9일</td>\n",
       "    </tr>\n",
       "    <tr>\n",
       "      <th>6</th>\n",
       "      <td>Yoon</td>\n",
       "      <td>2017-01-10</td>\n",
       "      <td>200</td>\n",
       "      <td>canceled</td>\n",
       "      <td>2017년 1월 10일</td>\n",
       "    </tr>\n",
       "  </tbody>\n",
       "</table>\n",
       "</div>"
      ],
      "text/plain": [
       "      0           1       2          3             4\n",
       "0  Name        date  amount     result      date(한글)\n",
       "1  Kang  2017-01-01     500  confirmed   2017년 1월 1일\n",
       "2   Kim  2017-01-03     700  confirmed   2017년 1월 3일\n",
       "3  Choi  2017-01-05     800  confirmed   2017년 1월 5일\n",
       "4  Park  2017-01-07     500   canceled   2017년 1월 7일\n",
       "5   Lee  2017-01-09     700  confirmed   2017년 1월 9일\n",
       "6  Yoon  2017-01-10     200   canceled  2017년 1월 10일"
      ]
     },
     "execution_count": 4,
     "metadata": {
      "tags": []
     },
     "output_type": "execute_result"
    }
   ],
   "source": [
    "# 몇 번째 행을 header로 사용할지를 header라는 파라미터에 넣어주면 됩니다.\n",
    "# 헤더로 어떤 행도 사용하지 않고 싶을 때는 None을 입력해주시면 됩니다.\n",
    "# 이 경우에는 판다스에서 자동으로 열(column) 번호를 컬럼 명으로 사용합니다.\n",
    "transaction = pd.read_csv(\"transaction.csv\", header=None)\n",
    "\n",
    "# transaction 변수에 저장된 데이터를 화면에 출력합니다. \n",
    "transaction"
   ]
  },
  {
   "cell_type": "markdown",
   "metadata": {
    "colab_type": "text",
    "id": "RHABolAJxK1h"
   },
   "source": [
    "만일 컬럼명을 바꾸고 싶다면, names라는 파라미터에 컬럼명을 별도로 지정할 수 있습니다. 이 패러미터를 활용해 영어 컬럼명을 한글로 변경해보겠습니다."
   ]
  },
  {
   "cell_type": "code",
   "execution_count": 0,
   "metadata": {
    "colab": {},
    "colab_type": "code",
    "id": "SHJQPTMNxK1i",
    "outputId": "945f587c-1aa7-4b5e-ed7b-f2c8912e58b7",
    "scrolled": true
   },
   "outputs": [
    {
     "data": {
      "text/html": [
       "<div>\n",
       "<style>\n",
       "    .dataframe thead tr:only-child th {\n",
       "        text-align: right;\n",
       "    }\n",
       "\n",
       "    .dataframe thead th {\n",
       "        text-align: left;\n",
       "    }\n",
       "\n",
       "    .dataframe tbody tr th {\n",
       "        vertical-align: top;\n",
       "    }\n",
       "</style>\n",
       "<table border=\"1\" class=\"dataframe\">\n",
       "  <thead>\n",
       "    <tr style=\"text-align: right;\">\n",
       "      <th></th>\n",
       "      <th>이름</th>\n",
       "      <th>날짜</th>\n",
       "      <th>양</th>\n",
       "      <th>결제결과</th>\n",
       "      <th>날짜(한글)</th>\n",
       "    </tr>\n",
       "  </thead>\n",
       "  <tbody>\n",
       "    <tr>\n",
       "      <th>0</th>\n",
       "      <td>Kang</td>\n",
       "      <td>2017-01-01</td>\n",
       "      <td>500</td>\n",
       "      <td>confirmed</td>\n",
       "      <td>2017년 1월 1일</td>\n",
       "    </tr>\n",
       "    <tr>\n",
       "      <th>1</th>\n",
       "      <td>Kim</td>\n",
       "      <td>2017-01-03</td>\n",
       "      <td>700</td>\n",
       "      <td>confirmed</td>\n",
       "      <td>2017년 1월 3일</td>\n",
       "    </tr>\n",
       "    <tr>\n",
       "      <th>2</th>\n",
       "      <td>Choi</td>\n",
       "      <td>2017-01-05</td>\n",
       "      <td>800</td>\n",
       "      <td>confirmed</td>\n",
       "      <td>2017년 1월 5일</td>\n",
       "    </tr>\n",
       "    <tr>\n",
       "      <th>3</th>\n",
       "      <td>Park</td>\n",
       "      <td>2017-01-07</td>\n",
       "      <td>500</td>\n",
       "      <td>canceled</td>\n",
       "      <td>2017년 1월 7일</td>\n",
       "    </tr>\n",
       "    <tr>\n",
       "      <th>4</th>\n",
       "      <td>Lee</td>\n",
       "      <td>2017-01-09</td>\n",
       "      <td>700</td>\n",
       "      <td>confirmed</td>\n",
       "      <td>2017년 1월 9일</td>\n",
       "    </tr>\n",
       "    <tr>\n",
       "      <th>5</th>\n",
       "      <td>Yoon</td>\n",
       "      <td>2017-01-10</td>\n",
       "      <td>200</td>\n",
       "      <td>canceled</td>\n",
       "      <td>2017년 1월 10일</td>\n",
       "    </tr>\n",
       "  </tbody>\n",
       "</table>\n",
       "</div>"
      ],
      "text/plain": [
       "     이름          날짜    양       결제결과        날짜(한글)\n",
       "0  Kang  2017-01-01  500  confirmed   2017년 1월 1일\n",
       "1   Kim  2017-01-03  700  confirmed   2017년 1월 3일\n",
       "2  Choi  2017-01-05  800  confirmed   2017년 1월 5일\n",
       "3  Park  2017-01-07  500   canceled   2017년 1월 7일\n",
       "4   Lee  2017-01-09  700  confirmed   2017년 1월 9일\n",
       "5  Yoon  2017-01-10  200   canceled  2017년 1월 10일"
      ]
     },
     "execution_count": 5,
     "metadata": {
      "tags": []
     },
     "output_type": "execute_result"
    }
   ],
   "source": [
    "# 0번째 (프로그래밍 언어에서는 1이 첫번째가 아닙니다.) 행을 헤더로 사용합니다.\n",
    "# 그리고 그 헤더의 값들을 names라는 파라미터에 리스트로 넣어 한글로 수정합니다. \n",
    "names = ['이름', '날짜', '양', '결제결과', '날짜(한글)']\n",
    "\n",
    "transaction = pd.read_csv(\"transaction.csv\", header=0, names=names)\n",
    "\n",
    "# names에 들어가는 리스트의 길이가 데이터의 열 수보다 많으면 에러가 발생합니다.\n",
    "transaction"
   ]
  },
  {
   "cell_type": "markdown",
   "metadata": {
    "colab_type": "text",
    "id": "_4hCq3ZkxK1k"
   },
   "source": [
    "판다스의 DataFrame에는 각 행(row)을 나타내는 인덱스(index)가 존재합니다. 아무런 인덱스(index)를 지정해 주지 않았다면, 디폴트 값으로 0부터 시작하는 숫자(ex: 0, 1, 2, 3, 4, 5, 6...)가 들어갑니다. 하지만 이 디폴트 인덱스가 직관적이지 않다는 느낌이 들고, 인덱스가 될 수 있는 더 좋은 옵션을 열(column)으로 가지고 있다면, ```index_col``` 옵션을 통해 이를 별도로 지정하는 것도 가능합니다."
   ]
  },
  {
   "cell_type": "code",
   "execution_count": 0,
   "metadata": {
    "colab": {},
    "colab_type": "code",
    "id": "21CYT-zExK1l",
    "outputId": "b43ed4c2-afcb-4f7d-897a-2e29cd02b832",
    "scrolled": true
   },
   "outputs": [
    {
     "data": {
      "text/html": [
       "<div>\n",
       "<style>\n",
       "    .dataframe thead tr:only-child th {\n",
       "        text-align: right;\n",
       "    }\n",
       "\n",
       "    .dataframe thead th {\n",
       "        text-align: left;\n",
       "    }\n",
       "\n",
       "    .dataframe tbody tr th {\n",
       "        vertical-align: top;\n",
       "    }\n",
       "</style>\n",
       "<table border=\"1\" class=\"dataframe\">\n",
       "  <thead>\n",
       "    <tr style=\"text-align: right;\">\n",
       "      <th></th>\n",
       "      <th>date</th>\n",
       "      <th>amount</th>\n",
       "      <th>result</th>\n",
       "      <th>date(한글)</th>\n",
       "    </tr>\n",
       "    <tr>\n",
       "      <th>Name</th>\n",
       "      <th></th>\n",
       "      <th></th>\n",
       "      <th></th>\n",
       "      <th></th>\n",
       "    </tr>\n",
       "  </thead>\n",
       "  <tbody>\n",
       "    <tr>\n",
       "      <th>Kang</th>\n",
       "      <td>2017-01-01</td>\n",
       "      <td>500</td>\n",
       "      <td>confirmed</td>\n",
       "      <td>2017년 1월 1일</td>\n",
       "    </tr>\n",
       "    <tr>\n",
       "      <th>Kim</th>\n",
       "      <td>2017-01-03</td>\n",
       "      <td>700</td>\n",
       "      <td>confirmed</td>\n",
       "      <td>2017년 1월 3일</td>\n",
       "    </tr>\n",
       "    <tr>\n",
       "      <th>Choi</th>\n",
       "      <td>2017-01-05</td>\n",
       "      <td>800</td>\n",
       "      <td>confirmed</td>\n",
       "      <td>2017년 1월 5일</td>\n",
       "    </tr>\n",
       "    <tr>\n",
       "      <th>Park</th>\n",
       "      <td>2017-01-07</td>\n",
       "      <td>500</td>\n",
       "      <td>canceled</td>\n",
       "      <td>2017년 1월 7일</td>\n",
       "    </tr>\n",
       "    <tr>\n",
       "      <th>Lee</th>\n",
       "      <td>2017-01-09</td>\n",
       "      <td>700</td>\n",
       "      <td>confirmed</td>\n",
       "      <td>2017년 1월 9일</td>\n",
       "    </tr>\n",
       "    <tr>\n",
       "      <th>Yoon</th>\n",
       "      <td>2017-01-10</td>\n",
       "      <td>200</td>\n",
       "      <td>canceled</td>\n",
       "      <td>2017년 1월 10일</td>\n",
       "    </tr>\n",
       "  </tbody>\n",
       "</table>\n",
       "</div>"
      ],
      "text/plain": [
       "            date  amount     result      date(한글)\n",
       "Name                                             \n",
       "Kang  2017-01-01     500  confirmed   2017년 1월 1일\n",
       "Kim   2017-01-03     700  confirmed   2017년 1월 3일\n",
       "Choi  2017-01-05     800  confirmed   2017년 1월 5일\n",
       "Park  2017-01-07     500   canceled   2017년 1월 7일\n",
       "Lee   2017-01-09     700  confirmed   2017년 1월 9일\n",
       "Yoon  2017-01-10     200   canceled  2017년 1월 10일"
      ]
     },
     "execution_count": 6,
     "metadata": {
      "tags": []
     },
     "output_type": "execute_result"
    }
   ],
   "source": [
    "# index_col 옵션으로 특정 컬럼을 인덱스로 지정할 수 있습니다.\n",
    "# 인덱스로 지정하지 않으면 디폴트 인덱스가 설정됩니다.\n",
    "transaction = pd.read_csv(\"transaction.csv\", index_col=\"Name\")\n",
    "transaction"
   ]
  },
  {
   "cell_type": "markdown",
   "metadata": {
    "colab_type": "text",
    "id": "kfdVfj4PxK1o"
   },
   "source": [
    "다만, 주의해야 하는 점은 인덱스(index)로 활용하는 컬럼은 중복 값이 존재하면 안된다는 것입니다. 만일 중복된 값을 사용하면 나중에 여러 개의 데이터를 합칠 때 굉장히 불편하거나 문제가 발생할 소지가 있습니다. 그러므로 인덱스는 항상 고유해야 한다(이를 전문 용어로 unique하다고 합니다)는 점을 숙지하고 있어야 합니다."
   ]
  },
  {
   "cell_type": "markdown",
   "metadata": {
    "colab_type": "text",
    "id": "y0Du4UpRxK1p"
   },
   "source": [
    "위에서 설명한 것 이외에도 판다스의 read_csv에는 다양한 옵션들이 있습니다. 이 기능을 잘 사용한다면 데이터를 전처리 (Pre-processing)하는 과정이 한결 쉬워지는데요, 이번 수업에서는 가장 많이 쓰이는 기능 몇 가지만 소개하도록 하겠습니다. \n",
    "\n",
    "PS) read_csv에 존재하는 모든 기능은 [다음의 링크](https://pandas.pydata.org/pandas-docs/stable/generated/pandas.read_csv.html)에서 확인할 수 있습니다."
   ]
  },
  {
   "cell_type": "markdown",
   "metadata": {
    "colab_type": "text",
    "id": "dpRKK-SuxK1q"
   },
   "source": [
    "** 판다스 read_csv의 여러 옵션들 **"
   ]
  },
  {
   "cell_type": "markdown",
   "metadata": {
    "colab_type": "text",
    "id": "UHSuCnhixK1r"
   },
   "source": [
    "현업에서 데이터를 분석할 때, 가끔은 필요 이상으로 데이터가 많은 경우가 있습니다. 이런 경우에는 데이터를 한 번에 전부 불러오지 않고, 필요한 데이터만 불러오면 효율적으로 데이터를 분석할 수 있습니다. 먼저 필요한 열(column)만 가져오는 법부터 알아보겠습니다."
   ]
  },
  {
   "cell_type": "code",
   "execution_count": 0,
   "metadata": {
    "colab": {},
    "colab_type": "code",
    "id": "UDB-7z7ExK1s",
    "outputId": "50c891df-2263-4eca-c6dd-0f74114c4c65"
   },
   "outputs": [
    {
     "data": {
      "text/html": [
       "<div>\n",
       "<style>\n",
       "    .dataframe thead tr:only-child th {\n",
       "        text-align: right;\n",
       "    }\n",
       "\n",
       "    .dataframe thead th {\n",
       "        text-align: left;\n",
       "    }\n",
       "\n",
       "    .dataframe tbody tr th {\n",
       "        vertical-align: top;\n",
       "    }\n",
       "</style>\n",
       "<table border=\"1\" class=\"dataframe\">\n",
       "  <thead>\n",
       "    <tr style=\"text-align: right;\">\n",
       "      <th></th>\n",
       "      <th>date</th>\n",
       "      <th>amount</th>\n",
       "    </tr>\n",
       "    <tr>\n",
       "      <th>Name</th>\n",
       "      <th></th>\n",
       "      <th></th>\n",
       "    </tr>\n",
       "  </thead>\n",
       "  <tbody>\n",
       "    <tr>\n",
       "      <th>Kang</th>\n",
       "      <td>2017-01-01</td>\n",
       "      <td>500</td>\n",
       "    </tr>\n",
       "    <tr>\n",
       "      <th>Kim</th>\n",
       "      <td>2017-01-03</td>\n",
       "      <td>700</td>\n",
       "    </tr>\n",
       "    <tr>\n",
       "      <th>Choi</th>\n",
       "      <td>2017-01-05</td>\n",
       "      <td>800</td>\n",
       "    </tr>\n",
       "    <tr>\n",
       "      <th>Park</th>\n",
       "      <td>2017-01-07</td>\n",
       "      <td>500</td>\n",
       "    </tr>\n",
       "    <tr>\n",
       "      <th>Lee</th>\n",
       "      <td>2017-01-09</td>\n",
       "      <td>700</td>\n",
       "    </tr>\n",
       "    <tr>\n",
       "      <th>Yoon</th>\n",
       "      <td>2017-01-10</td>\n",
       "      <td>200</td>\n",
       "    </tr>\n",
       "  </tbody>\n",
       "</table>\n",
       "</div>"
      ],
      "text/plain": [
       "            date  amount\n",
       "Name                    \n",
       "Kang  2017-01-01     500\n",
       "Kim   2017-01-03     700\n",
       "Choi  2017-01-05     800\n",
       "Park  2017-01-07     500\n",
       "Lee   2017-01-09     700\n",
       "Yoon  2017-01-10     200"
      ]
     },
     "execution_count": 7,
     "metadata": {
      "tags": []
     },
     "output_type": "execute_result"
    }
   ],
   "source": [
    "# 가져올 컬럼(column)을 지정할 수 있습니다.\n",
    "# 데이터가 너무 많을 경우 사용합니다.\n",
    "transaction = pd.read_csv(\"transaction.csv\",\n",
    "                          index_col=\"Name\",\n",
    "                          usecols=[\"Name\", \"date\", \"amount\"])\n",
    "transaction"
   ]
  },
  {
   "cell_type": "markdown",
   "metadata": {
    "colab_type": "text",
    "id": "E7kvzrEmxK1v"
   },
   "source": [
    "이외에도 열(column)이 아닌 행(row)을 일부만 읽어줘야 하는 경우도 있습니다. 이 경우에는 ```nrows```와 ```skiprows``` 옵션을 활용합니다."
   ]
  },
  {
   "cell_type": "code",
   "execution_count": 0,
   "metadata": {
    "colab": {},
    "colab_type": "code",
    "id": "8kpTh2kDxK1w",
    "outputId": "8025a86d-5402-4efd-f206-0430a4f7e88a",
    "scrolled": false
   },
   "outputs": [
    {
     "data": {
      "text/html": [
       "<div>\n",
       "<style>\n",
       "    .dataframe thead tr:only-child th {\n",
       "        text-align: right;\n",
       "    }\n",
       "\n",
       "    .dataframe thead th {\n",
       "        text-align: left;\n",
       "    }\n",
       "\n",
       "    .dataframe tbody tr th {\n",
       "        vertical-align: top;\n",
       "    }\n",
       "</style>\n",
       "<table border=\"1\" class=\"dataframe\">\n",
       "  <thead>\n",
       "    <tr style=\"text-align: right;\">\n",
       "      <th></th>\n",
       "      <th>Name</th>\n",
       "      <th>date</th>\n",
       "      <th>amount</th>\n",
       "      <th>result</th>\n",
       "      <th>date(한글)</th>\n",
       "    </tr>\n",
       "  </thead>\n",
       "  <tbody>\n",
       "    <tr>\n",
       "      <th>0</th>\n",
       "      <td>Kang</td>\n",
       "      <td>2017-01-01</td>\n",
       "      <td>500</td>\n",
       "      <td>confirmed</td>\n",
       "      <td>2017년 1월 1일</td>\n",
       "    </tr>\n",
       "    <tr>\n",
       "      <th>1</th>\n",
       "      <td>Kim</td>\n",
       "      <td>2017-01-03</td>\n",
       "      <td>700</td>\n",
       "      <td>confirmed</td>\n",
       "      <td>2017년 1월 3일</td>\n",
       "    </tr>\n",
       "  </tbody>\n",
       "</table>\n",
       "</div>"
      ],
      "text/plain": [
       "   Name        date  amount     result     date(한글)\n",
       "0  Kang  2017-01-01     500  confirmed  2017년 1월 1일\n",
       "1   Kim  2017-01-03     700  confirmed  2017년 1월 3일"
      ]
     },
     "execution_count": 8,
     "metadata": {
      "tags": []
     },
     "output_type": "execute_result"
    }
   ],
   "source": [
    "# nrows로 불러올 행의 개수를 지정해줄 수 있습니다.\n",
    "# 지정한 개수만큼의 행을 위에서부터 불러옵니다.\n",
    "pd.read_csv('transaction.csv', nrows=2)"
   ]
  },
  {
   "cell_type": "markdown",
   "metadata": {
    "colab_type": "text",
    "id": "JCRzxZADxK1y"
   },
   "source": [
    "skiprows 옵션을 사용하면 건너 뛰고 싶은 행을 지정할 수 있습니다. skiprows 옵션의 경우 input의 형태에 따라 작동하는 방식이 조금 다릅니다."
   ]
  },
  {
   "cell_type": "code",
   "execution_count": 0,
   "metadata": {
    "colab": {},
    "colab_type": "code",
    "id": "xbXPYlvuxK1y",
    "outputId": "690b623a-15b2-495b-babb-daac71658ec1"
   },
   "outputs": [
    {
     "data": {
      "text/html": [
       "<div>\n",
       "<style>\n",
       "    .dataframe thead tr:only-child th {\n",
       "        text-align: right;\n",
       "    }\n",
       "\n",
       "    .dataframe thead th {\n",
       "        text-align: left;\n",
       "    }\n",
       "\n",
       "    .dataframe tbody tr th {\n",
       "        vertical-align: top;\n",
       "    }\n",
       "</style>\n",
       "<table border=\"1\" class=\"dataframe\">\n",
       "  <thead>\n",
       "    <tr style=\"text-align: right;\">\n",
       "      <th></th>\n",
       "      <th>Kang</th>\n",
       "      <th>2017-01-01</th>\n",
       "      <th>500</th>\n",
       "      <th>confirmed</th>\n",
       "      <th>2017년 1월 1일</th>\n",
       "    </tr>\n",
       "  </thead>\n",
       "  <tbody>\n",
       "    <tr>\n",
       "      <th>0</th>\n",
       "      <td>Kim</td>\n",
       "      <td>2017-01-03</td>\n",
       "      <td>700</td>\n",
       "      <td>confirmed</td>\n",
       "      <td>2017년 1월 3일</td>\n",
       "    </tr>\n",
       "    <tr>\n",
       "      <th>1</th>\n",
       "      <td>Choi</td>\n",
       "      <td>2017-01-05</td>\n",
       "      <td>800</td>\n",
       "      <td>confirmed</td>\n",
       "      <td>2017년 1월 5일</td>\n",
       "    </tr>\n",
       "    <tr>\n",
       "      <th>2</th>\n",
       "      <td>Park</td>\n",
       "      <td>2017-01-07</td>\n",
       "      <td>500</td>\n",
       "      <td>canceled</td>\n",
       "      <td>2017년 1월 7일</td>\n",
       "    </tr>\n",
       "    <tr>\n",
       "      <th>3</th>\n",
       "      <td>Lee</td>\n",
       "      <td>2017-01-09</td>\n",
       "      <td>700</td>\n",
       "      <td>confirmed</td>\n",
       "      <td>2017년 1월 9일</td>\n",
       "    </tr>\n",
       "    <tr>\n",
       "      <th>4</th>\n",
       "      <td>Yoon</td>\n",
       "      <td>2017-01-10</td>\n",
       "      <td>200</td>\n",
       "      <td>canceled</td>\n",
       "      <td>2017년 1월 10일</td>\n",
       "    </tr>\n",
       "  </tbody>\n",
       "</table>\n",
       "</div>"
      ],
      "text/plain": [
       "   Kang  2017-01-01  500  confirmed   2017년 1월 1일\n",
       "0   Kim  2017-01-03  700  confirmed   2017년 1월 3일\n",
       "1  Choi  2017-01-05  800  confirmed   2017년 1월 5일\n",
       "2  Park  2017-01-07  500   canceled   2017년 1월 7일\n",
       "3   Lee  2017-01-09  700  confirmed   2017년 1월 9일\n",
       "4  Yoon  2017-01-10  200   canceled  2017년 1월 10일"
      ]
     },
     "execution_count": 9,
     "metadata": {
      "tags": []
     },
     "output_type": "execute_result"
    }
   ],
   "source": [
    "# skiprows : int로 옵션을 주는 경우 처음부터 불러들일 때 생략할 행의 개수 (header 포함)\n",
    "# skiprows : List로 옵션을 주는 경우 생략할 행의 index\n",
    "# skiprows : 함수 (callable)로 옵션을 주는 경우도 가능 (ex. 홀수행만 불러오기)\n",
    "\n",
    "pd.read_csv('transaction.csv', skiprows=1)\n",
    "# pd.read_csv('transaction.csv', skiprows=[0])\n",
    "# pd.read_csv('transaction.csv', skiprows=lambda x : x in [0,2])"
   ]
  },
  {
   "cell_type": "markdown",
   "metadata": {
    "colab_type": "text",
    "id": "PBmDqXV5xK10"
   },
   "source": [
    "chunksize 옵션은 지정된 행의 개수만큼 iterator를 만들어줍니다. iterator는 for문에서 값을 하나씩 반환하는 역할을 하는데, 이는 데이터를 여러개로 쪼개 각각 변수에 저장할 때 유용하게 사용됩니다."
   ]
  },
  {
   "cell_type": "code",
   "execution_count": 0,
   "metadata": {
    "colab": {},
    "colab_type": "code",
    "id": "XvUG5TcWxK11",
    "outputId": "9a97cb76-0391-4947-9dc3-563f92e121bd",
    "scrolled": true
   },
   "outputs": [
    {
     "name": "stdout",
     "output_type": "stream",
     "text": [
      "   Name        date  amount     result     date(한글)\n",
      "0  Kang  2017-01-01     500  confirmed  2017년 1월 1일\n",
      "1   Kim  2017-01-03     700  confirmed  2017년 1월 3일\n",
      "\n",
      "   Name        date  amount     result     date(한글)\n",
      "2  Choi  2017-01-05     800  confirmed  2017년 1월 5일\n",
      "3  Park  2017-01-07     500   canceled  2017년 1월 7일\n",
      "\n",
      "   Name        date  amount     result      date(한글)\n",
      "4   Lee  2017-01-09     700  confirmed   2017년 1월 9일\n",
      "5  Yoon  2017-01-10     200   canceled  2017년 1월 10일\n",
      "\n"
     ]
    }
   ],
   "source": [
    "for splited_data in pd.read_csv('transaction.csv', chunksize=2):\n",
    "    print(splited_data, end='\\n\\n')"
   ]
  },
  {
   "cell_type": "markdown",
   "metadata": {
    "colab_type": "text",
    "id": "FrNOEcxmxK13"
   },
   "source": [
    "---"
   ]
  },
  {
   "cell_type": "markdown",
   "metadata": {
    "colab_type": "text",
    "id": "6D-uTjqsxK14"
   },
   "source": [
    "**날짜 처리**"
   ]
  },
  {
   "cell_type": "markdown",
   "metadata": {
    "colab_type": "text",
    "id": "8XvNHCbDxK14"
   },
   "source": [
    "판다스에서 데이터를 읽다보면, 가끔 날짜나 시간 정보가 들어있는 경우가 있습니다. 이 경우 별도의 처리를 해주지 않으면 판다스는 이를 문자열(object, 내지는 string)으로 인식합니다. 이 경우에는 ```parse_dates```라는 별도의 옵션으로 지정해줘야 합니다."
   ]
  },
  {
   "cell_type": "code",
   "execution_count": 0,
   "metadata": {
    "colab": {},
    "colab_type": "code",
    "id": "cc0Iv18hxK15",
    "outputId": "af4460f6-b966-4318-f886-4ade14203829",
    "scrolled": true
   },
   "outputs": [
    {
     "data": {
      "text/html": [
       "<div>\n",
       "<style>\n",
       "    .dataframe thead tr:only-child th {\n",
       "        text-align: right;\n",
       "    }\n",
       "\n",
       "    .dataframe thead th {\n",
       "        text-align: left;\n",
       "    }\n",
       "\n",
       "    .dataframe tbody tr th {\n",
       "        vertical-align: top;\n",
       "    }\n",
       "</style>\n",
       "<table border=\"1\" class=\"dataframe\">\n",
       "  <thead>\n",
       "    <tr style=\"text-align: right;\">\n",
       "      <th></th>\n",
       "      <th>date</th>\n",
       "      <th>amount</th>\n",
       "      <th>result</th>\n",
       "      <th>date(한글)</th>\n",
       "    </tr>\n",
       "    <tr>\n",
       "      <th>Name</th>\n",
       "      <th></th>\n",
       "      <th></th>\n",
       "      <th></th>\n",
       "      <th></th>\n",
       "    </tr>\n",
       "  </thead>\n",
       "  <tbody>\n",
       "    <tr>\n",
       "      <th>Kang</th>\n",
       "      <td>2017-01-01</td>\n",
       "      <td>500</td>\n",
       "      <td>confirmed</td>\n",
       "      <td>2017년 1월 1일</td>\n",
       "    </tr>\n",
       "    <tr>\n",
       "      <th>Kim</th>\n",
       "      <td>2017-01-03</td>\n",
       "      <td>700</td>\n",
       "      <td>confirmed</td>\n",
       "      <td>2017년 1월 3일</td>\n",
       "    </tr>\n",
       "    <tr>\n",
       "      <th>Choi</th>\n",
       "      <td>2017-01-05</td>\n",
       "      <td>800</td>\n",
       "      <td>confirmed</td>\n",
       "      <td>2017년 1월 5일</td>\n",
       "    </tr>\n",
       "    <tr>\n",
       "      <th>Park</th>\n",
       "      <td>2017-01-07</td>\n",
       "      <td>500</td>\n",
       "      <td>canceled</td>\n",
       "      <td>2017년 1월 7일</td>\n",
       "    </tr>\n",
       "    <tr>\n",
       "      <th>Lee</th>\n",
       "      <td>2017-01-09</td>\n",
       "      <td>700</td>\n",
       "      <td>confirmed</td>\n",
       "      <td>2017년 1월 9일</td>\n",
       "    </tr>\n",
       "    <tr>\n",
       "      <th>Yoon</th>\n",
       "      <td>2017-01-10</td>\n",
       "      <td>200</td>\n",
       "      <td>canceled</td>\n",
       "      <td>2017년 1월 10일</td>\n",
       "    </tr>\n",
       "  </tbody>\n",
       "</table>\n",
       "</div>"
      ],
      "text/plain": [
       "           date  amount     result      date(한글)\n",
       "Name                                            \n",
       "Kang 2017-01-01     500  confirmed   2017년 1월 1일\n",
       "Kim  2017-01-03     700  confirmed   2017년 1월 3일\n",
       "Choi 2017-01-05     800  confirmed   2017년 1월 5일\n",
       "Park 2017-01-07     500   canceled   2017년 1월 7일\n",
       "Lee  2017-01-09     700  confirmed   2017년 1월 9일\n",
       "Yoon 2017-01-10     200   canceled  2017년 1월 10일"
      ]
     },
     "execution_count": 11,
     "metadata": {
      "tags": []
     },
     "output_type": "execute_result"
    }
   ],
   "source": [
    "# 특정 컬럼을 날짜(date)로 지정합니다.\n",
    "# 이렇게 하면 .dt 옵션으로 연/월/일/시/분/초를 따로 가져올 수 있습니다.\n",
    "transaction = pd.read_csv(\"transaction.csv\",\n",
    "                          index_col=\"Name\",\n",
    "                          parse_dates=[\"date\"])\n",
    "\n",
    "transaction"
   ]
  },
  {
   "cell_type": "code",
   "execution_count": 0,
   "metadata": {
    "colab": {},
    "colab_type": "code",
    "id": "BsGvfNsoxK17",
    "outputId": "c0b3dabc-5810-43e6-87e3-7fa24bf19551"
   },
   "outputs": [
    {
     "data": {
      "text/plain": [
       "date        datetime64[ns]\n",
       "amount               int64\n",
       "result              object\n",
       "date(한글)            object\n",
       "dtype: object"
      ]
     },
     "execution_count": 12,
     "metadata": {
      "tags": []
     },
     "output_type": "execute_result"
    }
   ],
   "source": [
    "# 출력된 데이터프레임의 모양은 똑같지만, dtype을 보면 date 칼럼을 datetime64[ns]라는 형태로 인식하고 있음을 알 수 있습니다.\n",
    "transaction.dtypes"
   ]
  },
  {
   "cell_type": "code",
   "execution_count": 0,
   "metadata": {
    "colab": {},
    "colab_type": "code",
    "id": "V9vFHqYIxK1-",
    "outputId": "f0bc8b53-56fa-46f3-dfe7-8d5f7c72dac9",
    "scrolled": true
   },
   "outputs": [
    {
     "data": {
      "text/plain": [
       "Name\n",
       "Kang     1\n",
       "Kim      3\n",
       "Choi     5\n",
       "Park     7\n",
       "Lee      9\n",
       "Yoon    10\n",
       "Name: date, dtype: int64"
      ]
     },
     "execution_count": 13,
     "metadata": {
      "tags": []
     },
     "output_type": "execute_result"
    }
   ],
   "source": [
    "# datetime 열에 대해서는 다음의 코드로 date 컬럼에서 날(day)을 가져올 수 있습니다.\n",
    "transaction[\"date\"].dt.day #year, month, weekday, dayofweek 등 사용 가능."
   ]
  },
  {
   "cell_type": "markdown",
   "metadata": {
    "colab_type": "text",
    "id": "Q3kRWQLuxK2A"
   },
   "source": [
    "day말고도 year, month, weekday, hour 등 다양한 시간 정보를 바로 가져오는 것이 가능합니다. \n",
    "자세한 사항은 [다음의 링크](https://pandas.pydata.org/pandas-docs/stable/api.html#datetimelike-properties)를 참고해주세요.\n",
    "\n",
    "가끔은 판다스에서 지원하지 않는 형식의 날짜를 읽어와야 할 경우가 있습니다. 이 경우에는 명시적으로 날짜 형식을 지정해줘야 합니다."
   ]
  },
  {
   "cell_type": "code",
   "execution_count": 0,
   "metadata": {
    "colab": {},
    "colab_type": "code",
    "id": "MidJCD2mxK2B",
    "outputId": "1b4cdb06-aa78-427a-8655-25d3698cc185",
    "scrolled": true
   },
   "outputs": [
    {
     "data": {
      "text/plain": [
       "date        datetime64[ns]\n",
       "amount               int64\n",
       "result              object\n",
       "date(한글)            object\n",
       "dtype: object"
      ]
     },
     "execution_count": 14,
     "metadata": {
      "tags": []
     },
     "output_type": "execute_result"
    }
   ],
   "source": [
    "# Date와 date(한글)을 한꺼번에 parsing하기\n",
    "transaction = pd.read_csv('transaction_date.csv', parse_dates=['date', 'date(한글)'])\n",
    "\n",
    "# 밑의 결과를 통해 한글 날짜 형식은 판다스가 인식하지 못함을 알 수 있음\n",
    "transaction.dtypes"
   ]
  },
  {
   "cell_type": "markdown",
   "metadata": {
    "colab_type": "text",
    "id": "MlOr1JDaxK2E"
   },
   "source": [
    "이 경우에는 판다스의 datetime 클래스를 이용합니다. datetime 클래스 안에 strptime이라는 메소드는 문자열(string)이 입력되었을 때, 그 string의 날짜 표기 형식을 아래의 지정 문자열을 이용하여 만들어주면 문자열을 날짜 자료형으로 만들어줍니다. 지정된 문자열들 중 많이 쓰이는 것은 다음과 같습니다.\n",
    "\n",
    "- %Y\t 4자리 연도 숫자\n",
    "- %y     2자리 연도 숫자\n",
    "- %m\t2자리 월 숫자\n",
    "- %d\t 2자리 일 숫자\n",
    "- %H\t24시간 기준 시간 숫자 (0-23)\n",
    "- %I.     12시간 기준 시간 숫자 (0-12)\n",
    "- %M\t2자리 분 숫자\n",
    "- %S\t 2자리 초 숫자\n",
    "- %A     영어로 된 요일 문자열\n",
    "- %B \t 영어로 된 월 문자열\n",
    "\n",
    "\n",
    "이 이외의 지정 문자열을 [다음의 링크](https://www.w3schools.com/python/python_datetime.asp) 에서 확인하실 수 있습니다."
   ]
  },
  {
   "cell_type": "code",
   "execution_count": 0,
   "metadata": {
    "colab": {},
    "colab_type": "code",
    "id": "3gPedBERxK2F"
   },
   "outputs": [],
   "source": [
    "#간략하게 함수를 만들 수 있는 lambda를 이용하여 x라는 data가 들어왔을 때, 이를 datetime으로 해석할 수 있도록 형식을 지정해줍니다.\n",
    "dateparser = lambda x: pd.datetime.strptime(x, '%Y년 %m월 %d일')"
   ]
  },
  {
   "cell_type": "code",
   "execution_count": 0,
   "metadata": {
    "colab": {},
    "colab_type": "code",
    "id": "pJssJ3kexK2L",
    "outputId": "59e1af18-2427-4033-8623-164d1de2e3ba",
    "scrolled": true
   },
   "outputs": [
    {
     "name": "stdout",
     "output_type": "stream",
     "text": [
      "<class 'pandas.core.frame.DataFrame'>\n",
      "RangeIndex: 6 entries, 0 to 5\n",
      "Data columns (total 4 columns):\n",
      "date        6 non-null object\n",
      "amount      6 non-null int64\n",
      "result      6 non-null object\n",
      "date(한글)    6 non-null datetime64[ns]\n",
      "dtypes: datetime64[ns](1), int64(1), object(2)\n",
      "memory usage: 272.0+ bytes\n"
     ]
    }
   ],
   "source": [
    "#함수 (callable)을 이용해 date('한글')을 datetime 자료형으로 만들어 줍니다.\n",
    "transaction_date = pd.read_csv('transaction_date.csv',\n",
    "                               parse_dates = ['date(한글)'],\n",
    "                               date_parser = dateparser)\n",
    "\n",
    "#아래 자료형에서 볼 수 있듯이, date(한글) 컬럼이 datetime자료형으로 바뀐 것을 확인할 수 있습니다.\n",
    "transaction_date.info()"
   ]
  },
  {
   "cell_type": "markdown",
   "metadata": {
    "colab_type": "text",
    "id": "_PipZiz9xK2P"
   },
   "source": [
    "만일 컬럼마다 날짜의 형식이 다른 경우에는 ```converters```라는 옵션을 쓰는 것이 더 편할 수도 있습니다. 수 있습니다. converters는 dictionary를 input으로 받는데, key에 해당하는 컬럼만 지정된 함수로 변환됩니다."
   ]
  },
  {
   "cell_type": "code",
   "execution_count": 0,
   "metadata": {
    "colab": {},
    "colab_type": "code",
    "id": "NJThHzpXxK2Q",
    "outputId": "46788d0a-05b8-4422-df98-2b284eb97043",
    "scrolled": true
   },
   "outputs": [
    {
     "data": {
      "text/plain": [
       "date        datetime64[ns]\n",
       "amount               int64\n",
       "result              object\n",
       "date(한글)    datetime64[ns]\n",
       "dtype: object"
      ]
     },
     "execution_count": 17,
     "metadata": {
      "tags": []
     },
     "output_type": "execute_result"
    }
   ],
   "source": [
    "#'date(한글)'열만 dateparse를 이용하여 datetime 자료형으로 변환, 'date'열은 기본 parse_dates를 이용\n",
    "transaction_date = pd.read_csv('transaction_date.csv',\n",
    "                               parse_dates=['date'],\n",
    "                               converters={'date(한글)' : dateparser})\n",
    "\n",
    "# 아래 코드는 parse_dates 옵션을 사용하지 않고 converters로만 변환하는 경우입니다. 결과는 위와 같습니다.\n",
    "#transaction_date = pd.read_csv('transaction_date.csv', converters={'date(한글)' : dateparse, 'date' : lambda x: pd.to_datetime(x)})\n",
    "transaction_date.dtypes"
   ]
  },
  {
   "cell_type": "markdown",
   "metadata": {
    "colab_type": "text",
    "id": "fK8Lwv4exK2V"
   },
   "source": [
    "---\n",
    "\n",
    "**인코딩**\n",
    "\n",
    "판다스의 ```read_csv```를 활용해 데이터를 불러올 때, 가끔 에러가 발생하는 경우가 있습니다. 특히나 가장 많이 발생하는 에러중 하나로 ```UnicodeDecodeError```라는게 있는데, 이는 문자열을 저장하는 방식(이하 인코딩)이 잘못되어 있는 경우라고 보시면 됩니다.\n",
    "\n",
    "우선, data 폴더의 encoding.csv 파일을 불러오겠습니다."
   ]
  },
  {
   "cell_type": "code",
   "execution_count": 0,
   "metadata": {
    "colab": {},
    "colab_type": "code",
    "id": "ZmcFAY8LxK2W",
    "outputId": "1facb047-2599-4cea-ab80-a45638c587c2",
    "scrolled": false
   },
   "outputs": [
    {
     "ename": "UnicodeDecodeError",
     "evalue": "'utf-8' codec can't decode byte 0xc0 in position 0: invalid start byte",
     "output_type": "error",
     "traceback": [
      "\u001b[0;31m------------------------------------------------------------------------\u001b[0m",
      "\u001b[0;31mUnicodeDecodeError\u001b[0m                     Traceback (most recent call last)",
      "\u001b[0;32m<ipython-input-18-98ede6ab2fda>\u001b[0m in \u001b[0;36m<module>\u001b[0;34m()\u001b[0m\n\u001b[1;32m      1\u001b[0m \u001b[0;31m#'euc-kr', 'cp949'를 한글을 불러올 때 사용\u001b[0m\u001b[0;34m\u001b[0m\u001b[0;34m\u001b[0m\u001b[0m\n\u001b[0;32m----> 2\u001b[0;31m \u001b[0mpd\u001b[0m\u001b[0;34m.\u001b[0m\u001b[0mread_csv\u001b[0m\u001b[0;34m(\u001b[0m\u001b[0;34m'encoding.csv'\u001b[0m\u001b[0;34m)\u001b[0m\u001b[0;34m\u001b[0m\u001b[0m\n\u001b[0m",
      "\u001b[0;32m~/.pyenv/versions/3.5.1/envs/dsschool/lib/python3.5/site-packages/pandas/io/parsers.py\u001b[0m in \u001b[0;36mparser_f\u001b[0;34m(filepath_or_buffer, sep, delimiter, header, names, index_col, usecols, squeeze, prefix, mangle_dupe_cols, dtype, engine, converters, true_values, false_values, skipinitialspace, skiprows, nrows, na_values, keep_default_na, na_filter, verbose, skip_blank_lines, parse_dates, infer_datetime_format, keep_date_col, date_parser, dayfirst, iterator, chunksize, compression, thousands, decimal, lineterminator, quotechar, quoting, escapechar, comment, encoding, dialect, tupleize_cols, error_bad_lines, warn_bad_lines, skipfooter, skip_footer, doublequote, delim_whitespace, as_recarray, compact_ints, use_unsigned, low_memory, buffer_lines, memory_map, float_precision)\u001b[0m\n\u001b[1;32m    653\u001b[0m                     skip_blank_lines=skip_blank_lines)\n\u001b[1;32m    654\u001b[0m \u001b[0;34m\u001b[0m\u001b[0m\n\u001b[0;32m--> 655\u001b[0;31m         \u001b[0;32mreturn\u001b[0m \u001b[0m_read\u001b[0m\u001b[0;34m(\u001b[0m\u001b[0mfilepath_or_buffer\u001b[0m\u001b[0;34m,\u001b[0m \u001b[0mkwds\u001b[0m\u001b[0;34m)\u001b[0m\u001b[0;34m\u001b[0m\u001b[0m\n\u001b[0m\u001b[1;32m    656\u001b[0m \u001b[0;34m\u001b[0m\u001b[0m\n\u001b[1;32m    657\u001b[0m     \u001b[0mparser_f\u001b[0m\u001b[0;34m.\u001b[0m\u001b[0m__name__\u001b[0m \u001b[0;34m=\u001b[0m \u001b[0mname\u001b[0m\u001b[0;34m\u001b[0m\u001b[0m\n",
      "\u001b[0;32m~/.pyenv/versions/3.5.1/envs/dsschool/lib/python3.5/site-packages/pandas/io/parsers.py\u001b[0m in \u001b[0;36m_read\u001b[0;34m(filepath_or_buffer, kwds)\u001b[0m\n\u001b[1;32m    403\u001b[0m \u001b[0;34m\u001b[0m\u001b[0m\n\u001b[1;32m    404\u001b[0m     \u001b[0;31m# Create the parser.\u001b[0m\u001b[0;34m\u001b[0m\u001b[0;34m\u001b[0m\u001b[0m\n\u001b[0;32m--> 405\u001b[0;31m     \u001b[0mparser\u001b[0m \u001b[0;34m=\u001b[0m \u001b[0mTextFileReader\u001b[0m\u001b[0;34m(\u001b[0m\u001b[0mfilepath_or_buffer\u001b[0m\u001b[0;34m,\u001b[0m \u001b[0;34m**\u001b[0m\u001b[0mkwds\u001b[0m\u001b[0;34m)\u001b[0m\u001b[0;34m\u001b[0m\u001b[0m\n\u001b[0m\u001b[1;32m    406\u001b[0m \u001b[0;34m\u001b[0m\u001b[0m\n\u001b[1;32m    407\u001b[0m     \u001b[0;32mif\u001b[0m \u001b[0mchunksize\u001b[0m \u001b[0;32mor\u001b[0m \u001b[0miterator\u001b[0m\u001b[0;34m:\u001b[0m\u001b[0;34m\u001b[0m\u001b[0m\n",
      "\u001b[0;32m~/.pyenv/versions/3.5.1/envs/dsschool/lib/python3.5/site-packages/pandas/io/parsers.py\u001b[0m in \u001b[0;36m__init__\u001b[0;34m(self, f, engine, **kwds)\u001b[0m\n\u001b[1;32m    762\u001b[0m             \u001b[0mself\u001b[0m\u001b[0;34m.\u001b[0m\u001b[0moptions\u001b[0m\u001b[0;34m[\u001b[0m\u001b[0;34m'has_index_names'\u001b[0m\u001b[0;34m]\u001b[0m \u001b[0;34m=\u001b[0m \u001b[0mkwds\u001b[0m\u001b[0;34m[\u001b[0m\u001b[0;34m'has_index_names'\u001b[0m\u001b[0;34m]\u001b[0m\u001b[0;34m\u001b[0m\u001b[0m\n\u001b[1;32m    763\u001b[0m \u001b[0;34m\u001b[0m\u001b[0m\n\u001b[0;32m--> 764\u001b[0;31m         \u001b[0mself\u001b[0m\u001b[0;34m.\u001b[0m\u001b[0m_make_engine\u001b[0m\u001b[0;34m(\u001b[0m\u001b[0mself\u001b[0m\u001b[0;34m.\u001b[0m\u001b[0mengine\u001b[0m\u001b[0;34m)\u001b[0m\u001b[0;34m\u001b[0m\u001b[0m\n\u001b[0m\u001b[1;32m    765\u001b[0m \u001b[0;34m\u001b[0m\u001b[0m\n\u001b[1;32m    766\u001b[0m     \u001b[0;32mdef\u001b[0m \u001b[0mclose\u001b[0m\u001b[0;34m(\u001b[0m\u001b[0mself\u001b[0m\u001b[0;34m)\u001b[0m\u001b[0;34m:\u001b[0m\u001b[0;34m\u001b[0m\u001b[0m\n",
      "\u001b[0;32m~/.pyenv/versions/3.5.1/envs/dsschool/lib/python3.5/site-packages/pandas/io/parsers.py\u001b[0m in \u001b[0;36m_make_engine\u001b[0;34m(self, engine)\u001b[0m\n\u001b[1;32m    983\u001b[0m     \u001b[0;32mdef\u001b[0m \u001b[0m_make_engine\u001b[0m\u001b[0;34m(\u001b[0m\u001b[0mself\u001b[0m\u001b[0;34m,\u001b[0m \u001b[0mengine\u001b[0m\u001b[0;34m=\u001b[0m\u001b[0;34m'c'\u001b[0m\u001b[0;34m)\u001b[0m\u001b[0;34m:\u001b[0m\u001b[0;34m\u001b[0m\u001b[0m\n\u001b[1;32m    984\u001b[0m         \u001b[0;32mif\u001b[0m \u001b[0mengine\u001b[0m \u001b[0;34m==\u001b[0m \u001b[0;34m'c'\u001b[0m\u001b[0;34m:\u001b[0m\u001b[0;34m\u001b[0m\u001b[0m\n\u001b[0;32m--> 985\u001b[0;31m             \u001b[0mself\u001b[0m\u001b[0;34m.\u001b[0m\u001b[0m_engine\u001b[0m \u001b[0;34m=\u001b[0m \u001b[0mCParserWrapper\u001b[0m\u001b[0;34m(\u001b[0m\u001b[0mself\u001b[0m\u001b[0;34m.\u001b[0m\u001b[0mf\u001b[0m\u001b[0;34m,\u001b[0m \u001b[0;34m**\u001b[0m\u001b[0mself\u001b[0m\u001b[0;34m.\u001b[0m\u001b[0moptions\u001b[0m\u001b[0;34m)\u001b[0m\u001b[0;34m\u001b[0m\u001b[0m\n\u001b[0m\u001b[1;32m    986\u001b[0m         \u001b[0;32melse\u001b[0m\u001b[0;34m:\u001b[0m\u001b[0;34m\u001b[0m\u001b[0m\n\u001b[1;32m    987\u001b[0m             \u001b[0;32mif\u001b[0m \u001b[0mengine\u001b[0m \u001b[0;34m==\u001b[0m \u001b[0;34m'python'\u001b[0m\u001b[0;34m:\u001b[0m\u001b[0;34m\u001b[0m\u001b[0m\n",
      "\u001b[0;32m~/.pyenv/versions/3.5.1/envs/dsschool/lib/python3.5/site-packages/pandas/io/parsers.py\u001b[0m in \u001b[0;36m__init__\u001b[0;34m(self, src, **kwds)\u001b[0m\n\u001b[1;32m   1603\u001b[0m         \u001b[0mkwds\u001b[0m\u001b[0;34m[\u001b[0m\u001b[0;34m'allow_leading_cols'\u001b[0m\u001b[0;34m]\u001b[0m \u001b[0;34m=\u001b[0m \u001b[0mself\u001b[0m\u001b[0;34m.\u001b[0m\u001b[0mindex_col\u001b[0m \u001b[0;32mis\u001b[0m \u001b[0;32mnot\u001b[0m \u001b[0;32mFalse\u001b[0m\u001b[0;34m\u001b[0m\u001b[0m\n\u001b[1;32m   1604\u001b[0m \u001b[0;34m\u001b[0m\u001b[0m\n\u001b[0;32m-> 1605\u001b[0;31m         \u001b[0mself\u001b[0m\u001b[0;34m.\u001b[0m\u001b[0m_reader\u001b[0m \u001b[0;34m=\u001b[0m \u001b[0mparsers\u001b[0m\u001b[0;34m.\u001b[0m\u001b[0mTextReader\u001b[0m\u001b[0;34m(\u001b[0m\u001b[0msrc\u001b[0m\u001b[0;34m,\u001b[0m \u001b[0;34m**\u001b[0m\u001b[0mkwds\u001b[0m\u001b[0;34m)\u001b[0m\u001b[0;34m\u001b[0m\u001b[0m\n\u001b[0m\u001b[1;32m   1606\u001b[0m \u001b[0;34m\u001b[0m\u001b[0m\n\u001b[1;32m   1607\u001b[0m         \u001b[0;31m# XXX\u001b[0m\u001b[0;34m\u001b[0m\u001b[0;34m\u001b[0m\u001b[0m\n",
      "\u001b[0;32mpandas/_libs/parsers.pyx\u001b[0m in \u001b[0;36mpandas._libs.parsers.TextReader.__cinit__ (pandas/_libs/parsers.c:6175)\u001b[0;34m()\u001b[0m\n",
      "\u001b[0;32mpandas/_libs/parsers.pyx\u001b[0m in \u001b[0;36mpandas._libs.parsers.TextReader._get_header (pandas/_libs/parsers.c:9691)\u001b[0;34m()\u001b[0m\n",
      "\u001b[0;31mUnicodeDecodeError\u001b[0m: 'utf-8' codec can't decode byte 0xc0 in position 0: invalid start byte"
     ]
    }
   ],
   "source": [
    "#'euc-kr', 'cp949'를 한글을 불러올 때 사용\n",
    "pd.read_csv('encoding.csv')"
   ]
  },
  {
   "cell_type": "markdown",
   "metadata": {
    "colab_type": "text",
    "id": "BoHlZthfxK2Y"
   },
   "source": [
    "예전에 작성된 한글 엑셀 파일이나 문서의 경우 'euc-kr'이라는 인코딩 방식을 사용하는데, 이 방식은 판다스와 호환이 잘 되지 않습니다.\n",
    "\n",
    "따라서 위와 같이 UnicodeDecodeError가 발생한 경우에는 encoding 파라미터를 'euc-kr' 또는 'cp949' (euc-kr의 확장버전)을 사용하여 한글을 인식할 수 있도록 해주세요."
   ]
  },
  {
   "cell_type": "code",
   "execution_count": 0,
   "metadata": {
    "colab": {},
    "colab_type": "code",
    "id": "e_RytGfkxK2Z",
    "outputId": "69402187-de67-46f0-86f0-4ed2ba141bf0",
    "scrolled": true
   },
   "outputs": [
    {
     "data": {
      "text/html": [
       "<div>\n",
       "<style>\n",
       "    .dataframe thead tr:only-child th {\n",
       "        text-align: right;\n",
       "    }\n",
       "\n",
       "    .dataframe thead th {\n",
       "        text-align: left;\n",
       "    }\n",
       "\n",
       "    .dataframe tbody tr th {\n",
       "        vertical-align: top;\n",
       "    }\n",
       "</style>\n",
       "<table border=\"1\" class=\"dataframe\">\n",
       "  <thead>\n",
       "    <tr style=\"text-align: right;\">\n",
       "      <th></th>\n",
       "      <th>이름</th>\n",
       "      <th>날짜</th>\n",
       "      <th>양</th>\n",
       "      <th>결과</th>\n",
       "    </tr>\n",
       "  </thead>\n",
       "  <tbody>\n",
       "    <tr>\n",
       "      <th>0</th>\n",
       "      <td>Kang</td>\n",
       "      <td>2017-01-01</td>\n",
       "      <td>500</td>\n",
       "      <td>confirmed</td>\n",
       "    </tr>\n",
       "    <tr>\n",
       "      <th>1</th>\n",
       "      <td>Kim</td>\n",
       "      <td>2017-01-03</td>\n",
       "      <td>700</td>\n",
       "      <td>confirmed</td>\n",
       "    </tr>\n",
       "    <tr>\n",
       "      <th>2</th>\n",
       "      <td>Choi</td>\n",
       "      <td>2017-01-05</td>\n",
       "      <td>800</td>\n",
       "      <td>confirmed</td>\n",
       "    </tr>\n",
       "    <tr>\n",
       "      <th>3</th>\n",
       "      <td>Park</td>\n",
       "      <td>2017-01-07</td>\n",
       "      <td>500</td>\n",
       "      <td>canceled</td>\n",
       "    </tr>\n",
       "    <tr>\n",
       "      <th>4</th>\n",
       "      <td>Lee</td>\n",
       "      <td>2017-01-09</td>\n",
       "      <td>700</td>\n",
       "      <td>confirmed</td>\n",
       "    </tr>\n",
       "    <tr>\n",
       "      <th>5</th>\n",
       "      <td>Yoon</td>\n",
       "      <td>2017-01-10</td>\n",
       "      <td>200</td>\n",
       "      <td>canceled</td>\n",
       "    </tr>\n",
       "  </tbody>\n",
       "</table>\n",
       "</div>"
      ],
      "text/plain": [
       "     이름          날짜    양         결과\n",
       "0  Kang  2017-01-01  500  confirmed\n",
       "1   Kim  2017-01-03  700  confirmed\n",
       "2  Choi  2017-01-05  800  confirmed\n",
       "3  Park  2017-01-07  500   canceled\n",
       "4   Lee  2017-01-09  700  confirmed\n",
       "5  Yoon  2017-01-10  200   canceled"
      ]
     },
     "execution_count": 19,
     "metadata": {
      "tags": []
     },
     "output_type": "execute_result"
    }
   ],
   "source": [
    "#cp949나 euc-kr을 사용\n",
    "\n",
    "pd.read_csv('encoding.csv',encoding='cp949')\n",
    "#pd.read_csv('encoding.csv',encoding='euc-kr')"
   ]
  },
  {
   "cell_type": "markdown",
   "metadata": {
    "colab_type": "text",
    "id": "EDQRzxDnxK2b"
   },
   "source": [
    "**True와 False, 그리고 NaN 형식 받아오기**\n",
    "\n",
    "유용하게 쓰이는 기능이 하나 더 있습니다. True, False와 같은 bool 타입의 데이터가 일반적이지 않은 형태로 기록된 경우가 있습니다. 이 경우는 ```read_csv```를 활용할 때 bool 타입으로 명시적으로 변환해 줄 수 있습니다. 이 경우 ```true_values```와 ```false_values```라는 옵션을 사용합니다."
   ]
  },
  {
   "cell_type": "code",
   "execution_count": 0,
   "metadata": {
    "colab": {},
    "colab_type": "code",
    "id": "sClrwjeGxK2c",
    "outputId": "14881dc4-edaa-448e-d42e-e2fc5c044c8c",
    "scrolled": true
   },
   "outputs": [
    {
     "data": {
      "text/html": [
       "<div>\n",
       "<style>\n",
       "    .dataframe thead tr:only-child th {\n",
       "        text-align: right;\n",
       "    }\n",
       "\n",
       "    .dataframe thead th {\n",
       "        text-align: left;\n",
       "    }\n",
       "\n",
       "    .dataframe tbody tr th {\n",
       "        vertical-align: top;\n",
       "    }\n",
       "</style>\n",
       "<table border=\"1\" class=\"dataframe\">\n",
       "  <thead>\n",
       "    <tr style=\"text-align: right;\">\n",
       "      <th></th>\n",
       "      <th>Name</th>\n",
       "      <th>date</th>\n",
       "      <th>amount</th>\n",
       "      <th>result</th>\n",
       "      <th>date(한글)</th>\n",
       "    </tr>\n",
       "  </thead>\n",
       "  <tbody>\n",
       "    <tr>\n",
       "      <th>0</th>\n",
       "      <td>Kang</td>\n",
       "      <td>2017-01-01</td>\n",
       "      <td>500</td>\n",
       "      <td>True</td>\n",
       "      <td>2017년 1월 1일</td>\n",
       "    </tr>\n",
       "    <tr>\n",
       "      <th>1</th>\n",
       "      <td>Kim</td>\n",
       "      <td>2017-01-03</td>\n",
       "      <td>700</td>\n",
       "      <td>True</td>\n",
       "      <td>2017년 1월 3일</td>\n",
       "    </tr>\n",
       "    <tr>\n",
       "      <th>2</th>\n",
       "      <td>Choi</td>\n",
       "      <td>2017-01-05</td>\n",
       "      <td>800</td>\n",
       "      <td>True</td>\n",
       "      <td>2017년 1월 5일</td>\n",
       "    </tr>\n",
       "    <tr>\n",
       "      <th>3</th>\n",
       "      <td>Park</td>\n",
       "      <td>2017-01-07</td>\n",
       "      <td>500</td>\n",
       "      <td>False</td>\n",
       "      <td>2017년 1월 7일</td>\n",
       "    </tr>\n",
       "    <tr>\n",
       "      <th>4</th>\n",
       "      <td>Lee</td>\n",
       "      <td>2017-01-09</td>\n",
       "      <td>700</td>\n",
       "      <td>True</td>\n",
       "      <td>2017년 1월 9일</td>\n",
       "    </tr>\n",
       "    <tr>\n",
       "      <th>5</th>\n",
       "      <td>Yoon</td>\n",
       "      <td>2017-01-10</td>\n",
       "      <td>200</td>\n",
       "      <td>False</td>\n",
       "      <td>2017년 1월 10일</td>\n",
       "    </tr>\n",
       "  </tbody>\n",
       "</table>\n",
       "</div>"
      ],
      "text/plain": [
       "   Name        date  amount  result      date(한글)\n",
       "0  Kang  2017-01-01     500    True   2017년 1월 1일\n",
       "1   Kim  2017-01-03     700    True   2017년 1월 3일\n",
       "2  Choi  2017-01-05     800    True   2017년 1월 5일\n",
       "3  Park  2017-01-07     500   False   2017년 1월 7일\n",
       "4   Lee  2017-01-09     700    True   2017년 1월 9일\n",
       "5  Yoon  2017-01-10     200   False  2017년 1월 10일"
      ]
     },
     "execution_count": 20,
     "metadata": {
      "tags": []
     },
     "output_type": "execute_result"
    }
   ],
   "source": [
    "#값을 str이 아닌 list 안에 str을 써서 표현해주셔야 합니다.\n",
    "pd.read_csv('transaction.csv',true_values=['confirmed'], false_values=['canceled'])"
   ]
  },
  {
   "cell_type": "markdown",
   "metadata": {
    "colab_type": "text",
    "id": "xDDqYFd8xK2d"
   },
   "source": [
    "비어있는 값들도 입력자에 따라 다양한 문자로 표시된 경우가 있습니다. 판다스는 다음과 같은 문자를 자동으로 Nan값으로 인식하지만, 나머지는 문자 그대로 인식하므로 다른 형태의 Nan값을 인식시키고 싶은 경우 na_values 라는 파라미터에 값을 추가해주면 됩니다. \n",
    "\n",
    "- '', '#N/A', '#N/A N/A', '#NA', '-1.#IND', '-1.#QNAN', '-NaN', '-nan', '1.#IND', '1.#QNAN', 'N/A', 'NA', 'NULL', 'NaN', 'n/a', 'nan', 'null'"
   ]
  },
  {
   "cell_type": "code",
   "execution_count": 0,
   "metadata": {
    "colab": {},
    "colab_type": "code",
    "id": "oSi8Ri72xK2e",
    "outputId": "83fbc3dd-5e52-4a83-a4b5-18db1b0761b0",
    "scrolled": true
   },
   "outputs": [
    {
     "data": {
      "text/html": [
       "<div>\n",
       "<style>\n",
       "    .dataframe thead tr:only-child th {\n",
       "        text-align: right;\n",
       "    }\n",
       "\n",
       "    .dataframe thead th {\n",
       "        text-align: left;\n",
       "    }\n",
       "\n",
       "    .dataframe tbody tr th {\n",
       "        vertical-align: top;\n",
       "    }\n",
       "</style>\n",
       "<table border=\"1\" class=\"dataframe\">\n",
       "  <thead>\n",
       "    <tr style=\"text-align: right;\">\n",
       "      <th></th>\n",
       "      <th>Name</th>\n",
       "      <th>date</th>\n",
       "      <th>amount</th>\n",
       "      <th>result</th>\n",
       "      <th>NoneValue</th>\n",
       "    </tr>\n",
       "  </thead>\n",
       "  <tbody>\n",
       "    <tr>\n",
       "      <th>0</th>\n",
       "      <td>Kang</td>\n",
       "      <td>2017-01-01</td>\n",
       "      <td>500</td>\n",
       "      <td>confirmed</td>\n",
       "      <td>Nan</td>\n",
       "    </tr>\n",
       "    <tr>\n",
       "      <th>1</th>\n",
       "      <td>Kim</td>\n",
       "      <td>2017-01-03</td>\n",
       "      <td>700</td>\n",
       "      <td>confirmed</td>\n",
       "      <td>NAN</td>\n",
       "    </tr>\n",
       "    <tr>\n",
       "      <th>2</th>\n",
       "      <td>Choi</td>\n",
       "      <td>2017-01-05</td>\n",
       "      <td>800</td>\n",
       "      <td>confirmed</td>\n",
       "      <td>NaN</td>\n",
       "    </tr>\n",
       "    <tr>\n",
       "      <th>3</th>\n",
       "      <td>Park</td>\n",
       "      <td>2017-01-07</td>\n",
       "      <td>500</td>\n",
       "      <td>canceled</td>\n",
       "      <td>null</td>\n",
       "    </tr>\n",
       "    <tr>\n",
       "      <th>4</th>\n",
       "      <td>Lee</td>\n",
       "      <td>2017-01-09</td>\n",
       "      <td>700</td>\n",
       "      <td>confirmed</td>\n",
       "      <td>NaN</td>\n",
       "    </tr>\n",
       "    <tr>\n",
       "      <th>5</th>\n",
       "      <td>Yoon</td>\n",
       "      <td>2017-01-10</td>\n",
       "      <td>200</td>\n",
       "      <td>canceled</td>\n",
       "      <td>#n/a</td>\n",
       "    </tr>\n",
       "  </tbody>\n",
       "</table>\n",
       "</div>"
      ],
      "text/plain": [
       "   Name        date  amount     result NoneValue\n",
       "0  Kang  2017-01-01     500  confirmed       Nan\n",
       "1   Kim  2017-01-03     700  confirmed       NAN\n",
       "2  Choi  2017-01-05     800  confirmed       NaN\n",
       "3  Park  2017-01-07     500   canceled      null\n",
       "4   Lee  2017-01-09     700  confirmed       NaN\n",
       "5  Yoon  2017-01-10     200   canceled      #n/a"
      ]
     },
     "execution_count": 21,
     "metadata": {
      "tags": []
     },
     "output_type": "execute_result"
    }
   ],
   "source": [
    "#data 폴더의 transaction_NA.csv 파일을 읽어온 다음, isnull 또는 isna 메소드를 이용하여 Nonevalue 열의 어떤 값이 Nan값으로 인식되었는지 확인해보세요.\n",
    "transaction_na = pd.read_csv('transaction_NA.csv')\n",
    "transaction_na"
   ]
  },
  {
   "cell_type": "code",
   "execution_count": 0,
   "metadata": {
    "colab": {},
    "colab_type": "code",
    "id": "JJFOW7W-xK2g",
    "outputId": "f2996bf5-b6d9-4538-9db9-f19ac558ebfd"
   },
   "outputs": [
    {
     "data": {
      "text/html": [
       "<div>\n",
       "<style>\n",
       "    .dataframe thead tr:only-child th {\n",
       "        text-align: right;\n",
       "    }\n",
       "\n",
       "    .dataframe thead th {\n",
       "        text-align: left;\n",
       "    }\n",
       "\n",
       "    .dataframe tbody tr th {\n",
       "        vertical-align: top;\n",
       "    }\n",
       "</style>\n",
       "<table border=\"1\" class=\"dataframe\">\n",
       "  <thead>\n",
       "    <tr style=\"text-align: right;\">\n",
       "      <th></th>\n",
       "      <th>Name</th>\n",
       "      <th>date</th>\n",
       "      <th>amount</th>\n",
       "      <th>result</th>\n",
       "      <th>NoneValue</th>\n",
       "    </tr>\n",
       "  </thead>\n",
       "  <tbody>\n",
       "    <tr>\n",
       "      <th>0</th>\n",
       "      <td>False</td>\n",
       "      <td>False</td>\n",
       "      <td>False</td>\n",
       "      <td>False</td>\n",
       "      <td>False</td>\n",
       "    </tr>\n",
       "    <tr>\n",
       "      <th>1</th>\n",
       "      <td>False</td>\n",
       "      <td>False</td>\n",
       "      <td>False</td>\n",
       "      <td>False</td>\n",
       "      <td>False</td>\n",
       "    </tr>\n",
       "    <tr>\n",
       "      <th>2</th>\n",
       "      <td>False</td>\n",
       "      <td>False</td>\n",
       "      <td>False</td>\n",
       "      <td>False</td>\n",
       "      <td>True</td>\n",
       "    </tr>\n",
       "    <tr>\n",
       "      <th>3</th>\n",
       "      <td>False</td>\n",
       "      <td>False</td>\n",
       "      <td>False</td>\n",
       "      <td>False</td>\n",
       "      <td>False</td>\n",
       "    </tr>\n",
       "    <tr>\n",
       "      <th>4</th>\n",
       "      <td>False</td>\n",
       "      <td>False</td>\n",
       "      <td>False</td>\n",
       "      <td>False</td>\n",
       "      <td>True</td>\n",
       "    </tr>\n",
       "    <tr>\n",
       "      <th>5</th>\n",
       "      <td>False</td>\n",
       "      <td>False</td>\n",
       "      <td>False</td>\n",
       "      <td>False</td>\n",
       "      <td>False</td>\n",
       "    </tr>\n",
       "  </tbody>\n",
       "</table>\n",
       "</div>"
      ],
      "text/plain": [
       "    Name   date  amount  result  NoneValue\n",
       "0  False  False   False   False      False\n",
       "1  False  False   False   False      False\n",
       "2  False  False   False   False       True\n",
       "3  False  False   False   False      False\n",
       "4  False  False   False   False       True\n",
       "5  False  False   False   False      False"
      ]
     },
     "execution_count": 22,
     "metadata": {
      "tags": []
     },
     "output_type": "execute_result"
    }
   ],
   "source": [
    "transaction_na.isnull()"
   ]
  },
  {
   "cell_type": "code",
   "execution_count": 0,
   "metadata": {
    "colab": {},
    "colab_type": "code",
    "id": "v4_9eOUUxK2i",
    "outputId": "2d49fb8d-8f8d-4fbb-da50-e5a22ce2dfc0",
    "scrolled": true
   },
   "outputs": [
    {
     "data": {
      "text/html": [
       "<div>\n",
       "<style>\n",
       "    .dataframe thead tr:only-child th {\n",
       "        text-align: right;\n",
       "    }\n",
       "\n",
       "    .dataframe thead th {\n",
       "        text-align: left;\n",
       "    }\n",
       "\n",
       "    .dataframe tbody tr th {\n",
       "        vertical-align: top;\n",
       "    }\n",
       "</style>\n",
       "<table border=\"1\" class=\"dataframe\">\n",
       "  <thead>\n",
       "    <tr style=\"text-align: right;\">\n",
       "      <th></th>\n",
       "      <th>Name</th>\n",
       "      <th>date</th>\n",
       "      <th>amount</th>\n",
       "      <th>result</th>\n",
       "      <th>NoneValue</th>\n",
       "    </tr>\n",
       "  </thead>\n",
       "  <tbody>\n",
       "    <tr>\n",
       "      <th>0</th>\n",
       "      <td>False</td>\n",
       "      <td>False</td>\n",
       "      <td>False</td>\n",
       "      <td>False</td>\n",
       "      <td>True</td>\n",
       "    </tr>\n",
       "    <tr>\n",
       "      <th>1</th>\n",
       "      <td>False</td>\n",
       "      <td>False</td>\n",
       "      <td>False</td>\n",
       "      <td>False</td>\n",
       "      <td>True</td>\n",
       "    </tr>\n",
       "    <tr>\n",
       "      <th>2</th>\n",
       "      <td>False</td>\n",
       "      <td>False</td>\n",
       "      <td>False</td>\n",
       "      <td>False</td>\n",
       "      <td>True</td>\n",
       "    </tr>\n",
       "    <tr>\n",
       "      <th>3</th>\n",
       "      <td>False</td>\n",
       "      <td>False</td>\n",
       "      <td>False</td>\n",
       "      <td>False</td>\n",
       "      <td>False</td>\n",
       "    </tr>\n",
       "    <tr>\n",
       "      <th>4</th>\n",
       "      <td>False</td>\n",
       "      <td>False</td>\n",
       "      <td>False</td>\n",
       "      <td>False</td>\n",
       "      <td>True</td>\n",
       "    </tr>\n",
       "    <tr>\n",
       "      <th>5</th>\n",
       "      <td>False</td>\n",
       "      <td>False</td>\n",
       "      <td>False</td>\n",
       "      <td>False</td>\n",
       "      <td>True</td>\n",
       "    </tr>\n",
       "  </tbody>\n",
       "</table>\n",
       "</div>"
      ],
      "text/plain": [
       "    Name   date  amount  result  NoneValue\n",
       "0  False  False   False   False       True\n",
       "1  False  False   False   False       True\n",
       "2  False  False   False   False       True\n",
       "3  False  False   False   False      False\n",
       "4  False  False   False   False       True\n",
       "5  False  False   False   False       True"
      ]
     },
     "execution_count": 23,
     "metadata": {
      "tags": []
     },
     "output_type": "execute_result"
    }
   ],
   "source": [
    "# 비어있는 값으로 인식되지 않은 'Nan', 'NAN', '#n/a' 값을 na_values에 list로 추가해주세요. \n",
    "transaction_na = pd.read_csv('transaction_NA.csv', na_values=['Nan', 'NAN', '#n/a'])\n",
    "transaction_na.isnull()"
   ]
  },
  {
   "cell_type": "code",
   "execution_count": 0,
   "metadata": {
    "colab": {},
    "colab_type": "code",
    "id": "unuB69BtxK2l",
    "outputId": "4f63d6a2-1768-4e01-a369-1b72f6099f2b"
   },
   "outputs": [
    {
     "data": {
      "text/html": [
       "<div>\n",
       "<style>\n",
       "    .dataframe thead tr:only-child th {\n",
       "        text-align: right;\n",
       "    }\n",
       "\n",
       "    .dataframe thead th {\n",
       "        text-align: left;\n",
       "    }\n",
       "\n",
       "    .dataframe tbody tr th {\n",
       "        vertical-align: top;\n",
       "    }\n",
       "</style>\n",
       "<table border=\"1\" class=\"dataframe\">\n",
       "  <thead>\n",
       "    <tr style=\"text-align: right;\">\n",
       "      <th></th>\n",
       "      <th>Name</th>\n",
       "      <th>date</th>\n",
       "      <th>amount</th>\n",
       "      <th>result</th>\n",
       "      <th>NoneValue</th>\n",
       "    </tr>\n",
       "  </thead>\n",
       "  <tbody>\n",
       "    <tr>\n",
       "      <th>0</th>\n",
       "      <td>False</td>\n",
       "      <td>False</td>\n",
       "      <td>False</td>\n",
       "      <td>False</td>\n",
       "      <td>True</td>\n",
       "    </tr>\n",
       "    <tr>\n",
       "      <th>1</th>\n",
       "      <td>False</td>\n",
       "      <td>False</td>\n",
       "      <td>False</td>\n",
       "      <td>False</td>\n",
       "      <td>True</td>\n",
       "    </tr>\n",
       "    <tr>\n",
       "      <th>2</th>\n",
       "      <td>False</td>\n",
       "      <td>False</td>\n",
       "      <td>False</td>\n",
       "      <td>False</td>\n",
       "      <td>True</td>\n",
       "    </tr>\n",
       "    <tr>\n",
       "      <th>3</th>\n",
       "      <td>False</td>\n",
       "      <td>False</td>\n",
       "      <td>False</td>\n",
       "      <td>False</td>\n",
       "      <td>False</td>\n",
       "    </tr>\n",
       "    <tr>\n",
       "      <th>4</th>\n",
       "      <td>False</td>\n",
       "      <td>False</td>\n",
       "      <td>False</td>\n",
       "      <td>False</td>\n",
       "      <td>False</td>\n",
       "    </tr>\n",
       "    <tr>\n",
       "      <th>5</th>\n",
       "      <td>False</td>\n",
       "      <td>False</td>\n",
       "      <td>False</td>\n",
       "      <td>False</td>\n",
       "      <td>True</td>\n",
       "    </tr>\n",
       "  </tbody>\n",
       "</table>\n",
       "</div>"
      ],
      "text/plain": [
       "    Name   date  amount  result  NoneValue\n",
       "0  False  False   False   False       True\n",
       "1  False  False   False   False       True\n",
       "2  False  False   False   False       True\n",
       "3  False  False   False   False      False\n",
       "4  False  False   False   False      False\n",
       "5  False  False   False   False       True"
      ]
     },
     "execution_count": 24,
     "metadata": {
      "tags": []
     },
     "output_type": "execute_result"
    }
   ],
   "source": [
    "#혹시 기본 인식값 중에 문자 그대로 놔두고 싶은 문자가 있는 경우 keep_default_na를 False로 놓아주세요.\n",
    "transaction_na = pd.read_csv('transaction_NA.csv', na_values=['Nan', 'NAN', '#n/a', '#NA'], keep_default_na=False)\n",
    "transaction_na.isnull()"
   ]
  },
  {
   "cell_type": "markdown",
   "metadata": {
    "colab_type": "text",
    "id": "m5mUyjSgxK2n"
   },
   "source": [
    "** 파일의 경로를 지정하기 **\n",
    "\n",
    "``pd.read_csv`` 등으로 파일을 읽어올 때는 언제나 경로를 지정해줘야 합니다.\n",
    "\n",
    "만일 현재 쥬피터 노트북(.ipynb 확장자로 되어있는 파일)과 동일한 위치에 있다면 별도의 경로를 지정해줄 필요가 없지만, 같은 폴더가 아닌 곳에 위치해 있다면 파일의 경로를 지정해줘야 합니다."
   ]
  },
  {
   "cell_type": "code",
   "execution_count": 0,
   "metadata": {
    "colab": {},
    "colab_type": "code",
    "id": "MaxQCauBxK2o",
    "outputId": "dd1551f1-1d1d-4cce-e1f2-2d247bf4209e"
   },
   "outputs": [
    {
     "data": {
      "text/html": [
       "<div>\n",
       "<style>\n",
       "    .dataframe thead tr:only-child th {\n",
       "        text-align: right;\n",
       "    }\n",
       "\n",
       "    .dataframe thead th {\n",
       "        text-align: left;\n",
       "    }\n",
       "\n",
       "    .dataframe tbody tr th {\n",
       "        vertical-align: top;\n",
       "    }\n",
       "</style>\n",
       "<table border=\"1\" class=\"dataframe\">\n",
       "  <thead>\n",
       "    <tr style=\"text-align: right;\">\n",
       "      <th></th>\n",
       "      <th>Name</th>\n",
       "      <th>date</th>\n",
       "      <th>amount</th>\n",
       "      <th>result</th>\n",
       "      <th>date(한글)</th>\n",
       "    </tr>\n",
       "  </thead>\n",
       "  <tbody>\n",
       "    <tr>\n",
       "      <th>0</th>\n",
       "      <td>Kang</td>\n",
       "      <td>2017-01-01</td>\n",
       "      <td>500</td>\n",
       "      <td>confirmed</td>\n",
       "      <td>2017년 1월 1일</td>\n",
       "    </tr>\n",
       "    <tr>\n",
       "      <th>1</th>\n",
       "      <td>Kim</td>\n",
       "      <td>2017-01-03</td>\n",
       "      <td>700</td>\n",
       "      <td>confirmed</td>\n",
       "      <td>2017년 1월 3일</td>\n",
       "    </tr>\n",
       "    <tr>\n",
       "      <th>2</th>\n",
       "      <td>Choi</td>\n",
       "      <td>2017-01-05</td>\n",
       "      <td>800</td>\n",
       "      <td>confirmed</td>\n",
       "      <td>2017년 1월 5일</td>\n",
       "    </tr>\n",
       "    <tr>\n",
       "      <th>3</th>\n",
       "      <td>Park</td>\n",
       "      <td>2017-01-07</td>\n",
       "      <td>500</td>\n",
       "      <td>canceled</td>\n",
       "      <td>2017년 1월 7일</td>\n",
       "    </tr>\n",
       "    <tr>\n",
       "      <th>4</th>\n",
       "      <td>Lee</td>\n",
       "      <td>2017-01-09</td>\n",
       "      <td>700</td>\n",
       "      <td>confirmed</td>\n",
       "      <td>2017년 1월 9일</td>\n",
       "    </tr>\n",
       "    <tr>\n",
       "      <th>5</th>\n",
       "      <td>Yoon</td>\n",
       "      <td>2017-01-10</td>\n",
       "      <td>200</td>\n",
       "      <td>canceled</td>\n",
       "      <td>2017년 1월 10일</td>\n",
       "    </tr>\n",
       "  </tbody>\n",
       "</table>\n",
       "</div>"
      ],
      "text/plain": [
       "   Name        date  amount     result      date(한글)\n",
       "0  Kang  2017-01-01     500  confirmed   2017년 1월 1일\n",
       "1   Kim  2017-01-03     700  confirmed   2017년 1월 3일\n",
       "2  Choi  2017-01-05     800  confirmed   2017년 1월 5일\n",
       "3  Park  2017-01-07     500   canceled   2017년 1월 7일\n",
       "4   Lee  2017-01-09     700  confirmed   2017년 1월 9일\n",
       "5  Yoon  2017-01-10     200   canceled  2017년 1월 10일"
      ]
     },
     "execution_count": 25,
     "metadata": {
      "tags": []
     },
     "output_type": "execute_result"
    }
   ],
   "source": [
    "# 현재는 같은 폴더에 있기 떄문에 별도의 경로를 지정해줄 필요가 없습니다.\n",
    "pd.read_csv(\"transaction.csv\")"
   ]
  },
  {
   "cell_type": "markdown",
   "metadata": {
    "colab_type": "text",
    "id": "Gk7GZm8UxK2r"
   },
   "source": [
    "경로를 지정하는 방식은 크게 1) 절대경로 방식과 2) 상대경로 방식이 있습니다.\n",
    "\n",
    "**절대경로 방식**\n",
    "\n",
    "파일이 위치해 있는 전체 경로로 설정해주는 겁니다.\n",
    "\n",
    "가령 파일이 다운로드(Downloads) 폴더에 있으면 Windows 기준 C:/Users/shaynekang/Downloads/train.csv 가 되고, MacOS 기준 /Users/shaynekang/Downloads/train.csv 가 됩니다.\n",
    "\n",
    "해당 경로를 참고하여 pd.read_csv 코드를 변경해주시면 됩니다. (ex: pd.read_csv(\"C:/Users/shaynekang/Downloads/train.csv\")) 주의할 점은 파일 경로는 보통 역슬래시(\\\\)가 포함되는데, 파이썬에서 경로를 읽어올 때는 모든 역슬래시(\\\\)를 슬래시(/)로 바꿔줘야 합니다.\n",
    "\n",
    "\n",
    "** 상대경로 방식 **\n",
    "\n",
    "파일이 위치해 있는 상대적인 경로를 바탕으로 설정해주는 겁니다.\n",
    "\n",
    "이 경우는 노트북 파일의 위치가 중요합니다. (.ipynb 확장자로 저장됩니다)\n",
    "\n",
    "가령 노트북 파일이 바탕화면에 저장되어 있고, (C:/Users/shaynekang/Desktop에 저장되어 있는 titanic.ipynb) train.csv가 다운로드 폴더 (C:/Users/shaynekang/Downloads/)에 저장되어 있다면,\n",
    "\n",
    "pd.read_csv 코드를 pd.read_csv(\"../Downloads/train.csv\") 로 변경해주시면 됩니다. (../ 는 이전 폴더라는 의미이고, Downloads/는 다운로드 폴더에 있다는 의미입니다)\n"
   ]
  },
  {
   "cell_type": "markdown",
   "metadata": {
    "colab_type": "text",
    "id": "AujlcqIDxK2s"
   },
   "source": [
    "절대경로와 상대경로에 대한 자세한 사항은 [다음의 링크](http://88240.tistory.com/122)를 참고 바랍니다."
   ]
  },
  {
   "cell_type": "markdown",
   "metadata": {
    "colab_type": "text",
    "id": "2VOqQOqExK2t"
   },
   "source": [
    "** CSV가 아닌 파일을 읽어오기 **\n",
    "\n",
    "물론 데이터중에는 CSV가 아닌 형식으로 저장한 데이터도 있으며, 이런 데이터도 read_csv나 기타 메소드를 활용해서 읽어올 수 있습니다."
   ]
  },
  {
   "cell_type": "code",
   "execution_count": 0,
   "metadata": {
    "colab": {},
    "colab_type": "code",
    "id": "9nSKXpkGxK2t",
    "outputId": "74e7ba7b-0323-4b86-de0d-b74dfe888189"
   },
   "outputs": [
    {
     "data": {
      "text/html": [
       "<div>\n",
       "<style>\n",
       "    .dataframe thead tr:only-child th {\n",
       "        text-align: right;\n",
       "    }\n",
       "\n",
       "    .dataframe thead th {\n",
       "        text-align: left;\n",
       "    }\n",
       "\n",
       "    .dataframe tbody tr th {\n",
       "        vertical-align: top;\n",
       "    }\n",
       "</style>\n",
       "<table border=\"1\" class=\"dataframe\">\n",
       "  <thead>\n",
       "    <tr style=\"text-align: right;\">\n",
       "      <th></th>\n",
       "      <th>Name</th>\n",
       "      <th>date</th>\n",
       "      <th>amount</th>\n",
       "      <th>result</th>\n",
       "    </tr>\n",
       "  </thead>\n",
       "  <tbody>\n",
       "    <tr>\n",
       "      <th>0</th>\n",
       "      <td>Kang</td>\n",
       "      <td>2017-01-01</td>\n",
       "      <td>500</td>\n",
       "      <td>confirmed</td>\n",
       "    </tr>\n",
       "    <tr>\n",
       "      <th>1</th>\n",
       "      <td>Kim</td>\n",
       "      <td>2017-01-03</td>\n",
       "      <td>700</td>\n",
       "      <td>confirmed</td>\n",
       "    </tr>\n",
       "    <tr>\n",
       "      <th>2</th>\n",
       "      <td>Choi</td>\n",
       "      <td>2017-01-05</td>\n",
       "      <td>800</td>\n",
       "      <td>confirmed</td>\n",
       "    </tr>\n",
       "    <tr>\n",
       "      <th>3</th>\n",
       "      <td>Park</td>\n",
       "      <td>2017-01-07</td>\n",
       "      <td>500</td>\n",
       "      <td>canceled</td>\n",
       "    </tr>\n",
       "    <tr>\n",
       "      <th>4</th>\n",
       "      <td>Lee</td>\n",
       "      <td>2017-01-09</td>\n",
       "      <td>700</td>\n",
       "      <td>confirmed</td>\n",
       "    </tr>\n",
       "    <tr>\n",
       "      <th>5</th>\n",
       "      <td>Yoon</td>\n",
       "      <td>2017-01-10</td>\n",
       "      <td>200</td>\n",
       "      <td>canceled</td>\n",
       "    </tr>\n",
       "  </tbody>\n",
       "</table>\n",
       "</div>"
      ],
      "text/plain": [
       "   Name        date  amount     result\n",
       "0  Kang  2017-01-01     500  confirmed\n",
       "1   Kim  2017-01-03     700  confirmed\n",
       "2  Choi  2017-01-05     800  confirmed\n",
       "3  Park  2017-01-07     500   canceled\n",
       "4   Lee  2017-01-09     700  confirmed\n",
       "5  Yoon  2017-01-10     200   canceled"
      ]
     },
     "execution_count": 26,
     "metadata": {
      "tags": []
     },
     "output_type": "execute_result"
    }
   ],
   "source": [
    "# TSV 파일을 읽어오기.\n",
    "# CSV는 comma separated values의 약자이며, TSV는 tab separated values의 약자입니다.\n",
    "# 그러므로 read_csv를 그대로 사용하되, 구분하는 기준을 콤마(\",\")에서 탭(\"\\t\")으로 바꿔주면 됩니다.\n",
    "transaction = pd.read_csv(\"transaction.tsv\", sep=\"\\t\")\n",
    "transaction"
   ]
  },
  {
   "cell_type": "code",
   "execution_count": 0,
   "metadata": {
    "colab": {},
    "colab_type": "code",
    "id": "-2WBjRm2xK2v",
    "outputId": "21642357-f259-4e83-904c-40f71f3d6cd9"
   },
   "outputs": [
    {
     "ename": "ImportError",
     "evalue": "No module named 'xlrd'",
     "output_type": "error",
     "traceback": [
      "\u001b[0;31m------------------------------------------------------------------------\u001b[0m",
      "\u001b[0;31mImportError\u001b[0m                            Traceback (most recent call last)",
      "\u001b[0;32m<ipython-input-27-5d9c7b291750>\u001b[0m in \u001b[0;36m<module>\u001b[0;34m()\u001b[0m\n\u001b[1;32m      3\u001b[0m \u001b[0;31m# 엑셀은 하나의 파일에 여러개의 시트(Sheet)를 가지고 있는데, 기본적으로는 첫 번째 시트를 읽어옵니다.\u001b[0m\u001b[0;34m\u001b[0m\u001b[0;34m\u001b[0m\u001b[0m\n\u001b[1;32m      4\u001b[0m \u001b[0;31m# 하지만 다른 시트를 읽어오고 싶다면 sheet_name 옵션을 활용하면 됩니다.\u001b[0m\u001b[0;34m\u001b[0m\u001b[0;34m\u001b[0m\u001b[0m\n\u001b[0;32m----> 5\u001b[0;31m \u001b[0mtransaction\u001b[0m \u001b[0;34m=\u001b[0m \u001b[0mpd\u001b[0m\u001b[0;34m.\u001b[0m\u001b[0mread_excel\u001b[0m\u001b[0;34m(\u001b[0m\u001b[0;34m\"transaction.xls\"\u001b[0m\u001b[0;34m)\u001b[0m\u001b[0;34m\u001b[0m\u001b[0m\n\u001b[0m\u001b[1;32m      6\u001b[0m \u001b[0mtransaction\u001b[0m\u001b[0;34m\u001b[0m\u001b[0m\n",
      "\u001b[0;32m~/.pyenv/versions/3.5.1/envs/dsschool/lib/python3.5/site-packages/pandas/io/excel.py\u001b[0m in \u001b[0;36mread_excel\u001b[0;34m(io, sheetname, header, skiprows, skip_footer, index_col, names, parse_cols, parse_dates, date_parser, na_values, thousands, convert_float, has_index_names, converters, dtype, true_values, false_values, engine, squeeze, **kwds)\u001b[0m\n\u001b[1;32m    201\u001b[0m \u001b[0;34m\u001b[0m\u001b[0m\n\u001b[1;32m    202\u001b[0m     \u001b[0;32mif\u001b[0m \u001b[0;32mnot\u001b[0m \u001b[0misinstance\u001b[0m\u001b[0;34m(\u001b[0m\u001b[0mio\u001b[0m\u001b[0;34m,\u001b[0m \u001b[0mExcelFile\u001b[0m\u001b[0;34m)\u001b[0m\u001b[0;34m:\u001b[0m\u001b[0;34m\u001b[0m\u001b[0m\n\u001b[0;32m--> 203\u001b[0;31m         \u001b[0mio\u001b[0m \u001b[0;34m=\u001b[0m \u001b[0mExcelFile\u001b[0m\u001b[0;34m(\u001b[0m\u001b[0mio\u001b[0m\u001b[0;34m,\u001b[0m \u001b[0mengine\u001b[0m\u001b[0;34m=\u001b[0m\u001b[0mengine\u001b[0m\u001b[0;34m)\u001b[0m\u001b[0;34m\u001b[0m\u001b[0m\n\u001b[0m\u001b[1;32m    204\u001b[0m \u001b[0;34m\u001b[0m\u001b[0m\n\u001b[1;32m    205\u001b[0m     return io._parse_excel(\n",
      "\u001b[0;32m~/.pyenv/versions/3.5.1/envs/dsschool/lib/python3.5/site-packages/pandas/io/excel.py\u001b[0m in \u001b[0;36m__init__\u001b[0;34m(self, io, **kwds)\u001b[0m\n\u001b[1;32m    230\u001b[0m     \u001b[0;32mdef\u001b[0m \u001b[0m__init__\u001b[0m\u001b[0;34m(\u001b[0m\u001b[0mself\u001b[0m\u001b[0;34m,\u001b[0m \u001b[0mio\u001b[0m\u001b[0;34m,\u001b[0m \u001b[0;34m**\u001b[0m\u001b[0mkwds\u001b[0m\u001b[0;34m)\u001b[0m\u001b[0;34m:\u001b[0m\u001b[0;34m\u001b[0m\u001b[0m\n\u001b[1;32m    231\u001b[0m \u001b[0;34m\u001b[0m\u001b[0m\n\u001b[0;32m--> 232\u001b[0;31m         \u001b[0;32mimport\u001b[0m \u001b[0mxlrd\u001b[0m  \u001b[0;31m# throw an ImportError if we need to\u001b[0m\u001b[0;34m\u001b[0m\u001b[0m\n\u001b[0m\u001b[1;32m    233\u001b[0m \u001b[0;34m\u001b[0m\u001b[0m\n\u001b[1;32m    234\u001b[0m         \u001b[0mver\u001b[0m \u001b[0;34m=\u001b[0m \u001b[0mtuple\u001b[0m\u001b[0;34m(\u001b[0m\u001b[0mmap\u001b[0m\u001b[0;34m(\u001b[0m\u001b[0mint\u001b[0m\u001b[0;34m,\u001b[0m \u001b[0mxlrd\u001b[0m\u001b[0;34m.\u001b[0m\u001b[0m__VERSION__\u001b[0m\u001b[0;34m.\u001b[0m\u001b[0msplit\u001b[0m\u001b[0;34m(\u001b[0m\u001b[0;34m\".\"\u001b[0m\u001b[0;34m)\u001b[0m\u001b[0;34m[\u001b[0m\u001b[0;34m:\u001b[0m\u001b[0;36m2\u001b[0m\u001b[0;34m]\u001b[0m\u001b[0;34m)\u001b[0m\u001b[0;34m)\u001b[0m\u001b[0;34m\u001b[0m\u001b[0m\n",
      "\u001b[0;31mImportError\u001b[0m: No module named 'xlrd'"
     ]
    }
   ],
   "source": [
    "# 엑셀 파일 읽어오기\n",
    "# 이 경우에는 별도로 read_excel 이라는 함수를 사용합니다.\n",
    "# 엑셀은 하나의 파일에 여러개의 시트(Sheet)를 가지고 있는데, 기본적으로는 첫 번째 시트를 읽어옵니다.\n",
    "# 하지만 다른 시트를 읽어오고 싶다면 sheet_name 옵션을 활용하면 됩니다.\n",
    "transaction = pd.read_excel(\"transaction.xls\")\n",
    "transaction"
   ]
  },
  {
   "cell_type": "code",
   "execution_count": 0,
   "metadata": {
    "colab": {},
    "colab_type": "code",
    "id": "KTc2BvdOxK2y",
    "outputId": "df551097-4a67-4b4e-9b2d-cbc4adae324a"
   },
   "outputs": [
    {
     "ename": "ImportError",
     "evalue": "HDFStore requires PyTables, \"No module named 'tables'\" problem importing",
     "output_type": "error",
     "traceback": [
      "\u001b[0;31m------------------------------------------------------------------------\u001b[0m",
      "\u001b[0;31mImportError\u001b[0m                            Traceback (most recent call last)",
      "\u001b[0;32m~/.pyenv/versions/3.5.1/envs/dsschool/lib/python3.5/site-packages/pandas/io/pytables.py\u001b[0m in \u001b[0;36m__init__\u001b[0;34m(self, path, mode, complevel, complib, fletcher32, **kwargs)\u001b[0m\n\u001b[1;32m    446\u001b[0m         \u001b[0;32mtry\u001b[0m\u001b[0;34m:\u001b[0m\u001b[0;34m\u001b[0m\u001b[0m\n\u001b[0;32m--> 447\u001b[0;31m             \u001b[0;32mimport\u001b[0m \u001b[0mtables\u001b[0m  \u001b[0;31m# noqa\u001b[0m\u001b[0;34m\u001b[0m\u001b[0m\n\u001b[0m\u001b[1;32m    448\u001b[0m         \u001b[0;32mexcept\u001b[0m \u001b[0mImportError\u001b[0m \u001b[0;32mas\u001b[0m \u001b[0mex\u001b[0m\u001b[0;34m:\u001b[0m  \u001b[0;31m# pragma: no cover\u001b[0m\u001b[0;34m\u001b[0m\u001b[0m\n",
      "\u001b[0;31mImportError\u001b[0m: No module named 'tables'",
      "\nDuring handling of the above exception, another exception occurred:\n",
      "\u001b[0;31mImportError\u001b[0m                            Traceback (most recent call last)",
      "\u001b[0;32m<ipython-input-28-278e6e0f3ffa>\u001b[0m in \u001b[0;36m<module>\u001b[0;34m()\u001b[0m\n\u001b[1;32m      1\u001b[0m \u001b[0;31m# HDF 파일 읽어오기. 자주 사용하진 않지만, 가끔 대용량 데이터를 다룰 때 나오는 형식이다.\u001b[0m\u001b[0;34m\u001b[0m\u001b[0;34m\u001b[0m\u001b[0m\n\u001b[0;32m----> 2\u001b[0;31m \u001b[0mtransaction\u001b[0m \u001b[0;34m=\u001b[0m \u001b[0mpd\u001b[0m\u001b[0;34m.\u001b[0m\u001b[0mread_hdf\u001b[0m\u001b[0;34m(\u001b[0m\u001b[0;34m\"transaction.h5\"\u001b[0m\u001b[0;34m)\u001b[0m\u001b[0;34m\u001b[0m\u001b[0m\n\u001b[0m\u001b[1;32m      3\u001b[0m \u001b[0mtransaction\u001b[0m\u001b[0;34m\u001b[0m\u001b[0m\n",
      "\u001b[0;32m~/.pyenv/versions/3.5.1/envs/dsschool/lib/python3.5/site-packages/pandas/io/pytables.py\u001b[0m in \u001b[0;36mread_hdf\u001b[0;34m(path_or_buf, key, mode, **kwargs)\u001b[0m\n\u001b[1;32m    338\u001b[0m                 'File %s does not exist' % path_or_buf)\n\u001b[1;32m    339\u001b[0m \u001b[0;34m\u001b[0m\u001b[0m\n\u001b[0;32m--> 340\u001b[0;31m         \u001b[0mstore\u001b[0m \u001b[0;34m=\u001b[0m \u001b[0mHDFStore\u001b[0m\u001b[0;34m(\u001b[0m\u001b[0mpath_or_buf\u001b[0m\u001b[0;34m,\u001b[0m \u001b[0mmode\u001b[0m\u001b[0;34m=\u001b[0m\u001b[0mmode\u001b[0m\u001b[0;34m,\u001b[0m \u001b[0;34m**\u001b[0m\u001b[0mkwargs\u001b[0m\u001b[0;34m)\u001b[0m\u001b[0;34m\u001b[0m\u001b[0m\n\u001b[0m\u001b[1;32m    341\u001b[0m         \u001b[0;31m# can't auto open/close if we are using an iterator\u001b[0m\u001b[0;34m\u001b[0m\u001b[0;34m\u001b[0m\u001b[0m\n\u001b[1;32m    342\u001b[0m         \u001b[0;31m# so delegate to the iterator\u001b[0m\u001b[0;34m\u001b[0m\u001b[0;34m\u001b[0m\u001b[0m\n",
      "\u001b[0;32m~/.pyenv/versions/3.5.1/envs/dsschool/lib/python3.5/site-packages/pandas/io/pytables.py\u001b[0m in \u001b[0;36m__init__\u001b[0;34m(self, path, mode, complevel, complib, fletcher32, **kwargs)\u001b[0m\n\u001b[1;32m    448\u001b[0m         \u001b[0;32mexcept\u001b[0m \u001b[0mImportError\u001b[0m \u001b[0;32mas\u001b[0m \u001b[0mex\u001b[0m\u001b[0;34m:\u001b[0m  \u001b[0;31m# pragma: no cover\u001b[0m\u001b[0;34m\u001b[0m\u001b[0m\n\u001b[1;32m    449\u001b[0m             raise ImportError('HDFStore requires PyTables, \"{ex}\" problem '\n\u001b[0;32m--> 450\u001b[0;31m                               'importing'.format(ex=str(ex)))\n\u001b[0m\u001b[1;32m    451\u001b[0m \u001b[0;34m\u001b[0m\u001b[0m\n\u001b[1;32m    452\u001b[0m         \u001b[0;32mif\u001b[0m \u001b[0mcomplib\u001b[0m \u001b[0;32mis\u001b[0m \u001b[0;32mnot\u001b[0m \u001b[0;32mNone\u001b[0m \u001b[0;32mand\u001b[0m \u001b[0mcomplib\u001b[0m \u001b[0;32mnot\u001b[0m \u001b[0;32min\u001b[0m \u001b[0mtables\u001b[0m\u001b[0;34m.\u001b[0m\u001b[0mfilters\u001b[0m\u001b[0;34m.\u001b[0m\u001b[0mall_complibs\u001b[0m\u001b[0;34m:\u001b[0m\u001b[0;34m\u001b[0m\u001b[0m\n",
      "\u001b[0;31mImportError\u001b[0m: HDFStore requires PyTables, \"No module named 'tables'\" problem importing"
     ]
    }
   ],
   "source": [
    "# HDF 파일 읽어오기. 자주 사용하진 않지만, 가끔 대용량 데이터를 다룰 때 나오는 형식이다.\n",
    "transaction = pd.read_hdf(\"transaction.h5\")\n",
    "transaction"
   ]
  },
  {
   "cell_type": "code",
   "execution_count": 0,
   "metadata": {
    "colab": {},
    "colab_type": "code",
    "id": "p86rXwSExK2z",
    "outputId": "ac1c47f0-e2cf-4d7e-cc78-2c13331b7ea0"
   },
   "outputs": [
    {
     "data": {
      "text/html": [
       "<div>\n",
       "<style>\n",
       "    .dataframe thead tr:only-child th {\n",
       "        text-align: right;\n",
       "    }\n",
       "\n",
       "    .dataframe thead th {\n",
       "        text-align: left;\n",
       "    }\n",
       "\n",
       "    .dataframe tbody tr th {\n",
       "        vertical-align: top;\n",
       "    }\n",
       "</style>\n",
       "<table border=\"1\" class=\"dataframe\">\n",
       "  <thead>\n",
       "    <tr style=\"text-align: right;\">\n",
       "      <th></th>\n",
       "      <th>Name</th>\n",
       "      <th>date</th>\n",
       "      <th>amount</th>\n",
       "      <th>result</th>\n",
       "    </tr>\n",
       "  </thead>\n",
       "  <tbody>\n",
       "    <tr>\n",
       "      <th>0</th>\n",
       "      <td>Kang</td>\n",
       "      <td>2017-01-01</td>\n",
       "      <td>500</td>\n",
       "      <td>confirmed</td>\n",
       "    </tr>\n",
       "    <tr>\n",
       "      <th>1</th>\n",
       "      <td>Kim</td>\n",
       "      <td>2017-01-03</td>\n",
       "      <td>700</td>\n",
       "      <td>confirmed</td>\n",
       "    </tr>\n",
       "    <tr>\n",
       "      <th>2</th>\n",
       "      <td>Choi</td>\n",
       "      <td>2017-01-05</td>\n",
       "      <td>800</td>\n",
       "      <td>confirmed</td>\n",
       "    </tr>\n",
       "    <tr>\n",
       "      <th>3</th>\n",
       "      <td>Park</td>\n",
       "      <td>2017-01-07</td>\n",
       "      <td>500</td>\n",
       "      <td>canceled</td>\n",
       "    </tr>\n",
       "    <tr>\n",
       "      <th>4</th>\n",
       "      <td>Lee</td>\n",
       "      <td>2017-01-09</td>\n",
       "      <td>700</td>\n",
       "      <td>confirmed</td>\n",
       "    </tr>\n",
       "    <tr>\n",
       "      <th>5</th>\n",
       "      <td>Yoon</td>\n",
       "      <td>2017-01-10</td>\n",
       "      <td>200</td>\n",
       "      <td>canceled</td>\n",
       "    </tr>\n",
       "  </tbody>\n",
       "</table>\n",
       "</div>"
      ],
      "text/plain": [
       "   Name        date  amount     result\n",
       "0  Kang  2017-01-01     500  confirmed\n",
       "1   Kim  2017-01-03     700  confirmed\n",
       "2  Choi  2017-01-05     800  confirmed\n",
       "3  Park  2017-01-07     500   canceled\n",
       "4   Lee  2017-01-09     700  confirmed\n",
       "5  Yoon  2017-01-10     200   canceled"
      ]
     },
     "execution_count": 29,
     "metadata": {
      "tags": []
     },
     "output_type": "execute_result"
    }
   ],
   "source": [
    "# 심지어 URL로도 읽어올 수 있다!\n",
    "transaction_url = \"https://goo.gl/WhZcFA\"\n",
    "\n",
    "transaction = pd.read_csv(transaction_url)\n",
    "transaction"
   ]
  },
  {
   "cell_type": "markdown",
   "metadata": {
    "colab_type": "text",
    "id": "I_-csAZbxK21"
   },
   "source": [
    "### 데이터베이스에서 데이터를 읽어오기\n",
    "\n",
    "이번에는 CSV가 아닌 완전히 다른 방식으로 데이터를 읽어와보겠습니다. 바로 데이터베이스(Database)입니다.\n",
    "\n",
    "현업에서는 대부분의 데이터들이 데이터베이스(Database)라고 하는 전문적인 시스템을 통해 저장되어 있습니다. 가끔 MySQL, Oracle, SQLite3 이라는 프로그램을 들어보셨을텐데, 이 프로그램을 데이터베이스라고 합니다.\n",
    "\n",
    "보통 회사에서는 데이터베이스 관리자(내지는 개발자)가 데이터를 관리하며, 데이터 분석가는 데이터베이스 관리자에게 데이터를 요청하면, 관리자가 데이터를 뽑아와 CSV형식의 파일로 전달해줍니다.\n",
    "\n",
    "하지만 여러분들이 데이터베이스 관리자의 손을 거치지 않고 스스로 데이터베이스에서 데이터를 뽑아올 수 있다면, 병목 현상 없이 효율적으로 데이터를 읽어와 분석할 수 있습니다. 이 역할을 하는 것이 판다스의 [read_sql](https://pandas.pydata.org/pandas-docs/stable/generated/pandas.read_sql.html) 입니다.\n",
    "\n",
    "```read_sql```을 사용할 때는 반드시 데이터베이스를 연결한 뒤 쿼리(SQL, Structured Query Language) 라는 이름의 데이터베이스 전용 언어를 사용해야 합니다. 이번 수업에서는 이 SQL을 집중적으로 다뤄보겠습니다.\n",
    "\n",
    "수업에서는 SQLite를 이용하여 진행이 되지만, SQLite 말고도 MySQL이나 오라클(Oracle) 포함한 다양한 데이터베이스에서도 비슷한 방식으로 데이터를 읽어올 수 있습니다. 자세한 사항은 [다음의 링크](https://stackoverflow.com/a/11138275)를 참고해주세요.\n",
    "\n",
    "----"
   ]
  },
  {
   "cell_type": "markdown",
   "metadata": {
    "colab_type": "text",
    "id": "4iXSAWkMxK22"
   },
   "source": [
    "### SQL의 기본\n",
    "\n",
    "일반적인 SQL 교재를 보면 CREATE, INSERT부터 시작해서 다양한 SQL 문법들을 다루고 있습니다. 하지만 데이터분석가는 데이터를 추출만 하면 되기 때문에, 이러한 기능을 전부 사용할 필요가 없습니다. 여러분은 ```SELECT```, ```WHERE```, ```JOIN```을 필두로 한 몇몇 문법만 집중적으로 학습하면 됩니다. 주요 문법들은 다음과 같습니다.\n",
    "\n",
    "* SELECT * FROM transaction - transaction 이라는 이름의 데이터베이스 테이블에 있는 데이터를 전부 가져와라\n",
    "* SELECT Name, amount FROM transaction - transaction 이라는 이름의 데이터베이스 테이블에서, Name 컬럼과 amount 컬럼만 가져와라.\n",
    "* SELECT * FROM transaction LIMIT 3 - transaction 이라는 이름의 데이터베이스 테이블에서 데이터를 가져오는데, 상위 3개의 행(row)만 가져와라.\n",
    "\n",
    "쿼리에 대한 설명은 [다음의 링크](http://playdata.io/tutorials/sql)에서도 잘 설명되어 있습니다."
   ]
  },
  {
   "cell_type": "code",
   "execution_count": 0,
   "metadata": {
    "colab": {},
    "colab_type": "code",
    "id": "llPQbbNbxK23",
    "outputId": "534d7654-8257-4816-98b7-f43da1c3d3bb",
    "scrolled": true
   },
   "outputs": [
    {
     "name": "stdout",
     "output_type": "stream",
     "text": [
      "CREATE TABLE \"transaction\" (\n",
      "\"Name\" TEXT,\n",
      "  \"date\" TEXT,\n",
      "  \"amount\" INTEGER,\n",
      "  \"product\" TEXT,\n",
      "  \"result\" TEXT\n",
      ")\n",
      "CREATE TABLE \"product\" (\n",
      "\"product\" TEXT,\n",
      "  \"price\" REAL\n",
      ")\n",
      "CREATE TABLE \"user\" (\n",
      "\"Name\" TEXT,\n",
      "  \"Age\" INTEGER,\n",
      "  \"Sex\" TEXT,\n",
      "  \"email\" TEXT\n",
      ")\n"
     ]
    }
   ],
   "source": [
    "import sqlite3\n",
    "import pandas as pd\n",
    "\n",
    "# transaction.db라는 이름의 SQLite 데이터베이스에 연결합니다.\n",
    "connection = sqlite3.connect(\"pandas-transaction.db\")\n",
    "\n",
    "# 쿼리를 조합합니다. 여기서 중요한 건 테이블명은 반드시 홀따옴표(') 등으로 감싸줘야 합니다.\n",
    "query = \"SELECT * FROM sqlite_master;\"\n",
    "\n",
    "# read_sql으로 쿼리를 날려서 데이터베이스 스키마를 출력합니다.\n",
    "transaction = pd.read_sql_query(query, connection)['sql']\n",
    "\n",
    "for i in transaction:\n",
    "    print(i)"
   ]
  },
  {
   "cell_type": "markdown",
   "metadata": {
    "colab_type": "text",
    "id": "B-5s-kx8xK26"
   },
   "source": [
    "CREATE TABLE 오른쪽에 있는 것이 테이블의 이름이며, 소괄호 안의 문자들은 칼럼의 이름과 그 자료형을 나타냅니다."
   ]
  },
  {
   "cell_type": "markdown",
   "metadata": {
    "colab_type": "text",
    "id": "zXOjMt4LxK26"
   },
   "source": [
    "**데이터베이스에서 자료 가져오기**"
   ]
  },
  {
   "cell_type": "markdown",
   "metadata": {
    "colab_type": "text",
    "id": "ltAMyMQUxK27"
   },
   "source": [
    "먼저 가장 기본이 되는 ```SELECT```문부터 살펴보겠습니다.  SELECT문에는 언제나 FROM이 항상 따라니는데, FROM 뒤에는 선택을 원하는 데이터베이스 테이블 이름(ex: transaction)을 집어넣습니다. SELECT의 뒤에는 선택하고 싶은 열(column)을 지정하는데, 만일 모든 컬럼을 선택하고 싶은 경우에는 \\*을 입력하면 됩니다."
   ]
  },
  {
   "cell_type": "code",
   "execution_count": 0,
   "metadata": {
    "colab": {},
    "colab_type": "code",
    "id": "xZltR-zMxK27",
    "outputId": "a5350466-a998-471e-f64b-3ffe955c06f1"
   },
   "outputs": [
    {
     "data": {
      "text/html": [
       "<div>\n",
       "<style>\n",
       "    .dataframe thead tr:only-child th {\n",
       "        text-align: right;\n",
       "    }\n",
       "\n",
       "    .dataframe thead th {\n",
       "        text-align: left;\n",
       "    }\n",
       "\n",
       "    .dataframe tbody tr th {\n",
       "        vertical-align: top;\n",
       "    }\n",
       "</style>\n",
       "<table border=\"1\" class=\"dataframe\">\n",
       "  <thead>\n",
       "    <tr style=\"text-align: right;\">\n",
       "      <th></th>\n",
       "      <th>Name</th>\n",
       "      <th>date</th>\n",
       "      <th>amount</th>\n",
       "      <th>product</th>\n",
       "      <th>result</th>\n",
       "    </tr>\n",
       "  </thead>\n",
       "  <tbody>\n",
       "    <tr>\n",
       "      <th>0</th>\n",
       "      <td>Kang</td>\n",
       "      <td>2017-01-01</td>\n",
       "      <td>500</td>\n",
       "      <td>apple</td>\n",
       "      <td>confirmed</td>\n",
       "    </tr>\n",
       "    <tr>\n",
       "      <th>1</th>\n",
       "      <td>Kim</td>\n",
       "      <td>2017-01-03</td>\n",
       "      <td>700</td>\n",
       "      <td>banana</td>\n",
       "      <td>confirmed</td>\n",
       "    </tr>\n",
       "    <tr>\n",
       "      <th>2</th>\n",
       "      <td>Choi</td>\n",
       "      <td>2017-01-05</td>\n",
       "      <td>800</td>\n",
       "      <td>apple</td>\n",
       "      <td>confirmed</td>\n",
       "    </tr>\n",
       "    <tr>\n",
       "      <th>3</th>\n",
       "      <td>Park</td>\n",
       "      <td>2017-01-07</td>\n",
       "      <td>500</td>\n",
       "      <td>cereal</td>\n",
       "      <td>canceled</td>\n",
       "    </tr>\n",
       "    <tr>\n",
       "      <th>4</th>\n",
       "      <td>Kang</td>\n",
       "      <td>2017-01-08</td>\n",
       "      <td>1200</td>\n",
       "      <td>kiwi</td>\n",
       "      <td>confirmed</td>\n",
       "    </tr>\n",
       "    <tr>\n",
       "      <th>5</th>\n",
       "      <td>Choi</td>\n",
       "      <td>2017-01-09</td>\n",
       "      <td>100</td>\n",
       "      <td>melon</td>\n",
       "      <td>confirmed</td>\n",
       "    </tr>\n",
       "    <tr>\n",
       "      <th>6</th>\n",
       "      <td>Lee</td>\n",
       "      <td>2017-01-09</td>\n",
       "      <td>700</td>\n",
       "      <td>banana</td>\n",
       "      <td>confirmed</td>\n",
       "    </tr>\n",
       "    <tr>\n",
       "      <th>7</th>\n",
       "      <td>Yoon</td>\n",
       "      <td>2017-01-10</td>\n",
       "      <td>200</td>\n",
       "      <td>cereal</td>\n",
       "      <td>canceled</td>\n",
       "    </tr>\n",
       "  </tbody>\n",
       "</table>\n",
       "</div>"
      ],
      "text/plain": [
       "   Name        date  amount product     result\n",
       "0  Kang  2017-01-01     500   apple  confirmed\n",
       "1   Kim  2017-01-03     700  banana  confirmed\n",
       "2  Choi  2017-01-05     800   apple  confirmed\n",
       "3  Park  2017-01-07     500  cereal   canceled\n",
       "4  Kang  2017-01-08    1200    kiwi  confirmed\n",
       "5  Choi  2017-01-09     100   melon  confirmed\n",
       "6   Lee  2017-01-09     700  banana  confirmed\n",
       "7  Yoon  2017-01-10     200  cereal   canceled"
      ]
     },
     "execution_count": 31,
     "metadata": {
      "tags": []
     },
     "output_type": "execute_result"
    }
   ],
   "source": [
    "# transaction 테이블에서 모든 칼럼을 가져오는 쿼리문을 작성해보세요.\n",
    "# 쿼리를 조합합니다. 여기서 중요한 건 테이블명은 반드시 홀따옴표(') 등으로 감싸줘야 합니다.\n",
    "query = \"SELECT * FROM 'transaction'\"\n",
    "\n",
    "transaction = pd.read_sql(query, connection)\n",
    "transaction"
   ]
  },
  {
   "cell_type": "code",
   "execution_count": 0,
   "metadata": {
    "colab": {},
    "colab_type": "code",
    "id": "WRW2zyhcxK2_",
    "outputId": "c383fd62-8d77-4bc9-92fd-4497d879a26b"
   },
   "outputs": [
    {
     "data": {
      "text/html": [
       "<div>\n",
       "<style>\n",
       "    .dataframe thead tr:only-child th {\n",
       "        text-align: right;\n",
       "    }\n",
       "\n",
       "    .dataframe thead th {\n",
       "        text-align: left;\n",
       "    }\n",
       "\n",
       "    .dataframe tbody tr th {\n",
       "        vertical-align: top;\n",
       "    }\n",
       "</style>\n",
       "<table border=\"1\" class=\"dataframe\">\n",
       "  <thead>\n",
       "    <tr style=\"text-align: right;\">\n",
       "      <th></th>\n",
       "      <th>product</th>\n",
       "      <th>amount</th>\n",
       "    </tr>\n",
       "  </thead>\n",
       "  <tbody>\n",
       "    <tr>\n",
       "      <th>0</th>\n",
       "      <td>apple</td>\n",
       "      <td>500</td>\n",
       "    </tr>\n",
       "    <tr>\n",
       "      <th>1</th>\n",
       "      <td>banana</td>\n",
       "      <td>700</td>\n",
       "    </tr>\n",
       "    <tr>\n",
       "      <th>2</th>\n",
       "      <td>apple</td>\n",
       "      <td>800</td>\n",
       "    </tr>\n",
       "    <tr>\n",
       "      <th>3</th>\n",
       "      <td>cereal</td>\n",
       "      <td>500</td>\n",
       "    </tr>\n",
       "    <tr>\n",
       "      <th>4</th>\n",
       "      <td>kiwi</td>\n",
       "      <td>1200</td>\n",
       "    </tr>\n",
       "    <tr>\n",
       "      <th>5</th>\n",
       "      <td>melon</td>\n",
       "      <td>100</td>\n",
       "    </tr>\n",
       "    <tr>\n",
       "      <th>6</th>\n",
       "      <td>banana</td>\n",
       "      <td>700</td>\n",
       "    </tr>\n",
       "    <tr>\n",
       "      <th>7</th>\n",
       "      <td>cereal</td>\n",
       "      <td>200</td>\n",
       "    </tr>\n",
       "  </tbody>\n",
       "</table>\n",
       "</div>"
      ],
      "text/plain": [
       "  product  amount\n",
       "0   apple     500\n",
       "1  banana     700\n",
       "2   apple     800\n",
       "3  cereal     500\n",
       "4    kiwi    1200\n",
       "5   melon     100\n",
       "6  banana     700\n",
       "7  cereal     200"
      ]
     },
     "execution_count": 32,
     "metadata": {
      "tags": []
     },
     "output_type": "execute_result"
    }
   ],
   "source": [
    "# 모든 컬럼이 아닌 product 컬럼과 amount 컬럼만 읽어옵니다.\n",
    "query = \"SELECT product, amount FROM 'transaction'\"\n",
    "\n",
    "transaction = pd.read_sql(query, connection)\n",
    "transaction"
   ]
  },
  {
   "cell_type": "markdown",
   "metadata": {
    "colab_type": "text",
    "id": "HUI2kfLIxK3E"
   },
   "source": [
    "SQL도 ```read_csv```의 ```nrows``` 옵션처럼 상위 n개의 데이터만 불러오는 옵션이 있습니다. ```SELECT * FROM table``` 문 뒤에 ```LIMIT n``` 을 입력해주면 됩니다."
   ]
  },
  {
   "cell_type": "code",
   "execution_count": 0,
   "metadata": {
    "colab": {},
    "colab_type": "code",
    "id": "ahEtpajrxK3F",
    "outputId": "539173d9-fe9a-41b7-8c2c-5f75e7596a6b"
   },
   "outputs": [
    {
     "data": {
      "text/html": [
       "<div>\n",
       "<style>\n",
       "    .dataframe thead tr:only-child th {\n",
       "        text-align: right;\n",
       "    }\n",
       "\n",
       "    .dataframe thead th {\n",
       "        text-align: left;\n",
       "    }\n",
       "\n",
       "    .dataframe tbody tr th {\n",
       "        vertical-align: top;\n",
       "    }\n",
       "</style>\n",
       "<table border=\"1\" class=\"dataframe\">\n",
       "  <thead>\n",
       "    <tr style=\"text-align: right;\">\n",
       "      <th></th>\n",
       "      <th>Name</th>\n",
       "      <th>date</th>\n",
       "      <th>amount</th>\n",
       "      <th>product</th>\n",
       "      <th>result</th>\n",
       "    </tr>\n",
       "  </thead>\n",
       "  <tbody>\n",
       "    <tr>\n",
       "      <th>0</th>\n",
       "      <td>Kang</td>\n",
       "      <td>2017-01-01</td>\n",
       "      <td>500</td>\n",
       "      <td>apple</td>\n",
       "      <td>confirmed</td>\n",
       "    </tr>\n",
       "    <tr>\n",
       "      <th>1</th>\n",
       "      <td>Kim</td>\n",
       "      <td>2017-01-03</td>\n",
       "      <td>700</td>\n",
       "      <td>banana</td>\n",
       "      <td>confirmed</td>\n",
       "    </tr>\n",
       "    <tr>\n",
       "      <th>2</th>\n",
       "      <td>Choi</td>\n",
       "      <td>2017-01-05</td>\n",
       "      <td>800</td>\n",
       "      <td>apple</td>\n",
       "      <td>confirmed</td>\n",
       "    </tr>\n",
       "  </tbody>\n",
       "</table>\n",
       "</div>"
      ],
      "text/plain": [
       "   Name        date  amount product     result\n",
       "0  Kang  2017-01-01     500   apple  confirmed\n",
       "1   Kim  2017-01-03     700  banana  confirmed\n",
       "2  Choi  2017-01-05     800   apple  confirmed"
      ]
     },
     "execution_count": 33,
     "metadata": {
      "tags": []
     },
     "output_type": "execute_result"
    }
   ],
   "source": [
    "# 모든 행(row)이 아닌 상위 3개 행만 읽어옵니다.\n",
    "query = \"SELECT * FROM 'transaction' LIMIT 3\"\n",
    "\n",
    "transaction = pd.read_sql(query, connection)\n",
    "transaction"
   ]
  },
  {
   "cell_type": "markdown",
   "metadata": {
    "colab_type": "text",
    "id": "EaR17AhExK3K"
   },
   "source": [
    "데이터를 불러올 때 원하는 조건의 데이터만 불러오고 싶은 경우가 있는데요, 이 때 WHERE을 이용하여 조건에 맞는 행만 불러올 수 있습니다. 조건을 검색할 때 사용하는 연산자가 파이썬이나 판다스와는 조금 다릅니다.\n"
   ]
  },
  {
   "cell_type": "markdown",
   "metadata": {
    "colab_type": "text",
    "id": "PiQ2ufZtxK3L"
   },
   "source": [
    "| 기호               | 설명                           |\n",
    "| ----------------- | -------------------------- |\n",
    "| =                 | 같음                       |\n",
    "| <> (또는 !=)      | 같지 않음                  |\n",
    "| >                 | 크다                       |\n",
    "| <                 | 작다                       |\n",
    "| >=                | 크거나 같다                |\n",
    "| <=                | 작거나 같다                |\n",
    "| BETWEEN (A AND B) | 특정 범위 (A~B) 사이       |\n",
    "| LIKE              | 패턴 탐색                  |\n",
    "| IN (A, B, ...)    | (A, B, ...) 안에 값이 있음 |\n",
    "\n",
    "LIKE의 기능은 잠시 후 설명하도록 하겠습니다."
   ]
  },
  {
   "cell_type": "code",
   "execution_count": 0,
   "metadata": {
    "colab": {},
    "colab_type": "code",
    "id": "5A3iFB-_xK3L",
    "outputId": "6f94f432-8667-43d8-d73e-a858324b613f"
   },
   "outputs": [
    {
     "data": {
      "text/html": [
       "<div>\n",
       "<style>\n",
       "    .dataframe thead tr:only-child th {\n",
       "        text-align: right;\n",
       "    }\n",
       "\n",
       "    .dataframe thead th {\n",
       "        text-align: left;\n",
       "    }\n",
       "\n",
       "    .dataframe tbody tr th {\n",
       "        vertical-align: top;\n",
       "    }\n",
       "</style>\n",
       "<table border=\"1\" class=\"dataframe\">\n",
       "  <thead>\n",
       "    <tr style=\"text-align: right;\">\n",
       "      <th></th>\n",
       "      <th>Name</th>\n",
       "      <th>date</th>\n",
       "      <th>amount</th>\n",
       "      <th>product</th>\n",
       "      <th>result</th>\n",
       "    </tr>\n",
       "  </thead>\n",
       "  <tbody>\n",
       "    <tr>\n",
       "      <th>0</th>\n",
       "      <td>Kim</td>\n",
       "      <td>2017-01-03</td>\n",
       "      <td>700</td>\n",
       "      <td>banana</td>\n",
       "      <td>confirmed</td>\n",
       "    </tr>\n",
       "    <tr>\n",
       "      <th>1</th>\n",
       "      <td>Choi</td>\n",
       "      <td>2017-01-05</td>\n",
       "      <td>800</td>\n",
       "      <td>apple</td>\n",
       "      <td>confirmed</td>\n",
       "    </tr>\n",
       "    <tr>\n",
       "      <th>2</th>\n",
       "      <td>Kang</td>\n",
       "      <td>2017-01-08</td>\n",
       "      <td>1200</td>\n",
       "      <td>kiwi</td>\n",
       "      <td>confirmed</td>\n",
       "    </tr>\n",
       "    <tr>\n",
       "      <th>3</th>\n",
       "      <td>Lee</td>\n",
       "      <td>2017-01-09</td>\n",
       "      <td>700</td>\n",
       "      <td>banana</td>\n",
       "      <td>confirmed</td>\n",
       "    </tr>\n",
       "  </tbody>\n",
       "</table>\n",
       "</div>"
      ],
      "text/plain": [
       "   Name        date  amount product     result\n",
       "0   Kim  2017-01-03     700  banana  confirmed\n",
       "1  Choi  2017-01-05     800   apple  confirmed\n",
       "2  Kang  2017-01-08    1200    kiwi  confirmed\n",
       "3   Lee  2017-01-09     700  banana  confirmed"
      ]
     },
     "execution_count": 34,
     "metadata": {
      "tags": []
     },
     "output_type": "execute_result"
    }
   ],
   "source": [
    "# amount가 500 이상인 데이터만 transaction에서 불러와 주세요.\n",
    "query = \"SELECT * FROM 'transaction' WHERE amount > 500\"\n",
    "\n",
    "transaction = pd.read_sql(query, connection)\n",
    "transaction"
   ]
  },
  {
   "cell_type": "code",
   "execution_count": 0,
   "metadata": {
    "colab": {},
    "colab_type": "code",
    "id": "63xUFff1xK3N",
    "outputId": "67a49bcc-a5cf-4221-e4cb-a7627c3b5c27"
   },
   "outputs": [
    {
     "data": {
      "text/html": [
       "<div>\n",
       "<style>\n",
       "    .dataframe thead tr:only-child th {\n",
       "        text-align: right;\n",
       "    }\n",
       "\n",
       "    .dataframe thead th {\n",
       "        text-align: left;\n",
       "    }\n",
       "\n",
       "    .dataframe tbody tr th {\n",
       "        vertical-align: top;\n",
       "    }\n",
       "</style>\n",
       "<table border=\"1\" class=\"dataframe\">\n",
       "  <thead>\n",
       "    <tr style=\"text-align: right;\">\n",
       "      <th></th>\n",
       "      <th>Name</th>\n",
       "      <th>date</th>\n",
       "      <th>amount</th>\n",
       "      <th>product</th>\n",
       "      <th>result</th>\n",
       "    </tr>\n",
       "  </thead>\n",
       "  <tbody>\n",
       "    <tr>\n",
       "      <th>0</th>\n",
       "      <td>Kang</td>\n",
       "      <td>2017-01-01</td>\n",
       "      <td>500</td>\n",
       "      <td>apple</td>\n",
       "      <td>confirmed</td>\n",
       "    </tr>\n",
       "    <tr>\n",
       "      <th>1</th>\n",
       "      <td>Choi</td>\n",
       "      <td>2017-01-05</td>\n",
       "      <td>800</td>\n",
       "      <td>apple</td>\n",
       "      <td>confirmed</td>\n",
       "    </tr>\n",
       "    <tr>\n",
       "      <th>2</th>\n",
       "      <td>Park</td>\n",
       "      <td>2017-01-07</td>\n",
       "      <td>500</td>\n",
       "      <td>cereal</td>\n",
       "      <td>canceled</td>\n",
       "    </tr>\n",
       "    <tr>\n",
       "      <th>3</th>\n",
       "      <td>Kang</td>\n",
       "      <td>2017-01-08</td>\n",
       "      <td>1200</td>\n",
       "      <td>kiwi</td>\n",
       "      <td>confirmed</td>\n",
       "    </tr>\n",
       "    <tr>\n",
       "      <th>4</th>\n",
       "      <td>Choi</td>\n",
       "      <td>2017-01-09</td>\n",
       "      <td>100</td>\n",
       "      <td>melon</td>\n",
       "      <td>confirmed</td>\n",
       "    </tr>\n",
       "    <tr>\n",
       "      <th>5</th>\n",
       "      <td>Yoon</td>\n",
       "      <td>2017-01-10</td>\n",
       "      <td>200</td>\n",
       "      <td>cereal</td>\n",
       "      <td>canceled</td>\n",
       "    </tr>\n",
       "  </tbody>\n",
       "</table>\n",
       "</div>"
      ],
      "text/plain": [
       "   Name        date  amount product     result\n",
       "0  Kang  2017-01-01     500   apple  confirmed\n",
       "1  Choi  2017-01-05     800   apple  confirmed\n",
       "2  Park  2017-01-07     500  cereal   canceled\n",
       "3  Kang  2017-01-08    1200    kiwi  confirmed\n",
       "4  Choi  2017-01-09     100   melon  confirmed\n",
       "5  Yoon  2017-01-10     200  cereal   canceled"
      ]
     },
     "execution_count": 35,
     "metadata": {
      "tags": []
     },
     "output_type": "execute_result"
    }
   ],
   "source": [
    "# product가 banana가 아닌 데이터만 불러와주세요.\n",
    "\n",
    "query = \"SELECT * FROM 'transaction' WHERE product <> 'banana'\"\n",
    "\n",
    "transaction = pd.read_sql(query, connection)\n",
    "transaction"
   ]
  },
  {
   "cell_type": "code",
   "execution_count": 0,
   "metadata": {
    "colab": {},
    "colab_type": "code",
    "id": "6wdG2b-JxK3P",
    "outputId": "335c69ee-94e6-4154-f1f9-a22f360573da"
   },
   "outputs": [
    {
     "data": {
      "text/html": [
       "<div>\n",
       "<style>\n",
       "    .dataframe thead tr:only-child th {\n",
       "        text-align: right;\n",
       "    }\n",
       "\n",
       "    .dataframe thead th {\n",
       "        text-align: left;\n",
       "    }\n",
       "\n",
       "    .dataframe tbody tr th {\n",
       "        vertical-align: top;\n",
       "    }\n",
       "</style>\n",
       "<table border=\"1\" class=\"dataframe\">\n",
       "  <thead>\n",
       "    <tr style=\"text-align: right;\">\n",
       "      <th></th>\n",
       "      <th>Name</th>\n",
       "      <th>date</th>\n",
       "      <th>amount</th>\n",
       "      <th>product</th>\n",
       "      <th>result</th>\n",
       "    </tr>\n",
       "  </thead>\n",
       "  <tbody>\n",
       "    <tr>\n",
       "      <th>0</th>\n",
       "      <td>Kang</td>\n",
       "      <td>2017-01-01</td>\n",
       "      <td>500</td>\n",
       "      <td>apple</td>\n",
       "      <td>confirmed</td>\n",
       "    </tr>\n",
       "    <tr>\n",
       "      <th>1</th>\n",
       "      <td>Kim</td>\n",
       "      <td>2017-01-03</td>\n",
       "      <td>700</td>\n",
       "      <td>banana</td>\n",
       "      <td>confirmed</td>\n",
       "    </tr>\n",
       "    <tr>\n",
       "      <th>2</th>\n",
       "      <td>Choi</td>\n",
       "      <td>2017-01-05</td>\n",
       "      <td>800</td>\n",
       "      <td>apple</td>\n",
       "      <td>confirmed</td>\n",
       "    </tr>\n",
       "    <tr>\n",
       "      <th>3</th>\n",
       "      <td>Park</td>\n",
       "      <td>2017-01-07</td>\n",
       "      <td>500</td>\n",
       "      <td>cereal</td>\n",
       "      <td>canceled</td>\n",
       "    </tr>\n",
       "    <tr>\n",
       "      <th>4</th>\n",
       "      <td>Lee</td>\n",
       "      <td>2017-01-09</td>\n",
       "      <td>700</td>\n",
       "      <td>banana</td>\n",
       "      <td>confirmed</td>\n",
       "    </tr>\n",
       "  </tbody>\n",
       "</table>\n",
       "</div>"
      ],
      "text/plain": [
       "   Name        date  amount product     result\n",
       "0  Kang  2017-01-01     500   apple  confirmed\n",
       "1   Kim  2017-01-03     700  banana  confirmed\n",
       "2  Choi  2017-01-05     800   apple  confirmed\n",
       "3  Park  2017-01-07     500  cereal   canceled\n",
       "4   Lee  2017-01-09     700  banana  confirmed"
      ]
     },
     "execution_count": 36,
     "metadata": {
      "tags": []
     },
     "output_type": "execute_result"
    }
   ],
   "source": [
    "# amount가 400과 900 사이인 데이터만 불러와 주세요.\n",
    "\n",
    "query = \"SELECT * FROM 'transaction' WHERE amount BETWEEN 400 AND 900\"\n",
    "\n",
    "# AND를 이용하여 아래와 같이 작성할 수도 있습니다.\n",
    "# query = \"SELECT * FROM 'transaction' WHERE (amount > 400 AND amount < 900)\"\n",
    "\n",
    "transaction = pd.read_sql(query, connection)\n",
    "transaction"
   ]
  },
  {
   "cell_type": "code",
   "execution_count": 0,
   "metadata": {
    "colab": {},
    "colab_type": "code",
    "id": "fFMYYIK7xK3T",
    "outputId": "392a2dca-36e8-4a25-f1a2-b935c916e1c4"
   },
   "outputs": [
    {
     "data": {
      "text/html": [
       "<div>\n",
       "<style>\n",
       "    .dataframe thead tr:only-child th {\n",
       "        text-align: right;\n",
       "    }\n",
       "\n",
       "    .dataframe thead th {\n",
       "        text-align: left;\n",
       "    }\n",
       "\n",
       "    .dataframe tbody tr th {\n",
       "        vertical-align: top;\n",
       "    }\n",
       "</style>\n",
       "<table border=\"1\" class=\"dataframe\">\n",
       "  <thead>\n",
       "    <tr style=\"text-align: right;\">\n",
       "      <th></th>\n",
       "      <th>Name</th>\n",
       "      <th>date</th>\n",
       "      <th>amount</th>\n",
       "      <th>product</th>\n",
       "      <th>result</th>\n",
       "    </tr>\n",
       "  </thead>\n",
       "  <tbody>\n",
       "    <tr>\n",
       "      <th>0</th>\n",
       "      <td>Park</td>\n",
       "      <td>2017-01-07</td>\n",
       "      <td>500</td>\n",
       "      <td>cereal</td>\n",
       "      <td>canceled</td>\n",
       "    </tr>\n",
       "    <tr>\n",
       "      <th>1</th>\n",
       "      <td>Kang</td>\n",
       "      <td>2017-01-08</td>\n",
       "      <td>1200</td>\n",
       "      <td>kiwi</td>\n",
       "      <td>confirmed</td>\n",
       "    </tr>\n",
       "    <tr>\n",
       "      <th>2</th>\n",
       "      <td>Choi</td>\n",
       "      <td>2017-01-09</td>\n",
       "      <td>100</td>\n",
       "      <td>melon</td>\n",
       "      <td>confirmed</td>\n",
       "    </tr>\n",
       "    <tr>\n",
       "      <th>3</th>\n",
       "      <td>Yoon</td>\n",
       "      <td>2017-01-10</td>\n",
       "      <td>200</td>\n",
       "      <td>cereal</td>\n",
       "      <td>canceled</td>\n",
       "    </tr>\n",
       "  </tbody>\n",
       "</table>\n",
       "</div>"
      ],
      "text/plain": [
       "   Name        date  amount product     result\n",
       "0  Park  2017-01-07     500  cereal   canceled\n",
       "1  Kang  2017-01-08    1200    kiwi  confirmed\n",
       "2  Choi  2017-01-09     100   melon  confirmed\n",
       "3  Yoon  2017-01-10     200  cereal   canceled"
      ]
     },
     "execution_count": 37,
     "metadata": {
      "tags": []
     },
     "output_type": "execute_result"
    }
   ],
   "source": [
    "# product가 cereal, kiwi, melon인 데이터를 불러와주세요.\n",
    "\n",
    "query = \"SELECT * FROM 'transaction' WHERE product IN ('cereal', 'kiwi', 'melon')\"\n",
    "\n",
    "transaction = pd.read_sql(query, connection)\n",
    "transaction"
   ]
  },
  {
   "cell_type": "markdown",
   "metadata": {
    "colab_type": "text",
    "id": "xRYte-e0xK3X"
   },
   "source": [
    "추출한 데이터를 정렬하여 추출하는 방법도 있습니다.\n",
    "\n",
    "\n",
    "`WHERE 조건문 ORDER BY 칼럼명 DESC 또는 ASC`\n",
    "\n",
    "DESC는 데이터를 내림차순 (큰수 -> 작은수)로 정리하고, ASC는 오름차순 (작은수 -> 높은수)로 정리합니다."
   ]
  },
  {
   "cell_type": "code",
   "execution_count": 0,
   "metadata": {
    "colab": {},
    "colab_type": "code",
    "id": "atIc6cKfxK3Z",
    "outputId": "70257405-06e2-4432-a353-5f129c12ae3d",
    "scrolled": true
   },
   "outputs": [
    {
     "data": {
      "text/html": [
       "<div>\n",
       "<style>\n",
       "    .dataframe thead tr:only-child th {\n",
       "        text-align: right;\n",
       "    }\n",
       "\n",
       "    .dataframe thead th {\n",
       "        text-align: left;\n",
       "    }\n",
       "\n",
       "    .dataframe tbody tr th {\n",
       "        vertical-align: top;\n",
       "    }\n",
       "</style>\n",
       "<table border=\"1\" class=\"dataframe\">\n",
       "  <thead>\n",
       "    <tr style=\"text-align: right;\">\n",
       "      <th></th>\n",
       "      <th>Name</th>\n",
       "      <th>date</th>\n",
       "      <th>amount</th>\n",
       "      <th>product</th>\n",
       "      <th>result</th>\n",
       "    </tr>\n",
       "  </thead>\n",
       "  <tbody>\n",
       "    <tr>\n",
       "      <th>0</th>\n",
       "      <td>Kang</td>\n",
       "      <td>2017-01-08</td>\n",
       "      <td>1200</td>\n",
       "      <td>kiwi</td>\n",
       "      <td>confirmed</td>\n",
       "    </tr>\n",
       "    <tr>\n",
       "      <th>1</th>\n",
       "      <td>Choi</td>\n",
       "      <td>2017-01-05</td>\n",
       "      <td>800</td>\n",
       "      <td>apple</td>\n",
       "      <td>confirmed</td>\n",
       "    </tr>\n",
       "    <tr>\n",
       "      <th>2</th>\n",
       "      <td>Kim</td>\n",
       "      <td>2017-01-03</td>\n",
       "      <td>700</td>\n",
       "      <td>banana</td>\n",
       "      <td>confirmed</td>\n",
       "    </tr>\n",
       "    <tr>\n",
       "      <th>3</th>\n",
       "      <td>Lee</td>\n",
       "      <td>2017-01-09</td>\n",
       "      <td>700</td>\n",
       "      <td>banana</td>\n",
       "      <td>confirmed</td>\n",
       "    </tr>\n",
       "    <tr>\n",
       "      <th>4</th>\n",
       "      <td>Kang</td>\n",
       "      <td>2017-01-01</td>\n",
       "      <td>500</td>\n",
       "      <td>apple</td>\n",
       "      <td>confirmed</td>\n",
       "    </tr>\n",
       "    <tr>\n",
       "      <th>5</th>\n",
       "      <td>Park</td>\n",
       "      <td>2017-01-07</td>\n",
       "      <td>500</td>\n",
       "      <td>cereal</td>\n",
       "      <td>canceled</td>\n",
       "    </tr>\n",
       "  </tbody>\n",
       "</table>\n",
       "</div>"
      ],
      "text/plain": [
       "   Name        date  amount product     result\n",
       "0  Kang  2017-01-08    1200    kiwi  confirmed\n",
       "1  Choi  2017-01-05     800   apple  confirmed\n",
       "2   Kim  2017-01-03     700  banana  confirmed\n",
       "3   Lee  2017-01-09     700  banana  confirmed\n",
       "4  Kang  2017-01-01     500   apple  confirmed\n",
       "5  Park  2017-01-07     500  cereal   canceled"
      ]
     },
     "execution_count": 38,
     "metadata": {
      "tags": []
     },
     "output_type": "execute_result"
    }
   ],
   "source": [
    "#amount가 300이상인 데이터를 내림차순으로 정리해주세요.\n",
    "query = \"SELECT * FROM 'transaction' WHERE amount > 300 ORDER BY amount DESC\"\n",
    "\n",
    "transaction = pd.read_sql(query, connection)\n",
    "transaction"
   ]
  },
  {
   "cell_type": "markdown",
   "metadata": {
    "colab_type": "text",
    "id": "PjtduqVlxK3b"
   },
   "source": [
    "문자열 조건 검색에는 LIKE가 많이 사용됩니다. LIKE는 사용방법이 특이하지만, 한 번 익혀두면 아주 유용하게 사용할 수 있는 기능입니다."
   ]
  },
  {
   "cell_type": "markdown",
   "metadata": {
    "colab_type": "text",
    "id": "DN_amhgvxK3b"
   },
   "source": [
    "LIKE는 와일드카드라 불리는 %와 _를 이용하여 패턴을 탐색합니다.\n",
    "\n",
    "%와 _의 기능은 다음과 같습니다.\n",
    "\n",
    "- % - 0개부터 여러개의 문자를 나타냄\n",
    "- _ - 하나의 문자를 나타냄\n",
    "\n",
    "사용예제를 보면 이를 조금 더 쉽게 이해할 수 있습니다.\n",
    "\n",
    "| LIKE    | 설명                                      |\n",
    "| ------- | ----------------------------------------- |\n",
    "| 'a%'    | a로 시작하는 모든 데이터                  |\n",
    "| '%a'    | a로 끝나는 모든 데이터                    |\n",
    "| '%or%'  | or가 위치에 상관없이 포함된 데이터        |\n",
    "| '_r%'   | r이 2번째 위치에 있는 데이터              |\n",
    "| 'a\\_%_' | a로 시작하고 적어도 길이가 3이상인 데이터 |\n",
    "| 'a%o'   | a로 시작하고 o로 끝나는 데이터            |\n",
    "\n",
    "\n"
   ]
  },
  {
   "cell_type": "code",
   "execution_count": 0,
   "metadata": {
    "colab": {},
    "colab_type": "code",
    "id": "kJFnwtzPxK3c",
    "outputId": "2b909666-11e1-4b13-d751-8ea7ff627c91"
   },
   "outputs": [
    {
     "data": {
      "text/html": [
       "<div>\n",
       "<style>\n",
       "    .dataframe thead tr:only-child th {\n",
       "        text-align: right;\n",
       "    }\n",
       "\n",
       "    .dataframe thead th {\n",
       "        text-align: left;\n",
       "    }\n",
       "\n",
       "    .dataframe tbody tr th {\n",
       "        vertical-align: top;\n",
       "    }\n",
       "</style>\n",
       "<table border=\"1\" class=\"dataframe\">\n",
       "  <thead>\n",
       "    <tr style=\"text-align: right;\">\n",
       "      <th></th>\n",
       "      <th>Name</th>\n",
       "      <th>date</th>\n",
       "      <th>amount</th>\n",
       "      <th>product</th>\n",
       "      <th>result</th>\n",
       "    </tr>\n",
       "  </thead>\n",
       "  <tbody>\n",
       "    <tr>\n",
       "      <th>0</th>\n",
       "      <td>Kang</td>\n",
       "      <td>2017-01-01</td>\n",
       "      <td>500</td>\n",
       "      <td>apple</td>\n",
       "      <td>confirmed</td>\n",
       "    </tr>\n",
       "    <tr>\n",
       "      <th>1</th>\n",
       "      <td>Kim</td>\n",
       "      <td>2017-01-03</td>\n",
       "      <td>700</td>\n",
       "      <td>banana</td>\n",
       "      <td>confirmed</td>\n",
       "    </tr>\n",
       "    <tr>\n",
       "      <th>2</th>\n",
       "      <td>Park</td>\n",
       "      <td>2017-01-07</td>\n",
       "      <td>500</td>\n",
       "      <td>cereal</td>\n",
       "      <td>canceled</td>\n",
       "    </tr>\n",
       "    <tr>\n",
       "      <th>3</th>\n",
       "      <td>Kang</td>\n",
       "      <td>2017-01-08</td>\n",
       "      <td>1200</td>\n",
       "      <td>kiwi</td>\n",
       "      <td>confirmed</td>\n",
       "    </tr>\n",
       "  </tbody>\n",
       "</table>\n",
       "</div>"
      ],
      "text/plain": [
       "   Name        date  amount product     result\n",
       "0  Kang  2017-01-01     500   apple  confirmed\n",
       "1   Kim  2017-01-03     700  banana  confirmed\n",
       "2  Park  2017-01-07     500  cereal   canceled\n",
       "3  Kang  2017-01-08    1200    kiwi  confirmed"
      ]
     },
     "execution_count": 39,
     "metadata": {
      "tags": []
     },
     "output_type": "execute_result"
    }
   ],
   "source": [
    "# Name에 k가 들어가는 경우를 찾아주세요.\n",
    "query = \"SELECT * FROM 'transaction' WHERE name LIKE '%k%'\"\n",
    "\n",
    "transaction = pd.read_sql(query, connection)\n",
    "transaction"
   ]
  },
  {
   "cell_type": "code",
   "execution_count": 0,
   "metadata": {
    "colab": {},
    "colab_type": "code",
    "id": "d7csB-vBxK3f"
   },
   "outputs": [],
   "source": [
    "# case-insensitive가 기본 옵션인데 sqlite3의 경우는\n",
    "# a = connection.cursor()\n",
    "# a.execute(\"PRAGMA case_sensitive_like = on\")\n",
    "# 를 이용해 case-sensitive하게 만들 수 있다."
   ]
  },
  {
   "cell_type": "markdown",
   "metadata": {
    "colab_type": "text",
    "id": "G7VCigg3xK3h"
   },
   "source": [
    "### SQL을 사용하여 공통된 칼럼이 있는 데이터를 하나로 합치기"
   ]
  },
  {
   "cell_type": "markdown",
   "metadata": {
    "colab_type": "text",
    "id": "BcdRFKRvxK3i"
   },
   "source": [
    "이번에는 SQL 문법 중 가장 핵심에 속하는 ```JOIN```을 배워보도록 하겠습니다.\n",
    "\n",
    "현업에서는 데이터가 여러 개의 테이블로 나눠져 저장된 경우가 많습니다. 이 때 여러 개로 나눠진 데이터를 하나로 합치는데 가장 중요한 역할을 하는 것이 ```JOIN``` 문법입니다. 이 ```JOIN``` 문법을 잘 쓰냐 그렇지 못하냐에 따라 데이터분석가의 실력이 갈리기도 합니다.\n",
    "\n",
    "이번 시간에는 ```JOIN``` 문법을 자세히 알아보겠습니다. ```JOIN``` 문법은 여러 가지 종류가 있지만, 그 중 가장 많이 쓰이는 ```INNER JOIN```과 ```LEFT JOIN```을 집중적으로 다뤄보겠습니다."
   ]
  },
  {
   "cell_type": "code",
   "execution_count": 0,
   "metadata": {
    "colab": {},
    "colab_type": "code",
    "id": "LL2VFNnSxK3i",
    "outputId": "edf299d4-55d9-482a-b33e-e1fa73ff38e4"
   },
   "outputs": [
    {
     "data": {
      "text/html": [
       "<div>\n",
       "<style>\n",
       "    .dataframe thead tr:only-child th {\n",
       "        text-align: right;\n",
       "    }\n",
       "\n",
       "    .dataframe thead th {\n",
       "        text-align: left;\n",
       "    }\n",
       "\n",
       "    .dataframe tbody tr th {\n",
       "        vertical-align: top;\n",
       "    }\n",
       "</style>\n",
       "<table border=\"1\" class=\"dataframe\">\n",
       "  <thead>\n",
       "    <tr style=\"text-align: right;\">\n",
       "      <th></th>\n",
       "      <th>Name</th>\n",
       "      <th>date</th>\n",
       "      <th>amount</th>\n",
       "      <th>product</th>\n",
       "      <th>result</th>\n",
       "    </tr>\n",
       "  </thead>\n",
       "  <tbody>\n",
       "    <tr>\n",
       "      <th>0</th>\n",
       "      <td>Kang</td>\n",
       "      <td>2017-01-01</td>\n",
       "      <td>500</td>\n",
       "      <td>apple</td>\n",
       "      <td>confirmed</td>\n",
       "    </tr>\n",
       "    <tr>\n",
       "      <th>1</th>\n",
       "      <td>Kim</td>\n",
       "      <td>2017-01-03</td>\n",
       "      <td>700</td>\n",
       "      <td>banana</td>\n",
       "      <td>confirmed</td>\n",
       "    </tr>\n",
       "    <tr>\n",
       "      <th>2</th>\n",
       "      <td>Choi</td>\n",
       "      <td>2017-01-05</td>\n",
       "      <td>800</td>\n",
       "      <td>apple</td>\n",
       "      <td>confirmed</td>\n",
       "    </tr>\n",
       "    <tr>\n",
       "      <th>3</th>\n",
       "      <td>Park</td>\n",
       "      <td>2017-01-07</td>\n",
       "      <td>500</td>\n",
       "      <td>cereal</td>\n",
       "      <td>canceled</td>\n",
       "    </tr>\n",
       "    <tr>\n",
       "      <th>4</th>\n",
       "      <td>Kang</td>\n",
       "      <td>2017-01-08</td>\n",
       "      <td>1200</td>\n",
       "      <td>kiwi</td>\n",
       "      <td>confirmed</td>\n",
       "    </tr>\n",
       "    <tr>\n",
       "      <th>5</th>\n",
       "      <td>Choi</td>\n",
       "      <td>2017-01-09</td>\n",
       "      <td>100</td>\n",
       "      <td>melon</td>\n",
       "      <td>confirmed</td>\n",
       "    </tr>\n",
       "    <tr>\n",
       "      <th>6</th>\n",
       "      <td>Lee</td>\n",
       "      <td>2017-01-09</td>\n",
       "      <td>700</td>\n",
       "      <td>banana</td>\n",
       "      <td>confirmed</td>\n",
       "    </tr>\n",
       "    <tr>\n",
       "      <th>7</th>\n",
       "      <td>Yoon</td>\n",
       "      <td>2017-01-10</td>\n",
       "      <td>200</td>\n",
       "      <td>cereal</td>\n",
       "      <td>canceled</td>\n",
       "    </tr>\n",
       "  </tbody>\n",
       "</table>\n",
       "</div>"
      ],
      "text/plain": [
       "   Name        date  amount product     result\n",
       "0  Kang  2017-01-01     500   apple  confirmed\n",
       "1   Kim  2017-01-03     700  banana  confirmed\n",
       "2  Choi  2017-01-05     800   apple  confirmed\n",
       "3  Park  2017-01-07     500  cereal   canceled\n",
       "4  Kang  2017-01-08    1200    kiwi  confirmed\n",
       "5  Choi  2017-01-09     100   melon  confirmed\n",
       "6   Lee  2017-01-09     700  banana  confirmed\n",
       "7  Yoon  2017-01-10     200  cereal   canceled"
      ]
     },
     "execution_count": 41,
     "metadata": {
      "tags": []
     },
     "output_type": "execute_result"
    }
   ],
   "source": [
    "#transaction 테이블을 불러와 transaction 변수에 저장해주세요.\n",
    "query = \"SELECT * FROM 'transaction' \"\n",
    "\n",
    "transaction = pd.read_sql(query, connection)\n",
    "transaction"
   ]
  },
  {
   "cell_type": "code",
   "execution_count": 0,
   "metadata": {
    "colab": {},
    "colab_type": "code",
    "id": "Oh6AxvXfxK3k",
    "outputId": "ce3a35a8-aea9-4780-c912-1f1d64aca161",
    "scrolled": false
   },
   "outputs": [
    {
     "data": {
      "text/html": [
       "<div>\n",
       "<style>\n",
       "    .dataframe thead tr:only-child th {\n",
       "        text-align: right;\n",
       "    }\n",
       "\n",
       "    .dataframe thead th {\n",
       "        text-align: left;\n",
       "    }\n",
       "\n",
       "    .dataframe tbody tr th {\n",
       "        vertical-align: top;\n",
       "    }\n",
       "</style>\n",
       "<table border=\"1\" class=\"dataframe\">\n",
       "  <thead>\n",
       "    <tr style=\"text-align: right;\">\n",
       "      <th></th>\n",
       "      <th>Name</th>\n",
       "      <th>Age</th>\n",
       "      <th>Sex</th>\n",
       "      <th>email</th>\n",
       "    </tr>\n",
       "  </thead>\n",
       "  <tbody>\n",
       "    <tr>\n",
       "      <th>0</th>\n",
       "      <td>Kang</td>\n",
       "      <td>30</td>\n",
       "      <td>male</td>\n",
       "      <td>kang@gmail.com</td>\n",
       "    </tr>\n",
       "    <tr>\n",
       "      <th>1</th>\n",
       "      <td>Kim</td>\n",
       "      <td>22</td>\n",
       "      <td>female</td>\n",
       "      <td>kim@naver.com</td>\n",
       "    </tr>\n",
       "    <tr>\n",
       "      <th>2</th>\n",
       "      <td>Park</td>\n",
       "      <td>37</td>\n",
       "      <td>male</td>\n",
       "      <td>park@dsschool.co.kr</td>\n",
       "    </tr>\n",
       "    <tr>\n",
       "      <th>3</th>\n",
       "      <td>Lee</td>\n",
       "      <td>15</td>\n",
       "      <td>female</td>\n",
       "      <td>lee@empas.co.kr</td>\n",
       "    </tr>\n",
       "    <tr>\n",
       "      <th>4</th>\n",
       "      <td>Son</td>\n",
       "      <td>29</td>\n",
       "      <td>male</td>\n",
       "      <td>son@google.co.uk</td>\n",
       "    </tr>\n",
       "    <tr>\n",
       "      <th>5</th>\n",
       "      <td>Moon</td>\n",
       "      <td>40</td>\n",
       "      <td>female</td>\n",
       "      <td>moon@hanmail.com</td>\n",
       "    </tr>\n",
       "    <tr>\n",
       "      <th>6</th>\n",
       "      <td>Choi</td>\n",
       "      <td>34</td>\n",
       "      <td>male</td>\n",
       "      <td>choi@yahoo.com</td>\n",
       "    </tr>\n",
       "  </tbody>\n",
       "</table>\n",
       "</div>"
      ],
      "text/plain": [
       "   Name  Age     Sex                email\n",
       "0  Kang   30    male       kang@gmail.com\n",
       "1   Kim   22  female        kim@naver.com\n",
       "2  Park   37    male  park@dsschool.co.kr\n",
       "3   Lee   15  female      lee@empas.co.kr\n",
       "4   Son   29    male     son@google.co.uk\n",
       "5  Moon   40  female     moon@hanmail.com\n",
       "6  Choi   34    male       choi@yahoo.com"
      ]
     },
     "execution_count": 42,
     "metadata": {
      "tags": []
     },
     "output_type": "execute_result"
    }
   ],
   "source": [
    "# user테이블을 불러와 user 변수에 저장해주세요.\n",
    "query = \"SELECT * FROM 'user' \"\n",
    "\n",
    "user = pd.read_sql(query, connection)\n",
    "user"
   ]
  },
  {
   "cell_type": "code",
   "execution_count": 0,
   "metadata": {
    "colab": {},
    "colab_type": "code",
    "id": "W9qSL4NYxK3m",
    "outputId": "86669934-d6b3-473b-d6fe-d679b2d2c55f"
   },
   "outputs": [
    {
     "data": {
      "text/html": [
       "<div>\n",
       "<style>\n",
       "    .dataframe thead tr:only-child th {\n",
       "        text-align: right;\n",
       "    }\n",
       "\n",
       "    .dataframe thead th {\n",
       "        text-align: left;\n",
       "    }\n",
       "\n",
       "    .dataframe tbody tr th {\n",
       "        vertical-align: top;\n",
       "    }\n",
       "</style>\n",
       "<table border=\"1\" class=\"dataframe\">\n",
       "  <thead>\n",
       "    <tr style=\"text-align: right;\">\n",
       "      <th></th>\n",
       "      <th>product</th>\n",
       "      <th>price</th>\n",
       "    </tr>\n",
       "  </thead>\n",
       "  <tbody>\n",
       "    <tr>\n",
       "      <th>0</th>\n",
       "      <td>apple</td>\n",
       "      <td>5.0</td>\n",
       "    </tr>\n",
       "    <tr>\n",
       "      <th>1</th>\n",
       "      <td>blueberry</td>\n",
       "      <td>7.0</td>\n",
       "    </tr>\n",
       "    <tr>\n",
       "      <th>2</th>\n",
       "      <td>banana</td>\n",
       "      <td>2.5</td>\n",
       "    </tr>\n",
       "    <tr>\n",
       "      <th>3</th>\n",
       "      <td>cereal</td>\n",
       "      <td>4.5</td>\n",
       "    </tr>\n",
       "    <tr>\n",
       "      <th>4</th>\n",
       "      <td>kiwi</td>\n",
       "      <td>10.0</td>\n",
       "    </tr>\n",
       "    <tr>\n",
       "      <th>5</th>\n",
       "      <td>melon</td>\n",
       "      <td>12.5</td>\n",
       "    </tr>\n",
       "    <tr>\n",
       "      <th>6</th>\n",
       "      <td>pineapple</td>\n",
       "      <td>15.0</td>\n",
       "    </tr>\n",
       "  </tbody>\n",
       "</table>\n",
       "</div>"
      ],
      "text/plain": [
       "     product  price\n",
       "0      apple    5.0\n",
       "1  blueberry    7.0\n",
       "2     banana    2.5\n",
       "3     cereal    4.5\n",
       "4       kiwi   10.0\n",
       "5      melon   12.5\n",
       "6  pineapple   15.0"
      ]
     },
     "execution_count": 43,
     "metadata": {
      "tags": []
     },
     "output_type": "execute_result"
    }
   ],
   "source": [
    "#product 테이블을 불러와 product 변수에 저장해주세요.\n",
    "query = \"SELECT * FROM 'product' \"\n",
    "\n",
    "product = pd.read_sql(query, connection)\n",
    "product"
   ]
  },
  {
   "cell_type": "markdown",
   "metadata": {
    "colab_type": "text",
    "id": "KrE51IxaxK3n"
   },
   "source": [
    "이 DB의 스키마를 다이어그램으로 그리면 다음과 같습니다."
   ]
  },
  {
   "cell_type": "markdown",
   "metadata": {
    "colab_type": "text",
    "id": "xN2gsDWRxK3o"
   },
   "source": [
    "![](https://i.imgur.com/kl2KD2S.png)"
   ]
  },
  {
   "cell_type": "markdown",
   "metadata": {
    "colab_type": "text",
    "id": "_1muHdK6xK3o"
   },
   "source": [
    "예를 들어, 바나나를 구입한 사람의 평균나이를 구해야하는 경우에는 transaction 테이블과 user 테이블을 JOIN 해야하고, 시리얼의 총 판매금액을 구해야하는 경우에는 transaction 테이블과 product 테이블을 JOIN 해야 합니다.\n",
    "\n",
    "이렇게 DB 스키마를 다이어그램으로 표현해놓으면, 향후에 어떤 테이블을 어떻게 조인하여 불러와야할지 쉽게 파악할 수 있습니다."
   ]
  },
  {
   "cell_type": "markdown",
   "metadata": {
    "colab_type": "text",
    "id": "JbUUIgt6xK3p"
   },
   "source": [
    "**JOIN의 종류**"
   ]
  },
  {
   "cell_type": "markdown",
   "metadata": {
    "colab_type": "text",
    "id": "z-AjGA60xK3p"
   },
   "source": [
    "![](https://i.imgur.com/qzWkrUx.png)"
   ]
  },
  {
   "cell_type": "markdown",
   "metadata": {
    "colab_type": "text",
    "id": "LEevxhl1xK3r"
   },
   "source": [
    "- LEFT JOIN\n",
    "\n",
    "LEFT JOIN은 JOIN문을 기준으로 왼쪽 테이블의 정보의 키와 같은 키가 있는 오른쪽 테이블의 정보만 가져오는 것입니다. 만약 오른쪽 테이블에 왼쪽 테이블에 존재하는 키가 없다면 이는 결과에 출력되지 않습니다. \n",
    "\n",
    "사용 방법은 `SELECT * FROM 왼쪽 테이블 LEFT JOIN 오른쪽 테이블 ON '왼쪽 테이블'.키 = '오른쪽 테이블'.키` 입니다.\n",
    "예제로 이를 확인해보세요."
   ]
  },
  {
   "cell_type": "code",
   "execution_count": 0,
   "metadata": {
    "colab": {},
    "colab_type": "code",
    "id": "2-fgV_ebxK3r",
    "outputId": "0dbc7c1f-df47-4038-b48d-813eefdf06f1",
    "scrolled": false
   },
   "outputs": [
    {
     "data": {
      "text/html": [
       "<div>\n",
       "<style>\n",
       "    .dataframe thead tr:only-child th {\n",
       "        text-align: right;\n",
       "    }\n",
       "\n",
       "    .dataframe thead th {\n",
       "        text-align: left;\n",
       "    }\n",
       "\n",
       "    .dataframe tbody tr th {\n",
       "        vertical-align: top;\n",
       "    }\n",
       "</style>\n",
       "<table border=\"1\" class=\"dataframe\">\n",
       "  <thead>\n",
       "    <tr style=\"text-align: right;\">\n",
       "      <th></th>\n",
       "      <th>Name</th>\n",
       "      <th>date</th>\n",
       "      <th>amount</th>\n",
       "      <th>product</th>\n",
       "      <th>result</th>\n",
       "      <th>Name</th>\n",
       "      <th>Age</th>\n",
       "      <th>Sex</th>\n",
       "      <th>email</th>\n",
       "    </tr>\n",
       "  </thead>\n",
       "  <tbody>\n",
       "    <tr>\n",
       "      <th>0</th>\n",
       "      <td>Kang</td>\n",
       "      <td>2017-01-01</td>\n",
       "      <td>500</td>\n",
       "      <td>apple</td>\n",
       "      <td>confirmed</td>\n",
       "      <td>Kang</td>\n",
       "      <td>30.0</td>\n",
       "      <td>male</td>\n",
       "      <td>kang@gmail.com</td>\n",
       "    </tr>\n",
       "    <tr>\n",
       "      <th>1</th>\n",
       "      <td>Kim</td>\n",
       "      <td>2017-01-03</td>\n",
       "      <td>700</td>\n",
       "      <td>banana</td>\n",
       "      <td>confirmed</td>\n",
       "      <td>Kim</td>\n",
       "      <td>22.0</td>\n",
       "      <td>female</td>\n",
       "      <td>kim@naver.com</td>\n",
       "    </tr>\n",
       "    <tr>\n",
       "      <th>2</th>\n",
       "      <td>Choi</td>\n",
       "      <td>2017-01-05</td>\n",
       "      <td>800</td>\n",
       "      <td>apple</td>\n",
       "      <td>confirmed</td>\n",
       "      <td>Choi</td>\n",
       "      <td>34.0</td>\n",
       "      <td>male</td>\n",
       "      <td>choi@yahoo.com</td>\n",
       "    </tr>\n",
       "    <tr>\n",
       "      <th>3</th>\n",
       "      <td>Park</td>\n",
       "      <td>2017-01-07</td>\n",
       "      <td>500</td>\n",
       "      <td>cereal</td>\n",
       "      <td>canceled</td>\n",
       "      <td>Park</td>\n",
       "      <td>37.0</td>\n",
       "      <td>male</td>\n",
       "      <td>park@dsschool.co.kr</td>\n",
       "    </tr>\n",
       "    <tr>\n",
       "      <th>4</th>\n",
       "      <td>Kang</td>\n",
       "      <td>2017-01-08</td>\n",
       "      <td>1200</td>\n",
       "      <td>kiwi</td>\n",
       "      <td>confirmed</td>\n",
       "      <td>Kang</td>\n",
       "      <td>30.0</td>\n",
       "      <td>male</td>\n",
       "      <td>kang@gmail.com</td>\n",
       "    </tr>\n",
       "    <tr>\n",
       "      <th>5</th>\n",
       "      <td>Choi</td>\n",
       "      <td>2017-01-09</td>\n",
       "      <td>100</td>\n",
       "      <td>melon</td>\n",
       "      <td>confirmed</td>\n",
       "      <td>Choi</td>\n",
       "      <td>34.0</td>\n",
       "      <td>male</td>\n",
       "      <td>choi@yahoo.com</td>\n",
       "    </tr>\n",
       "    <tr>\n",
       "      <th>6</th>\n",
       "      <td>Lee</td>\n",
       "      <td>2017-01-09</td>\n",
       "      <td>700</td>\n",
       "      <td>banana</td>\n",
       "      <td>confirmed</td>\n",
       "      <td>Lee</td>\n",
       "      <td>15.0</td>\n",
       "      <td>female</td>\n",
       "      <td>lee@empas.co.kr</td>\n",
       "    </tr>\n",
       "    <tr>\n",
       "      <th>7</th>\n",
       "      <td>Yoon</td>\n",
       "      <td>2017-01-10</td>\n",
       "      <td>200</td>\n",
       "      <td>cereal</td>\n",
       "      <td>canceled</td>\n",
       "      <td>None</td>\n",
       "      <td>NaN</td>\n",
       "      <td>None</td>\n",
       "      <td>None</td>\n",
       "    </tr>\n",
       "  </tbody>\n",
       "</table>\n",
       "</div>"
      ],
      "text/plain": [
       "   Name        date  amount product     result  Name   Age     Sex  \\\n",
       "0  Kang  2017-01-01     500   apple  confirmed  Kang  30.0    male   \n",
       "1   Kim  2017-01-03     700  banana  confirmed   Kim  22.0  female   \n",
       "2  Choi  2017-01-05     800   apple  confirmed  Choi  34.0    male   \n",
       "3  Park  2017-01-07     500  cereal   canceled  Park  37.0    male   \n",
       "4  Kang  2017-01-08    1200    kiwi  confirmed  Kang  30.0    male   \n",
       "5  Choi  2017-01-09     100   melon  confirmed  Choi  34.0    male   \n",
       "6   Lee  2017-01-09     700  banana  confirmed   Lee  15.0  female   \n",
       "7  Yoon  2017-01-10     200  cereal   canceled  None   NaN    None   \n",
       "\n",
       "                 email  \n",
       "0       kang@gmail.com  \n",
       "1        kim@naver.com  \n",
       "2       choi@yahoo.com  \n",
       "3  park@dsschool.co.kr  \n",
       "4       kang@gmail.com  \n",
       "5       choi@yahoo.com  \n",
       "6      lee@empas.co.kr  \n",
       "7                 None  "
      ]
     },
     "execution_count": 44,
     "metadata": {
      "tags": []
     },
     "output_type": "execute_result"
    }
   ],
   "source": [
    "# LEFT JOIN으로 transaction과 user를 합쳐주세요. key는 Name을 사용해주세요.\n",
    "query = \"SELECT * FROM 'transaction' LEFT JOIN 'user' ON 'transaction'.Name = 'user'.Name\"\n",
    "\n",
    "transaction = pd.read_sql(query, connection)\n",
    "transaction"
   ]
  },
  {
   "cell_type": "markdown",
   "metadata": {
    "colab_type": "text",
    "id": "Pqfv6heMxK3t"
   },
   "source": [
    "테이블의 왼쪽에 transaction 테이블이, 그리고 join된 user 테이블이 오른쪽에 있는 것을 확인할 수 있습니다.\n",
    "\n",
    "Name을 중심으로 조인했기 때문에 동일한 Name이 왼쪽과 오른쪽에 들어간 것을 확인할 수 있는데, user 테이블에 Yoon에 관련된 데이터는 비어있기 때문에 해당 user 정보는 비어있는 것을 확인할 수 있습니다. 이렇게 왼쪽 테이블을 기준으로 join하는 것을 LEFT JOIN이라고 합니다.\n",
    "\n",
    "이 중 transaction 테이블의 Name, result, 그리고 user 테이블의 Age, Sex만을 불러오고 싶은 경우 다음과 같이 입력해주시면 됩니다."
   ]
  },
  {
   "cell_type": "code",
   "execution_count": 0,
   "metadata": {
    "colab": {},
    "colab_type": "code",
    "id": "lMd-qkXUxK3t",
    "outputId": "5f8b028d-fd26-488d-dfc7-c1fb3786bff5"
   },
   "outputs": [
    {
     "data": {
      "text/html": [
       "<div>\n",
       "<style>\n",
       "    .dataframe thead tr:only-child th {\n",
       "        text-align: right;\n",
       "    }\n",
       "\n",
       "    .dataframe thead th {\n",
       "        text-align: left;\n",
       "    }\n",
       "\n",
       "    .dataframe tbody tr th {\n",
       "        vertical-align: top;\n",
       "    }\n",
       "</style>\n",
       "<table border=\"1\" class=\"dataframe\">\n",
       "  <thead>\n",
       "    <tr style=\"text-align: right;\">\n",
       "      <th></th>\n",
       "      <th>Name</th>\n",
       "      <th>result</th>\n",
       "      <th>Age</th>\n",
       "      <th>Sex</th>\n",
       "    </tr>\n",
       "  </thead>\n",
       "  <tbody>\n",
       "    <tr>\n",
       "      <th>0</th>\n",
       "      <td>Kang</td>\n",
       "      <td>confirmed</td>\n",
       "      <td>30.0</td>\n",
       "      <td>male</td>\n",
       "    </tr>\n",
       "    <tr>\n",
       "      <th>1</th>\n",
       "      <td>Kim</td>\n",
       "      <td>confirmed</td>\n",
       "      <td>22.0</td>\n",
       "      <td>female</td>\n",
       "    </tr>\n",
       "    <tr>\n",
       "      <th>2</th>\n",
       "      <td>Choi</td>\n",
       "      <td>confirmed</td>\n",
       "      <td>34.0</td>\n",
       "      <td>male</td>\n",
       "    </tr>\n",
       "    <tr>\n",
       "      <th>3</th>\n",
       "      <td>Park</td>\n",
       "      <td>canceled</td>\n",
       "      <td>37.0</td>\n",
       "      <td>male</td>\n",
       "    </tr>\n",
       "    <tr>\n",
       "      <th>4</th>\n",
       "      <td>Kang</td>\n",
       "      <td>confirmed</td>\n",
       "      <td>30.0</td>\n",
       "      <td>male</td>\n",
       "    </tr>\n",
       "    <tr>\n",
       "      <th>5</th>\n",
       "      <td>Choi</td>\n",
       "      <td>confirmed</td>\n",
       "      <td>34.0</td>\n",
       "      <td>male</td>\n",
       "    </tr>\n",
       "    <tr>\n",
       "      <th>6</th>\n",
       "      <td>Lee</td>\n",
       "      <td>confirmed</td>\n",
       "      <td>15.0</td>\n",
       "      <td>female</td>\n",
       "    </tr>\n",
       "    <tr>\n",
       "      <th>7</th>\n",
       "      <td>Yoon</td>\n",
       "      <td>canceled</td>\n",
       "      <td>NaN</td>\n",
       "      <td>None</td>\n",
       "    </tr>\n",
       "  </tbody>\n",
       "</table>\n",
       "</div>"
      ],
      "text/plain": [
       "   Name     result   Age     Sex\n",
       "0  Kang  confirmed  30.0    male\n",
       "1   Kim  confirmed  22.0  female\n",
       "2  Choi  confirmed  34.0    male\n",
       "3  Park   canceled  37.0    male\n",
       "4  Kang  confirmed  30.0    male\n",
       "5  Choi  confirmed  34.0    male\n",
       "6   Lee  confirmed  15.0  female\n",
       "7  Yoon   canceled   NaN    None"
      ]
     },
     "execution_count": 45,
     "metadata": {
      "tags": []
     },
     "output_type": "execute_result"
    }
   ],
   "source": [
    "# LEFT JOIN으로 transaction과 user를 합쳐주세요. key는 Name을 사용해주세요.\n",
    "query = \"SELECT 'transaction'.Name, 'transaction'.result, 'user'.Age, 'user'.Sex \\\n",
    "FROM 'transaction' \\\n",
    "LEFT JOIN 'user' ON 'transaction'.Name = 'user'.Name\"\n",
    "\n",
    "transaction = pd.read_sql(query, connection)\n",
    "transaction"
   ]
  },
  {
   "cell_type": "markdown",
   "metadata": {
    "colab_type": "text",
    "id": "9xJelhCRxK3v"
   },
   "source": [
    "**INNER JOIN**\n",
    "\n",
    "INNER JOIN은 양쪽에 공통으로 존재하는 키에 대해서만 데이터를 살려 JOIN하는 기능입니다."
   ]
  },
  {
   "cell_type": "code",
   "execution_count": 0,
   "metadata": {
    "colab": {},
    "colab_type": "code",
    "id": "4MZYShXZxK3w",
    "outputId": "eec2edcb-6bac-43a7-da73-3d20727319eb"
   },
   "outputs": [
    {
     "data": {
      "text/html": [
       "<div>\n",
       "<style>\n",
       "    .dataframe thead tr:only-child th {\n",
       "        text-align: right;\n",
       "    }\n",
       "\n",
       "    .dataframe thead th {\n",
       "        text-align: left;\n",
       "    }\n",
       "\n",
       "    .dataframe tbody tr th {\n",
       "        vertical-align: top;\n",
       "    }\n",
       "</style>\n",
       "<table border=\"1\" class=\"dataframe\">\n",
       "  <thead>\n",
       "    <tr style=\"text-align: right;\">\n",
       "      <th></th>\n",
       "      <th>Name</th>\n",
       "      <th>result</th>\n",
       "      <th>Age</th>\n",
       "      <th>Sex</th>\n",
       "    </tr>\n",
       "  </thead>\n",
       "  <tbody>\n",
       "    <tr>\n",
       "      <th>0</th>\n",
       "      <td>Kang</td>\n",
       "      <td>confirmed</td>\n",
       "      <td>30</td>\n",
       "      <td>male</td>\n",
       "    </tr>\n",
       "    <tr>\n",
       "      <th>1</th>\n",
       "      <td>Kim</td>\n",
       "      <td>confirmed</td>\n",
       "      <td>22</td>\n",
       "      <td>female</td>\n",
       "    </tr>\n",
       "    <tr>\n",
       "      <th>2</th>\n",
       "      <td>Choi</td>\n",
       "      <td>confirmed</td>\n",
       "      <td>34</td>\n",
       "      <td>male</td>\n",
       "    </tr>\n",
       "    <tr>\n",
       "      <th>3</th>\n",
       "      <td>Park</td>\n",
       "      <td>canceled</td>\n",
       "      <td>37</td>\n",
       "      <td>male</td>\n",
       "    </tr>\n",
       "    <tr>\n",
       "      <th>4</th>\n",
       "      <td>Kang</td>\n",
       "      <td>confirmed</td>\n",
       "      <td>30</td>\n",
       "      <td>male</td>\n",
       "    </tr>\n",
       "    <tr>\n",
       "      <th>5</th>\n",
       "      <td>Choi</td>\n",
       "      <td>confirmed</td>\n",
       "      <td>34</td>\n",
       "      <td>male</td>\n",
       "    </tr>\n",
       "    <tr>\n",
       "      <th>6</th>\n",
       "      <td>Lee</td>\n",
       "      <td>confirmed</td>\n",
       "      <td>15</td>\n",
       "      <td>female</td>\n",
       "    </tr>\n",
       "  </tbody>\n",
       "</table>\n",
       "</div>"
      ],
      "text/plain": [
       "   Name     result  Age     Sex\n",
       "0  Kang  confirmed   30    male\n",
       "1   Kim  confirmed   22  female\n",
       "2  Choi  confirmed   34    male\n",
       "3  Park   canceled   37    male\n",
       "4  Kang  confirmed   30    male\n",
       "5  Choi  confirmed   34    male\n",
       "6   Lee  confirmed   15  female"
      ]
     },
     "execution_count": 46,
     "metadata": {
      "tags": []
     },
     "output_type": "execute_result"
    }
   ],
   "source": [
    "#위의 transaction과 user 테이블을 INNER JOIN해주세요.\n",
    "query = \"SELECT 'transaction'.Name, 'transaction'.result, 'user'.Age, 'user'.Sex \\\n",
    "FROM 'transaction' \\\n",
    "INNER JOIN 'user' ON 'transaction'.Name = 'user'.Name\"\n",
    "\n",
    "transaction = pd.read_sql(query, connection)\n",
    "transaction"
   ]
  },
  {
   "cell_type": "markdown",
   "metadata": {
    "colab_type": "text",
    "id": "ExSaA6GYxK3x"
   },
   "source": [
    "user에 존재하지 않는 'Yoon'의 데이터가 버려진 것을 확인할 수 있습니다. 이렇게, INNER JOIN은 양쪽에 공통으로 존재하는 키의 데이터만 불러옵니다."
   ]
  },
  {
   "cell_type": "markdown",
   "metadata": {
    "colab_type": "text",
    "id": "XC9ZSC26xK3y"
   },
   "source": [
    "마찬가지로 RIGHT JOIN은 오른쪽 테이블의 키를 기준으로 하는 join 방법이고, OUTER JOIN은 키가 한쪽에라도 있으면 데이터를 추출하는 join 방법입니다. 하지만, 실습에 사용하고 있는 sqlite3 는 RIGHT, OUTER JOIN을 지원하지 않습니다."
   ]
  },
  {
   "cell_type": "code",
   "execution_count": 0,
   "metadata": {
    "colab": {},
    "colab_type": "code",
    "id": "O-JLeQYnxK3y",
    "outputId": "f0e5441e-c4f2-4816-d647-77cd65873671",
    "scrolled": false
   },
   "outputs": [
    {
     "ename": "DatabaseError",
     "evalue": "Execution failed on sql 'SELECT * FROM 'transaction' RIGHT JOIN user ON 'transaction'.Name = user.Name': RIGHT and FULL OUTER JOINs are not currently supported",
     "output_type": "error",
     "traceback": [
      "\u001b[0;31m------------------------------------------------------------------------\u001b[0m",
      "\u001b[0;31mOperationalError\u001b[0m                       Traceback (most recent call last)",
      "\u001b[0;32m~/.pyenv/versions/3.5.1/envs/dsschool/lib/python3.5/site-packages/pandas/io/sql.py\u001b[0m in \u001b[0;36mexecute\u001b[0;34m(self, *args, **kwargs)\u001b[0m\n\u001b[1;32m   1403\u001b[0m             \u001b[0;32melse\u001b[0m\u001b[0;34m:\u001b[0m\u001b[0;34m\u001b[0m\u001b[0m\n\u001b[0;32m-> 1404\u001b[0;31m                 \u001b[0mcur\u001b[0m\u001b[0;34m.\u001b[0m\u001b[0mexecute\u001b[0m\u001b[0;34m(\u001b[0m\u001b[0;34m*\u001b[0m\u001b[0margs\u001b[0m\u001b[0;34m)\u001b[0m\u001b[0;34m\u001b[0m\u001b[0m\n\u001b[0m\u001b[1;32m   1405\u001b[0m             \u001b[0;32mreturn\u001b[0m \u001b[0mcur\u001b[0m\u001b[0;34m\u001b[0m\u001b[0m\n",
      "\u001b[0;31mOperationalError\u001b[0m: RIGHT and FULL OUTER JOINs are not currently supported",
      "\nDuring handling of the above exception, another exception occurred:\n",
      "\u001b[0;31mDatabaseError\u001b[0m                          Traceback (most recent call last)",
      "\u001b[0;32m<ipython-input-47-c81ace0f2dda>\u001b[0m in \u001b[0;36m<module>\u001b[0;34m()\u001b[0m\n\u001b[1;32m      5\u001b[0m \u001b[0;34m\u001b[0m\u001b[0m\n\u001b[1;32m      6\u001b[0m \u001b[0;34m\u001b[0m\u001b[0m\n\u001b[0;32m----> 7\u001b[0;31m \u001b[0mtransaction\u001b[0m \u001b[0;34m=\u001b[0m \u001b[0mpd\u001b[0m\u001b[0;34m.\u001b[0m\u001b[0mread_sql\u001b[0m\u001b[0;34m(\u001b[0m\u001b[0mquery\u001b[0m\u001b[0;34m,\u001b[0m \u001b[0mconnection\u001b[0m\u001b[0;34m)\u001b[0m\u001b[0;34m\u001b[0m\u001b[0m\n\u001b[0m\u001b[1;32m      8\u001b[0m \u001b[0mtransaction\u001b[0m\u001b[0;34m\u001b[0m\u001b[0m\n",
      "\u001b[0;32m~/.pyenv/versions/3.5.1/envs/dsschool/lib/python3.5/site-packages/pandas/io/sql.py\u001b[0m in \u001b[0;36mread_sql\u001b[0;34m(sql, con, index_col, coerce_float, params, parse_dates, columns, chunksize)\u001b[0m\n\u001b[1;32m    398\u001b[0m             \u001b[0msql\u001b[0m\u001b[0;34m,\u001b[0m \u001b[0mindex_col\u001b[0m\u001b[0;34m=\u001b[0m\u001b[0mindex_col\u001b[0m\u001b[0;34m,\u001b[0m \u001b[0mparams\u001b[0m\u001b[0;34m=\u001b[0m\u001b[0mparams\u001b[0m\u001b[0;34m,\u001b[0m\u001b[0;34m\u001b[0m\u001b[0m\n\u001b[1;32m    399\u001b[0m             \u001b[0mcoerce_float\u001b[0m\u001b[0;34m=\u001b[0m\u001b[0mcoerce_float\u001b[0m\u001b[0;34m,\u001b[0m \u001b[0mparse_dates\u001b[0m\u001b[0;34m=\u001b[0m\u001b[0mparse_dates\u001b[0m\u001b[0;34m,\u001b[0m\u001b[0;34m\u001b[0m\u001b[0m\n\u001b[0;32m--> 400\u001b[0;31m             chunksize=chunksize)\n\u001b[0m\u001b[1;32m    401\u001b[0m \u001b[0;34m\u001b[0m\u001b[0m\n\u001b[1;32m    402\u001b[0m     \u001b[0;32mtry\u001b[0m\u001b[0;34m:\u001b[0m\u001b[0;34m\u001b[0m\u001b[0m\n",
      "\u001b[0;32m~/.pyenv/versions/3.5.1/envs/dsschool/lib/python3.5/site-packages/pandas/io/sql.py\u001b[0m in \u001b[0;36mread_query\u001b[0;34m(self, sql, index_col, coerce_float, params, parse_dates, chunksize)\u001b[0m\n\u001b[1;32m   1437\u001b[0m \u001b[0;34m\u001b[0m\u001b[0m\n\u001b[1;32m   1438\u001b[0m         \u001b[0margs\u001b[0m \u001b[0;34m=\u001b[0m \u001b[0m_convert_params\u001b[0m\u001b[0;34m(\u001b[0m\u001b[0msql\u001b[0m\u001b[0;34m,\u001b[0m \u001b[0mparams\u001b[0m\u001b[0;34m)\u001b[0m\u001b[0;34m\u001b[0m\u001b[0m\n\u001b[0;32m-> 1439\u001b[0;31m         \u001b[0mcursor\u001b[0m \u001b[0;34m=\u001b[0m \u001b[0mself\u001b[0m\u001b[0;34m.\u001b[0m\u001b[0mexecute\u001b[0m\u001b[0;34m(\u001b[0m\u001b[0;34m*\u001b[0m\u001b[0margs\u001b[0m\u001b[0;34m)\u001b[0m\u001b[0;34m\u001b[0m\u001b[0m\n\u001b[0m\u001b[1;32m   1440\u001b[0m         \u001b[0mcolumns\u001b[0m \u001b[0;34m=\u001b[0m \u001b[0;34m[\u001b[0m\u001b[0mcol_desc\u001b[0m\u001b[0;34m[\u001b[0m\u001b[0;36m0\u001b[0m\u001b[0;34m]\u001b[0m \u001b[0;32mfor\u001b[0m \u001b[0mcol_desc\u001b[0m \u001b[0;32min\u001b[0m \u001b[0mcursor\u001b[0m\u001b[0;34m.\u001b[0m\u001b[0mdescription\u001b[0m\u001b[0;34m]\u001b[0m\u001b[0;34m\u001b[0m\u001b[0m\n\u001b[1;32m   1441\u001b[0m \u001b[0;34m\u001b[0m\u001b[0m\n",
      "\u001b[0;32m~/.pyenv/versions/3.5.1/envs/dsschool/lib/python3.5/site-packages/pandas/io/sql.py\u001b[0m in \u001b[0;36mexecute\u001b[0;34m(self, *args, **kwargs)\u001b[0m\n\u001b[1;32m   1414\u001b[0m             ex = DatabaseError(\n\u001b[1;32m   1415\u001b[0m                 \"Execution failed on sql '%s': %s\" % (args[0], exc))\n\u001b[0;32m-> 1416\u001b[0;31m             \u001b[0mraise_with_traceback\u001b[0m\u001b[0;34m(\u001b[0m\u001b[0mex\u001b[0m\u001b[0;34m)\u001b[0m\u001b[0;34m\u001b[0m\u001b[0m\n\u001b[0m\u001b[1;32m   1417\u001b[0m \u001b[0;34m\u001b[0m\u001b[0m\n\u001b[1;32m   1418\u001b[0m     \u001b[0;34m@\u001b[0m\u001b[0mstaticmethod\u001b[0m\u001b[0;34m\u001b[0m\u001b[0m\n",
      "\u001b[0;32m~/.pyenv/versions/3.5.1/envs/dsschool/lib/python3.5/site-packages/pandas/compat/__init__.py\u001b[0m in \u001b[0;36mraise_with_traceback\u001b[0;34m(exc, traceback)\u001b[0m\n\u001b[1;32m    342\u001b[0m         \u001b[0;32mif\u001b[0m \u001b[0mtraceback\u001b[0m \u001b[0;34m==\u001b[0m \u001b[0mEllipsis\u001b[0m\u001b[0;34m:\u001b[0m\u001b[0;34m\u001b[0m\u001b[0m\n\u001b[1;32m    343\u001b[0m             \u001b[0m_\u001b[0m\u001b[0;34m,\u001b[0m \u001b[0m_\u001b[0m\u001b[0;34m,\u001b[0m \u001b[0mtraceback\u001b[0m \u001b[0;34m=\u001b[0m \u001b[0msys\u001b[0m\u001b[0;34m.\u001b[0m\u001b[0mexc_info\u001b[0m\u001b[0;34m(\u001b[0m\u001b[0;34m)\u001b[0m\u001b[0;34m\u001b[0m\u001b[0m\n\u001b[0;32m--> 344\u001b[0;31m         \u001b[0;32mraise\u001b[0m \u001b[0mexc\u001b[0m\u001b[0;34m.\u001b[0m\u001b[0mwith_traceback\u001b[0m\u001b[0;34m(\u001b[0m\u001b[0mtraceback\u001b[0m\u001b[0;34m)\u001b[0m\u001b[0;34m\u001b[0m\u001b[0m\n\u001b[0m\u001b[1;32m    345\u001b[0m \u001b[0;32melse\u001b[0m\u001b[0;34m:\u001b[0m\u001b[0;34m\u001b[0m\u001b[0m\n\u001b[1;32m    346\u001b[0m     \u001b[0;31m# this version of raise is a syntax error in Python 3\u001b[0m\u001b[0;34m\u001b[0m\u001b[0;34m\u001b[0m\u001b[0m\n",
      "\u001b[0;32m~/.pyenv/versions/3.5.1/envs/dsschool/lib/python3.5/site-packages/pandas/io/sql.py\u001b[0m in \u001b[0;36mexecute\u001b[0;34m(self, *args, **kwargs)\u001b[0m\n\u001b[1;32m   1402\u001b[0m                 \u001b[0mcur\u001b[0m\u001b[0;34m.\u001b[0m\u001b[0mexecute\u001b[0m\u001b[0;34m(\u001b[0m\u001b[0;34m*\u001b[0m\u001b[0margs\u001b[0m\u001b[0;34m,\u001b[0m \u001b[0;34m**\u001b[0m\u001b[0mkwargs\u001b[0m\u001b[0;34m)\u001b[0m\u001b[0;34m\u001b[0m\u001b[0m\n\u001b[1;32m   1403\u001b[0m             \u001b[0;32melse\u001b[0m\u001b[0;34m:\u001b[0m\u001b[0;34m\u001b[0m\u001b[0m\n\u001b[0;32m-> 1404\u001b[0;31m                 \u001b[0mcur\u001b[0m\u001b[0;34m.\u001b[0m\u001b[0mexecute\u001b[0m\u001b[0;34m(\u001b[0m\u001b[0;34m*\u001b[0m\u001b[0margs\u001b[0m\u001b[0;34m)\u001b[0m\u001b[0;34m\u001b[0m\u001b[0m\n\u001b[0m\u001b[1;32m   1405\u001b[0m             \u001b[0;32mreturn\u001b[0m \u001b[0mcur\u001b[0m\u001b[0;34m\u001b[0m\u001b[0m\n\u001b[1;32m   1406\u001b[0m         \u001b[0;32mexcept\u001b[0m \u001b[0mException\u001b[0m \u001b[0;32mas\u001b[0m \u001b[0mexc\u001b[0m\u001b[0;34m:\u001b[0m\u001b[0;34m\u001b[0m\u001b[0m\n",
      "\u001b[0;31mDatabaseError\u001b[0m: Execution failed on sql 'SELECT * FROM 'transaction' RIGHT JOIN user ON 'transaction'.Name = user.Name': RIGHT and FULL OUTER JOINs are not currently supported"
     ]
    }
   ],
   "source": [
    "# RIGHT JOIN과 OUTER JOIN을 지원하지 않습니다.\n",
    "query = \"SELECT * FROM 'transaction' RIGHT JOIN user ON 'transaction'.Name = user.Name\"\n",
    "#query = \"SELECT * FROM 'transaction' OUTER JOIN user ON 'transaction'.Name = user.Name\"\n",
    "\n",
    "\n",
    "\n",
    "transaction = pd.read_sql(query, connection)\n",
    "transaction"
   ]
  },
  {
   "cell_type": "markdown",
   "metadata": {
    "colab_type": "text",
    "id": "DYgHlrIRxK30"
   },
   "source": [
    "### 여러 개의 데이터를 하나로 합치기\n",
    "\n",
    "SQL에서 사용하는 JOIN과 비슷하게 판다스에서도 데이터를 합치거나 조인하는 기능이 있습니다. \n",
    "\n",
    "앞에서 배웠다시피 데이터베이스에서는 데이터를 여러 개로 나눠서 저장하는데, 이를 보통은 테이블(Table)이라고 표현합니다. 가령 앞서 사용한 pandas-transaction.db 에는 transaction, user, 그리고 product 라는 이름의 테이블이 있습니다.\n",
    "\n",
    "이런 방식은 데이터를 효율적으로 나눠서 저장할 수 있다는 장점이 있지만, 실제 판다스로 데이터를 분석할 때는 하나의 DataFrame으로 묶어서 분석하는 것이 편리합니다.\n",
    "\n",
    "여러 개의 테이블을 하나로 묶는 방법인 concat, join, 그리고 merge에 대해 알아봅시다."
   ]
  },
  {
   "cell_type": "markdown",
   "metadata": {
    "colab_type": "text",
    "id": "U0EM-S2zxK30"
   },
   "source": [
    "**concat**"
   ]
  },
  {
   "cell_type": "markdown",
   "metadata": {
    "colab_type": "text",
    "id": "N0sTZQuSxK30"
   },
   "source": [
    "concat은 판다스의 함수로 데이터를 병합하는 것이 아닌 단순 연결하는데 특화된 함수입니다.\n",
    "\n",
    "예를 들어, 1월의 거래 데이터와 2월의 거래 데이터를 합칠 때는 concat을 사용하여 연결하여야 합니다."
   ]
  },
  {
   "cell_type": "code",
   "execution_count": 0,
   "metadata": {
    "colab": {},
    "colab_type": "code",
    "id": "2eZ76xPnxK33",
    "scrolled": false
   },
   "outputs": [],
   "source": [
    "# transaction01에 database에서 transaction을, transaction02에 transaction2.csv를 불러와주세요.\n",
    "transaction01 = pd.read_sql(\"SELECT * FROM 'transaction'\", connection)\n",
    "transaction01"
   ]
  },
  {
   "cell_type": "code",
   "execution_count": 0,
   "metadata": {
    "colab": {},
    "colab_type": "code",
    "id": "Um-T-hYyxK35"
   },
   "outputs": [],
   "source": [
    "transaction02 = pd.read_csv('transaction2.csv')\n",
    "\n",
    "transaction02"
   ]
  },
  {
   "cell_type": "markdown",
   "metadata": {
    "colab_type": "text",
    "id": "0fwRRSM4xK37"
   },
   "source": [
    "`pd.concat([연결할 데이터프레임 리스트])` 를 이용하여 데이터를 아래로 더해나갈 수 있습니다."
   ]
  },
  {
   "cell_type": "code",
   "execution_count": 0,
   "metadata": {
    "colab": {},
    "colab_type": "code",
    "id": "CJQZu8IZxK38"
   },
   "outputs": [],
   "source": [
    "# pd.concat으로 두 개의 DataFrame을 합칠 수 있습니다.\n",
    "transaction = pd.concat([transaction01, transaction02])\n",
    "transaction"
   ]
  },
  {
   "cell_type": "markdown",
   "metadata": {
    "colab_type": "text",
    "id": "bG5RpuvxxK4A"
   },
   "source": [
    "이와 동일한 기능을 하는 append라는 메소드가 있는데 이는 pandas에서 불러오는 것이 아닌 데이터프레임을 기준으로 사용합니다."
   ]
  },
  {
   "cell_type": "code",
   "execution_count": 0,
   "metadata": {
    "colab": {},
    "colab_type": "code",
    "id": "QxpQWwnvxK4A"
   },
   "outputs": [],
   "source": [
    "# append 기능을 이용하여 합친 데이터를 transaction에 저장합니다.\n",
    "transaction = transaction01.append([transaction02])\n",
    "\n",
    "#pd.concat과 거의 동일하게 동작하기 때문에 마음에 드는 것을 사용하시면 됩니다.\n",
    "transaction"
   ]
  },
  {
   "cell_type": "markdown",
   "metadata": {
    "colab_type": "text",
    "id": "YniDWWWKxK4C"
   },
   "source": [
    "데이터프레임을 인덱스와 상관없이 옆으로 붙이고 싶은 경우에도 concat을 이용합니다. 2월의 결제 데이터와 합칠 결제수단 및 할부 데이터를 만들어보겠습니다."
   ]
  },
  {
   "cell_type": "code",
   "execution_count": 0,
   "metadata": {
    "colab": {},
    "colab_type": "code",
    "id": "5zOdIDOxxK4D"
   },
   "outputs": [],
   "source": [
    "how2 = pd.DataFrame({\n",
    "    'payment_method' : ['카드 결제', '카드 결제', '무통장 입금', '카드 결제'],\n",
    "    'installment' : ['일시불', '3개월', None, '일시불']\n",
    "})\n",
    "\n",
    "how2"
   ]
  },
  {
   "cell_type": "markdown",
   "metadata": {
    "colab_type": "text",
    "id": "MpMNf6GVxK4E"
   },
   "source": [
    "이를 column을 추가하듯 옆으로 붙이는 방법은 pd.concat에 axis=1 옵션을 추가하는 것입니다."
   ]
  },
  {
   "cell_type": "code",
   "execution_count": 0,
   "metadata": {
    "colab": {},
    "colab_type": "code",
    "id": "nBp5vPokxK4F",
    "scrolled": true
   },
   "outputs": [],
   "source": [
    "#pd.concat()에 axis=1 파라미터를 추가하여 transaction02와 how2 데이터를 합쳐주세요.\n",
    "pd.concat([transaction02, how2], axis=1)"
   ]
  },
  {
   "cell_type": "markdown",
   "metadata": {
    "colab_type": "text",
    "id": "ebZFH-2lxK4I"
   },
   "source": [
    "주의할 점은 더할 때 index를 기준으로 더하는 것이기 때문에 데이터의 사이즈가 잘 맞는지, 인덱스 또한 일치하는지 잘 확인해주셔야 합니다."
   ]
  },
  {
   "cell_type": "markdown",
   "metadata": {
    "colab_type": "text",
    "id": "nGwhFn-DxK4J"
   },
   "source": [
    "```pd.concat```도 ```read_csv```나 ```read_sql```같이 다양한 옵션들이 있습니다. 자세한 사항은 [판다스의 API 문서](https://pandas.pydata.org/pandas-docs/stable/merging.html#merging)를 참고해주세요. "
   ]
  },
  {
   "cell_type": "markdown",
   "metadata": {
    "colab_type": "text",
    "id": "1EAmiFm4xK4K"
   },
   "source": [
    "### 서로 다른 형태의 데이터를 하나로 합치기\n",
    "\n",
    "앞서 설명한 ```pd.concat``` 은 서로 유사한 데이터를 합치는데 많이 사용합니다. 하지만 데이터의 형태가 다른 경우에는 어떻게 하나로 합쳐야 할까요? 다음의 예를 들어보겠습니다."
   ]
  },
  {
   "cell_type": "code",
   "execution_count": 0,
   "metadata": {
    "colab": {},
    "colab_type": "code",
    "id": "qa4177ofxK4L",
    "scrolled": true
   },
   "outputs": [],
   "source": [
    "#database에서 transaction과 user 테이블을 불러와 주세요.\n",
    "transaction = pd.read_sql(\"SELECT * FROM 'transaction'\", connection)\n",
    "transaction"
   ]
  },
  {
   "cell_type": "code",
   "execution_count": 0,
   "metadata": {
    "colab": {},
    "colab_type": "code",
    "id": "wkcK3SCtxK4M",
    "outputId": "69bdd731-ee8e-44f0-ee6c-3bdb914df628"
   },
   "outputs": [
    {
     "data": {
      "text/html": [
       "<div>\n",
       "<style>\n",
       "    .dataframe thead tr:only-child th {\n",
       "        text-align: right;\n",
       "    }\n",
       "\n",
       "    .dataframe thead th {\n",
       "        text-align: left;\n",
       "    }\n",
       "\n",
       "    .dataframe tbody tr th {\n",
       "        vertical-align: top;\n",
       "    }\n",
       "</style>\n",
       "<table border=\"1\" class=\"dataframe\">\n",
       "  <thead>\n",
       "    <tr style=\"text-align: right;\">\n",
       "      <th></th>\n",
       "      <th>Name</th>\n",
       "      <th>Age</th>\n",
       "      <th>Sex</th>\n",
       "      <th>email</th>\n",
       "    </tr>\n",
       "  </thead>\n",
       "  <tbody>\n",
       "    <tr>\n",
       "      <th>0</th>\n",
       "      <td>Kang</td>\n",
       "      <td>30</td>\n",
       "      <td>male</td>\n",
       "      <td>kang@gmail.com</td>\n",
       "    </tr>\n",
       "    <tr>\n",
       "      <th>1</th>\n",
       "      <td>Kim</td>\n",
       "      <td>22</td>\n",
       "      <td>female</td>\n",
       "      <td>kim@naver.com</td>\n",
       "    </tr>\n",
       "    <tr>\n",
       "      <th>2</th>\n",
       "      <td>Park</td>\n",
       "      <td>37</td>\n",
       "      <td>male</td>\n",
       "      <td>park@dsschool.co.kr</td>\n",
       "    </tr>\n",
       "    <tr>\n",
       "      <th>3</th>\n",
       "      <td>Lee</td>\n",
       "      <td>15</td>\n",
       "      <td>female</td>\n",
       "      <td>lee@empas.co.kr</td>\n",
       "    </tr>\n",
       "    <tr>\n",
       "      <th>4</th>\n",
       "      <td>Son</td>\n",
       "      <td>29</td>\n",
       "      <td>male</td>\n",
       "      <td>son@google.co.uk</td>\n",
       "    </tr>\n",
       "    <tr>\n",
       "      <th>5</th>\n",
       "      <td>Moon</td>\n",
       "      <td>40</td>\n",
       "      <td>female</td>\n",
       "      <td>moon@hanmail.com</td>\n",
       "    </tr>\n",
       "    <tr>\n",
       "      <th>6</th>\n",
       "      <td>Choi</td>\n",
       "      <td>34</td>\n",
       "      <td>male</td>\n",
       "      <td>choi@yahoo.com</td>\n",
       "    </tr>\n",
       "  </tbody>\n",
       "</table>\n",
       "</div>"
      ],
      "text/plain": [
       "   Name  Age     Sex                email\n",
       "0  Kang   30    male       kang@gmail.com\n",
       "1   Kim   22  female        kim@naver.com\n",
       "2  Park   37    male  park@dsschool.co.kr\n",
       "3   Lee   15  female      lee@empas.co.kr\n",
       "4   Son   29    male     son@google.co.uk\n",
       "5  Moon   40  female     moon@hanmail.com\n",
       "6  Choi   34    male       choi@yahoo.com"
      ]
     },
     "execution_count": 48,
     "metadata": {
      "tags": []
     },
     "output_type": "execute_result"
    }
   ],
   "source": [
    "user = pd.read_sql(\"SELECT * FROM 'user'\", connection)\n",
    "\n",
    "user"
   ]
  },
  {
   "cell_type": "markdown",
   "metadata": {
    "colab_type": "text",
    "id": "RyA43S4wxK4N"
   },
   "source": [
    "위의 SQL JOIN에서 처럼 transaction과 user 테이블을 조인하는 것을 판다스에서는 어떻게 수행해야 할까요?\n",
    "\n",
    "이 경우에는 ``pd.merge``를 사용합니다. merge를 사용하면 두 DataFrame에서 겹치는 컬럼(Name)을 자동으로 찾아서 그에 맞게 데이터를 합쳐줍니다."
   ]
  },
  {
   "cell_type": "code",
   "execution_count": 0,
   "metadata": {
    "colab": {},
    "colab_type": "code",
    "id": "AGZuB3QhxK4O",
    "outputId": "18231b14-5950-41dc-e5fa-b652eae7d6c8"
   },
   "outputs": [
    {
     "data": {
      "text/html": [
       "<div>\n",
       "<style>\n",
       "    .dataframe thead tr:only-child th {\n",
       "        text-align: right;\n",
       "    }\n",
       "\n",
       "    .dataframe thead th {\n",
       "        text-align: left;\n",
       "    }\n",
       "\n",
       "    .dataframe tbody tr th {\n",
       "        vertical-align: top;\n",
       "    }\n",
       "</style>\n",
       "<table border=\"1\" class=\"dataframe\">\n",
       "  <thead>\n",
       "    <tr style=\"text-align: right;\">\n",
       "      <th></th>\n",
       "      <th>Name</th>\n",
       "      <th>result</th>\n",
       "      <th>Age</th>\n",
       "      <th>Sex</th>\n",
       "      <th>email</th>\n",
       "    </tr>\n",
       "  </thead>\n",
       "  <tbody>\n",
       "    <tr>\n",
       "      <th>0</th>\n",
       "      <td>Kang</td>\n",
       "      <td>confirmed</td>\n",
       "      <td>30</td>\n",
       "      <td>male</td>\n",
       "      <td>kang@gmail.com</td>\n",
       "    </tr>\n",
       "    <tr>\n",
       "      <th>1</th>\n",
       "      <td>Kang</td>\n",
       "      <td>confirmed</td>\n",
       "      <td>30</td>\n",
       "      <td>male</td>\n",
       "      <td>kang@gmail.com</td>\n",
       "    </tr>\n",
       "    <tr>\n",
       "      <th>2</th>\n",
       "      <td>Kim</td>\n",
       "      <td>confirmed</td>\n",
       "      <td>22</td>\n",
       "      <td>female</td>\n",
       "      <td>kim@naver.com</td>\n",
       "    </tr>\n",
       "    <tr>\n",
       "      <th>3</th>\n",
       "      <td>Choi</td>\n",
       "      <td>confirmed</td>\n",
       "      <td>34</td>\n",
       "      <td>male</td>\n",
       "      <td>choi@yahoo.com</td>\n",
       "    </tr>\n",
       "    <tr>\n",
       "      <th>4</th>\n",
       "      <td>Choi</td>\n",
       "      <td>confirmed</td>\n",
       "      <td>34</td>\n",
       "      <td>male</td>\n",
       "      <td>choi@yahoo.com</td>\n",
       "    </tr>\n",
       "    <tr>\n",
       "      <th>5</th>\n",
       "      <td>Park</td>\n",
       "      <td>canceled</td>\n",
       "      <td>37</td>\n",
       "      <td>male</td>\n",
       "      <td>park@dsschool.co.kr</td>\n",
       "    </tr>\n",
       "    <tr>\n",
       "      <th>6</th>\n",
       "      <td>Lee</td>\n",
       "      <td>confirmed</td>\n",
       "      <td>15</td>\n",
       "      <td>female</td>\n",
       "      <td>lee@empas.co.kr</td>\n",
       "    </tr>\n",
       "  </tbody>\n",
       "</table>\n",
       "</div>"
      ],
      "text/plain": [
       "   Name     result  Age     Sex                email\n",
       "0  Kang  confirmed   30    male       kang@gmail.com\n",
       "1  Kang  confirmed   30    male       kang@gmail.com\n",
       "2   Kim  confirmed   22  female        kim@naver.com\n",
       "3  Choi  confirmed   34    male       choi@yahoo.com\n",
       "4  Choi  confirmed   34    male       choi@yahoo.com\n",
       "5  Park   canceled   37    male  park@dsschool.co.kr\n",
       "6   Lee  confirmed   15  female      lee@empas.co.kr"
      ]
     },
     "execution_count": 49,
     "metadata": {
      "tags": []
     },
     "output_type": "execute_result"
    }
   ],
   "source": [
    "#pd.merge를 이용해 transaction과 user 데이터를 합쳐주세요.\n",
    "pd.merge(transaction, user)"
   ]
  },
  {
   "cell_type": "markdown",
   "metadata": {
    "colab_type": "text",
    "id": "AjPdfYbAxK4R"
   },
   "source": [
    "하지만 여기에서 주의할 점이 있습니다. 결과를 보면 알겠지만, merge를 한 순간 Name이 겹치지 않는 transaction은 전부 제거되어 버립니다. 이는 pd.merge()가 INNER JOIN을 기본 옵션으로 사용하기 때문입니다.\n",
    "\n",
    "LEFT, RIGHT, OUTER 조인을 사용하고 싶은 경우, how 옵션을 사용하시면 됩니다."
   ]
  },
  {
   "cell_type": "code",
   "execution_count": 0,
   "metadata": {
    "colab": {},
    "colab_type": "code",
    "id": "sTilhbYdxK4R",
    "outputId": "385d026b-8a4a-4528-87ce-96d5e2d34421"
   },
   "outputs": [
    {
     "data": {
      "text/html": [
       "<div>\n",
       "<style>\n",
       "    .dataframe thead tr:only-child th {\n",
       "        text-align: right;\n",
       "    }\n",
       "\n",
       "    .dataframe thead th {\n",
       "        text-align: left;\n",
       "    }\n",
       "\n",
       "    .dataframe tbody tr th {\n",
       "        vertical-align: top;\n",
       "    }\n",
       "</style>\n",
       "<table border=\"1\" class=\"dataframe\">\n",
       "  <thead>\n",
       "    <tr style=\"text-align: right;\">\n",
       "      <th></th>\n",
       "      <th>Name</th>\n",
       "      <th>result</th>\n",
       "      <th>Age</th>\n",
       "      <th>Sex</th>\n",
       "      <th>email</th>\n",
       "    </tr>\n",
       "  </thead>\n",
       "  <tbody>\n",
       "    <tr>\n",
       "      <th>0</th>\n",
       "      <td>Kang</td>\n",
       "      <td>confirmed</td>\n",
       "      <td>30</td>\n",
       "      <td>male</td>\n",
       "      <td>kang@gmail.com</td>\n",
       "    </tr>\n",
       "    <tr>\n",
       "      <th>1</th>\n",
       "      <td>Kang</td>\n",
       "      <td>confirmed</td>\n",
       "      <td>30</td>\n",
       "      <td>male</td>\n",
       "      <td>kang@gmail.com</td>\n",
       "    </tr>\n",
       "    <tr>\n",
       "      <th>2</th>\n",
       "      <td>Kim</td>\n",
       "      <td>confirmed</td>\n",
       "      <td>22</td>\n",
       "      <td>female</td>\n",
       "      <td>kim@naver.com</td>\n",
       "    </tr>\n",
       "    <tr>\n",
       "      <th>3</th>\n",
       "      <td>Choi</td>\n",
       "      <td>confirmed</td>\n",
       "      <td>34</td>\n",
       "      <td>male</td>\n",
       "      <td>choi@yahoo.com</td>\n",
       "    </tr>\n",
       "    <tr>\n",
       "      <th>4</th>\n",
       "      <td>Choi</td>\n",
       "      <td>confirmed</td>\n",
       "      <td>34</td>\n",
       "      <td>male</td>\n",
       "      <td>choi@yahoo.com</td>\n",
       "    </tr>\n",
       "    <tr>\n",
       "      <th>5</th>\n",
       "      <td>Park</td>\n",
       "      <td>canceled</td>\n",
       "      <td>37</td>\n",
       "      <td>male</td>\n",
       "      <td>park@dsschool.co.kr</td>\n",
       "    </tr>\n",
       "    <tr>\n",
       "      <th>6</th>\n",
       "      <td>Lee</td>\n",
       "      <td>confirmed</td>\n",
       "      <td>15</td>\n",
       "      <td>female</td>\n",
       "      <td>lee@empas.co.kr</td>\n",
       "    </tr>\n",
       "  </tbody>\n",
       "</table>\n",
       "</div>"
      ],
      "text/plain": [
       "   Name     result  Age     Sex                email\n",
       "0  Kang  confirmed   30    male       kang@gmail.com\n",
       "1  Kang  confirmed   30    male       kang@gmail.com\n",
       "2   Kim  confirmed   22  female        kim@naver.com\n",
       "3  Choi  confirmed   34    male       choi@yahoo.com\n",
       "4  Choi  confirmed   34    male       choi@yahoo.com\n",
       "5  Park   canceled   37    male  park@dsschool.co.kr\n",
       "6   Lee  confirmed   15  female      lee@empas.co.kr"
      ]
     },
     "execution_count": 50,
     "metadata": {
      "tags": []
     },
     "output_type": "execute_result"
    }
   ],
   "source": [
    "# 기본 옵션은 how='inner'. transaction에서도 date에서도 겹치는 부분이 없다면 전부 제거해버린다.\n",
    "pd.merge(transaction, user, how='inner')"
   ]
  },
  {
   "cell_type": "code",
   "execution_count": 0,
   "metadata": {
    "colab": {},
    "colab_type": "code",
    "id": "yZdCcUxXxK4T",
    "outputId": "ba267c25-7061-4e71-bf7d-bcbddf3e71bb"
   },
   "outputs": [
    {
     "data": {
      "text/html": [
       "<div>\n",
       "<style>\n",
       "    .dataframe thead tr:only-child th {\n",
       "        text-align: right;\n",
       "    }\n",
       "\n",
       "    .dataframe thead th {\n",
       "        text-align: left;\n",
       "    }\n",
       "\n",
       "    .dataframe tbody tr th {\n",
       "        vertical-align: top;\n",
       "    }\n",
       "</style>\n",
       "<table border=\"1\" class=\"dataframe\">\n",
       "  <thead>\n",
       "    <tr style=\"text-align: right;\">\n",
       "      <th></th>\n",
       "      <th>Name</th>\n",
       "      <th>result</th>\n",
       "      <th>Age</th>\n",
       "      <th>Sex</th>\n",
       "      <th>email</th>\n",
       "    </tr>\n",
       "  </thead>\n",
       "  <tbody>\n",
       "    <tr>\n",
       "      <th>0</th>\n",
       "      <td>Kang</td>\n",
       "      <td>confirmed</td>\n",
       "      <td>30</td>\n",
       "      <td>male</td>\n",
       "      <td>kang@gmail.com</td>\n",
       "    </tr>\n",
       "    <tr>\n",
       "      <th>1</th>\n",
       "      <td>Kang</td>\n",
       "      <td>confirmed</td>\n",
       "      <td>30</td>\n",
       "      <td>male</td>\n",
       "      <td>kang@gmail.com</td>\n",
       "    </tr>\n",
       "    <tr>\n",
       "      <th>2</th>\n",
       "      <td>Kim</td>\n",
       "      <td>confirmed</td>\n",
       "      <td>22</td>\n",
       "      <td>female</td>\n",
       "      <td>kim@naver.com</td>\n",
       "    </tr>\n",
       "    <tr>\n",
       "      <th>3</th>\n",
       "      <td>Choi</td>\n",
       "      <td>confirmed</td>\n",
       "      <td>34</td>\n",
       "      <td>male</td>\n",
       "      <td>choi@yahoo.com</td>\n",
       "    </tr>\n",
       "    <tr>\n",
       "      <th>4</th>\n",
       "      <td>Choi</td>\n",
       "      <td>confirmed</td>\n",
       "      <td>34</td>\n",
       "      <td>male</td>\n",
       "      <td>choi@yahoo.com</td>\n",
       "    </tr>\n",
       "    <tr>\n",
       "      <th>5</th>\n",
       "      <td>Park</td>\n",
       "      <td>canceled</td>\n",
       "      <td>37</td>\n",
       "      <td>male</td>\n",
       "      <td>park@dsschool.co.kr</td>\n",
       "    </tr>\n",
       "    <tr>\n",
       "      <th>6</th>\n",
       "      <td>Lee</td>\n",
       "      <td>confirmed</td>\n",
       "      <td>15</td>\n",
       "      <td>female</td>\n",
       "      <td>lee@empas.co.kr</td>\n",
       "    </tr>\n",
       "  </tbody>\n",
       "</table>\n",
       "</div>"
      ],
      "text/plain": [
       "   Name     result  Age     Sex                email\n",
       "0  Kang  confirmed   30    male       kang@gmail.com\n",
       "1  Kang  confirmed   30    male       kang@gmail.com\n",
       "2   Kim  confirmed   22  female        kim@naver.com\n",
       "3  Choi  confirmed   34    male       choi@yahoo.com\n",
       "4  Choi  confirmed   34    male       choi@yahoo.com\n",
       "5  Park   canceled   37    male  park@dsschool.co.kr\n",
       "6   Lee  confirmed   15  female      lee@empas.co.kr"
      ]
     },
     "execution_count": 51,
     "metadata": {
      "tags": []
     },
     "output_type": "execute_result"
    }
   ],
   "source": [
    "# 데이터 프레임의 메소드로 merge를 사용해도 괜찮습니다.\n",
    "transaction.merge(user, how='inner')"
   ]
  },
  {
   "cell_type": "code",
   "execution_count": 0,
   "metadata": {
    "colab": {},
    "colab_type": "code",
    "id": "46zxopcwxK4U",
    "outputId": "d20db141-c530-490f-b7d7-72461e276971"
   },
   "outputs": [
    {
     "data": {
      "text/html": [
       "<div>\n",
       "<style>\n",
       "    .dataframe thead tr:only-child th {\n",
       "        text-align: right;\n",
       "    }\n",
       "\n",
       "    .dataframe thead th {\n",
       "        text-align: left;\n",
       "    }\n",
       "\n",
       "    .dataframe tbody tr th {\n",
       "        vertical-align: top;\n",
       "    }\n",
       "</style>\n",
       "<table border=\"1\" class=\"dataframe\">\n",
       "  <thead>\n",
       "    <tr style=\"text-align: right;\">\n",
       "      <th></th>\n",
       "      <th>Name</th>\n",
       "      <th>result</th>\n",
       "      <th>Age</th>\n",
       "      <th>Sex</th>\n",
       "      <th>email</th>\n",
       "    </tr>\n",
       "  </thead>\n",
       "  <tbody>\n",
       "    <tr>\n",
       "      <th>0</th>\n",
       "      <td>Kang</td>\n",
       "      <td>confirmed</td>\n",
       "      <td>30</td>\n",
       "      <td>male</td>\n",
       "      <td>kang@gmail.com</td>\n",
       "    </tr>\n",
       "    <tr>\n",
       "      <th>1</th>\n",
       "      <td>Kang</td>\n",
       "      <td>confirmed</td>\n",
       "      <td>30</td>\n",
       "      <td>male</td>\n",
       "      <td>kang@gmail.com</td>\n",
       "    </tr>\n",
       "    <tr>\n",
       "      <th>2</th>\n",
       "      <td>Kim</td>\n",
       "      <td>confirmed</td>\n",
       "      <td>22</td>\n",
       "      <td>female</td>\n",
       "      <td>kim@naver.com</td>\n",
       "    </tr>\n",
       "    <tr>\n",
       "      <th>3</th>\n",
       "      <td>Choi</td>\n",
       "      <td>confirmed</td>\n",
       "      <td>34</td>\n",
       "      <td>male</td>\n",
       "      <td>choi@yahoo.com</td>\n",
       "    </tr>\n",
       "    <tr>\n",
       "      <th>4</th>\n",
       "      <td>Choi</td>\n",
       "      <td>confirmed</td>\n",
       "      <td>34</td>\n",
       "      <td>male</td>\n",
       "      <td>choi@yahoo.com</td>\n",
       "    </tr>\n",
       "    <tr>\n",
       "      <th>5</th>\n",
       "      <td>Park</td>\n",
       "      <td>canceled</td>\n",
       "      <td>37</td>\n",
       "      <td>male</td>\n",
       "      <td>park@dsschool.co.kr</td>\n",
       "    </tr>\n",
       "    <tr>\n",
       "      <th>6</th>\n",
       "      <td>Lee</td>\n",
       "      <td>confirmed</td>\n",
       "      <td>15</td>\n",
       "      <td>female</td>\n",
       "      <td>lee@empas.co.kr</td>\n",
       "    </tr>\n",
       "    <tr>\n",
       "      <th>7</th>\n",
       "      <td>Son</td>\n",
       "      <td>NaN</td>\n",
       "      <td>29</td>\n",
       "      <td>male</td>\n",
       "      <td>son@google.co.uk</td>\n",
       "    </tr>\n",
       "    <tr>\n",
       "      <th>8</th>\n",
       "      <td>Moon</td>\n",
       "      <td>NaN</td>\n",
       "      <td>40</td>\n",
       "      <td>female</td>\n",
       "      <td>moon@hanmail.com</td>\n",
       "    </tr>\n",
       "  </tbody>\n",
       "</table>\n",
       "</div>"
      ],
      "text/plain": [
       "   Name     result  Age     Sex                email\n",
       "0  Kang  confirmed   30    male       kang@gmail.com\n",
       "1  Kang  confirmed   30    male       kang@gmail.com\n",
       "2   Kim  confirmed   22  female        kim@naver.com\n",
       "3  Choi  confirmed   34    male       choi@yahoo.com\n",
       "4  Choi  confirmed   34    male       choi@yahoo.com\n",
       "5  Park   canceled   37    male  park@dsschool.co.kr\n",
       "6   Lee  confirmed   15  female      lee@empas.co.kr\n",
       "7   Son        NaN   29    male     son@google.co.uk\n",
       "8  Moon        NaN   40  female     moon@hanmail.com"
      ]
     },
     "execution_count": 52,
     "metadata": {
      "tags": []
     },
     "output_type": "execute_result"
    }
   ],
   "source": [
    "# how='outer' 옵션은 transaction에서도 profile에서도 겹치지 않는 부분을 그대로 남겨놓는다.\n",
    "# 이 경우 빈 컬럼은 NaN으로 표시한다.\n",
    "pd.merge(transaction, user, how='outer')"
   ]
  },
  {
   "cell_type": "code",
   "execution_count": 0,
   "metadata": {
    "colab": {},
    "colab_type": "code",
    "id": "yh7fEWNzxK4W",
    "outputId": "3ee4ac78-1139-4bb3-e67e-58d01542b1e7"
   },
   "outputs": [
    {
     "data": {
      "text/html": [
       "<div>\n",
       "<style>\n",
       "    .dataframe thead tr:only-child th {\n",
       "        text-align: right;\n",
       "    }\n",
       "\n",
       "    .dataframe thead th {\n",
       "        text-align: left;\n",
       "    }\n",
       "\n",
       "    .dataframe tbody tr th {\n",
       "        vertical-align: top;\n",
       "    }\n",
       "</style>\n",
       "<table border=\"1\" class=\"dataframe\">\n",
       "  <thead>\n",
       "    <tr style=\"text-align: right;\">\n",
       "      <th></th>\n",
       "      <th>Name</th>\n",
       "      <th>result</th>\n",
       "      <th>Age</th>\n",
       "      <th>Sex</th>\n",
       "      <th>email</th>\n",
       "    </tr>\n",
       "  </thead>\n",
       "  <tbody>\n",
       "    <tr>\n",
       "      <th>0</th>\n",
       "      <td>Kang</td>\n",
       "      <td>confirmed</td>\n",
       "      <td>30</td>\n",
       "      <td>male</td>\n",
       "      <td>kang@gmail.com</td>\n",
       "    </tr>\n",
       "    <tr>\n",
       "      <th>1</th>\n",
       "      <td>Kim</td>\n",
       "      <td>confirmed</td>\n",
       "      <td>22</td>\n",
       "      <td>female</td>\n",
       "      <td>kim@naver.com</td>\n",
       "    </tr>\n",
       "    <tr>\n",
       "      <th>2</th>\n",
       "      <td>Choi</td>\n",
       "      <td>confirmed</td>\n",
       "      <td>34</td>\n",
       "      <td>male</td>\n",
       "      <td>choi@yahoo.com</td>\n",
       "    </tr>\n",
       "    <tr>\n",
       "      <th>3</th>\n",
       "      <td>Park</td>\n",
       "      <td>canceled</td>\n",
       "      <td>37</td>\n",
       "      <td>male</td>\n",
       "      <td>park@dsschool.co.kr</td>\n",
       "    </tr>\n",
       "    <tr>\n",
       "      <th>4</th>\n",
       "      <td>Kang</td>\n",
       "      <td>confirmed</td>\n",
       "      <td>30</td>\n",
       "      <td>male</td>\n",
       "      <td>kang@gmail.com</td>\n",
       "    </tr>\n",
       "    <tr>\n",
       "      <th>5</th>\n",
       "      <td>Choi</td>\n",
       "      <td>confirmed</td>\n",
       "      <td>34</td>\n",
       "      <td>male</td>\n",
       "      <td>choi@yahoo.com</td>\n",
       "    </tr>\n",
       "    <tr>\n",
       "      <th>6</th>\n",
       "      <td>Lee</td>\n",
       "      <td>confirmed</td>\n",
       "      <td>15</td>\n",
       "      <td>female</td>\n",
       "      <td>lee@empas.co.kr</td>\n",
       "    </tr>\n",
       "  </tbody>\n",
       "</table>\n",
       "</div>"
      ],
      "text/plain": [
       "   Name     result  Age     Sex                email\n",
       "0  Kang  confirmed   30    male       kang@gmail.com\n",
       "1   Kim  confirmed   22  female        kim@naver.com\n",
       "2  Choi  confirmed   34    male       choi@yahoo.com\n",
       "3  Park   canceled   37    male  park@dsschool.co.kr\n",
       "4  Kang  confirmed   30    male       kang@gmail.com\n",
       "5  Choi  confirmed   34    male       choi@yahoo.com\n",
       "6   Lee  confirmed   15  female      lee@empas.co.kr"
      ]
     },
     "execution_count": 53,
     "metadata": {
      "tags": []
     },
     "output_type": "execute_result"
    }
   ],
   "source": [
    "# how='left'는 pd.merge에서 왼쪽에 넣은 DataFrame(transaction)을 기준으로 갯수를 맞춘다.\n",
    "# 마찬가지로 빈 값에는 NaN이 들어간다.\n",
    "pd.merge(transaction, user, how='left')"
   ]
  },
  {
   "cell_type": "code",
   "execution_count": 0,
   "metadata": {
    "colab": {},
    "colab_type": "code",
    "id": "yp1msYJbxK4Z",
    "outputId": "7e7e5e20-0dee-49c6-fe8f-310eaebebcdb"
   },
   "outputs": [
    {
     "data": {
      "text/html": [
       "<div>\n",
       "<style>\n",
       "    .dataframe thead tr:only-child th {\n",
       "        text-align: right;\n",
       "    }\n",
       "\n",
       "    .dataframe thead th {\n",
       "        text-align: left;\n",
       "    }\n",
       "\n",
       "    .dataframe tbody tr th {\n",
       "        vertical-align: top;\n",
       "    }\n",
       "</style>\n",
       "<table border=\"1\" class=\"dataframe\">\n",
       "  <thead>\n",
       "    <tr style=\"text-align: right;\">\n",
       "      <th></th>\n",
       "      <th>Name</th>\n",
       "      <th>result</th>\n",
       "      <th>Age</th>\n",
       "      <th>Sex</th>\n",
       "      <th>email</th>\n",
       "    </tr>\n",
       "  </thead>\n",
       "  <tbody>\n",
       "    <tr>\n",
       "      <th>0</th>\n",
       "      <td>Kang</td>\n",
       "      <td>confirmed</td>\n",
       "      <td>30</td>\n",
       "      <td>male</td>\n",
       "      <td>kang@gmail.com</td>\n",
       "    </tr>\n",
       "    <tr>\n",
       "      <th>1</th>\n",
       "      <td>Kang</td>\n",
       "      <td>confirmed</td>\n",
       "      <td>30</td>\n",
       "      <td>male</td>\n",
       "      <td>kang@gmail.com</td>\n",
       "    </tr>\n",
       "    <tr>\n",
       "      <th>2</th>\n",
       "      <td>Kim</td>\n",
       "      <td>confirmed</td>\n",
       "      <td>22</td>\n",
       "      <td>female</td>\n",
       "      <td>kim@naver.com</td>\n",
       "    </tr>\n",
       "    <tr>\n",
       "      <th>3</th>\n",
       "      <td>Choi</td>\n",
       "      <td>confirmed</td>\n",
       "      <td>34</td>\n",
       "      <td>male</td>\n",
       "      <td>choi@yahoo.com</td>\n",
       "    </tr>\n",
       "    <tr>\n",
       "      <th>4</th>\n",
       "      <td>Choi</td>\n",
       "      <td>confirmed</td>\n",
       "      <td>34</td>\n",
       "      <td>male</td>\n",
       "      <td>choi@yahoo.com</td>\n",
       "    </tr>\n",
       "    <tr>\n",
       "      <th>5</th>\n",
       "      <td>Park</td>\n",
       "      <td>canceled</td>\n",
       "      <td>37</td>\n",
       "      <td>male</td>\n",
       "      <td>park@dsschool.co.kr</td>\n",
       "    </tr>\n",
       "    <tr>\n",
       "      <th>6</th>\n",
       "      <td>Lee</td>\n",
       "      <td>confirmed</td>\n",
       "      <td>15</td>\n",
       "      <td>female</td>\n",
       "      <td>lee@empas.co.kr</td>\n",
       "    </tr>\n",
       "    <tr>\n",
       "      <th>7</th>\n",
       "      <td>Son</td>\n",
       "      <td>NaN</td>\n",
       "      <td>29</td>\n",
       "      <td>male</td>\n",
       "      <td>son@google.co.uk</td>\n",
       "    </tr>\n",
       "    <tr>\n",
       "      <th>8</th>\n",
       "      <td>Moon</td>\n",
       "      <td>NaN</td>\n",
       "      <td>40</td>\n",
       "      <td>female</td>\n",
       "      <td>moon@hanmail.com</td>\n",
       "    </tr>\n",
       "  </tbody>\n",
       "</table>\n",
       "</div>"
      ],
      "text/plain": [
       "   Name     result  Age     Sex                email\n",
       "0  Kang  confirmed   30    male       kang@gmail.com\n",
       "1  Kang  confirmed   30    male       kang@gmail.com\n",
       "2   Kim  confirmed   22  female        kim@naver.com\n",
       "3  Choi  confirmed   34    male       choi@yahoo.com\n",
       "4  Choi  confirmed   34    male       choi@yahoo.com\n",
       "5  Park   canceled   37    male  park@dsschool.co.kr\n",
       "6   Lee  confirmed   15  female      lee@empas.co.kr\n",
       "7   Son        NaN   29    male     son@google.co.uk\n",
       "8  Moon        NaN   40  female     moon@hanmail.com"
      ]
     },
     "execution_count": 54,
     "metadata": {
      "tags": []
     },
     "output_type": "execute_result"
    }
   ],
   "source": [
    "# how='right'는 left의 정 반대라고 보면 된다.\n",
    "pd.merge(transaction, user, how='right')"
   ]
  },
  {
   "cell_type": "markdown",
   "metadata": {
    "colab_type": "text",
    "id": "Zxq9jjudxK4c"
   },
   "source": [
    "현재는 'Name'이라는 컬럼명이 겹쳐 merge가 잘 이루어졌습니다. 근데 실제 데이터에서는 컬럼명이 다른 경우가 있는데 이 때는 pandas가 자동으로 merge를 하지 못합니다."
   ]
  },
  {
   "cell_type": "code",
   "execution_count": 0,
   "metadata": {
    "colab": {},
    "colab_type": "code",
    "collapsed": true,
    "id": "J2mQ4LIXxK4c"
   },
   "outputs": [],
   "source": [
    "# user의 Name 칼럼명을 이름으로 수정하겠습니다.\n",
    "user.rename(columns={'Name' : '이름'}, inplace = True)"
   ]
  },
  {
   "cell_type": "code",
   "execution_count": 0,
   "metadata": {
    "colab": {},
    "colab_type": "code",
    "id": "EAN_RUMaxK4d",
    "outputId": "8bbf84c6-f1f8-4fa0-d472-f4b061525987",
    "scrolled": false
   },
   "outputs": [
    {
     "data": {
      "text/html": [
       "<div>\n",
       "<style>\n",
       "    .dataframe thead tr:only-child th {\n",
       "        text-align: right;\n",
       "    }\n",
       "\n",
       "    .dataframe thead th {\n",
       "        text-align: left;\n",
       "    }\n",
       "\n",
       "    .dataframe tbody tr th {\n",
       "        vertical-align: top;\n",
       "    }\n",
       "</style>\n",
       "<table border=\"1\" class=\"dataframe\">\n",
       "  <thead>\n",
       "    <tr style=\"text-align: right;\">\n",
       "      <th></th>\n",
       "      <th>Name</th>\n",
       "      <th>result</th>\n",
       "      <th>Age</th>\n",
       "      <th>Sex</th>\n",
       "      <th>이름</th>\n",
       "      <th>email</th>\n",
       "    </tr>\n",
       "  </thead>\n",
       "  <tbody>\n",
       "    <tr>\n",
       "      <th>0</th>\n",
       "      <td>Kang</td>\n",
       "      <td>confirmed</td>\n",
       "      <td>30</td>\n",
       "      <td>male</td>\n",
       "      <td>Kang</td>\n",
       "      <td>kang@gmail.com</td>\n",
       "    </tr>\n",
       "    <tr>\n",
       "      <th>1</th>\n",
       "      <td>Kang</td>\n",
       "      <td>confirmed</td>\n",
       "      <td>30</td>\n",
       "      <td>male</td>\n",
       "      <td>Kang</td>\n",
       "      <td>kang@gmail.com</td>\n",
       "    </tr>\n",
       "    <tr>\n",
       "      <th>2</th>\n",
       "      <td>Kim</td>\n",
       "      <td>confirmed</td>\n",
       "      <td>22</td>\n",
       "      <td>female</td>\n",
       "      <td>Kim</td>\n",
       "      <td>kim@naver.com</td>\n",
       "    </tr>\n",
       "    <tr>\n",
       "      <th>3</th>\n",
       "      <td>Choi</td>\n",
       "      <td>confirmed</td>\n",
       "      <td>34</td>\n",
       "      <td>male</td>\n",
       "      <td>Choi</td>\n",
       "      <td>choi@yahoo.com</td>\n",
       "    </tr>\n",
       "    <tr>\n",
       "      <th>4</th>\n",
       "      <td>Choi</td>\n",
       "      <td>confirmed</td>\n",
       "      <td>34</td>\n",
       "      <td>male</td>\n",
       "      <td>Choi</td>\n",
       "      <td>choi@yahoo.com</td>\n",
       "    </tr>\n",
       "    <tr>\n",
       "      <th>5</th>\n",
       "      <td>Park</td>\n",
       "      <td>canceled</td>\n",
       "      <td>37</td>\n",
       "      <td>male</td>\n",
       "      <td>Park</td>\n",
       "      <td>park@dsschool.co.kr</td>\n",
       "    </tr>\n",
       "    <tr>\n",
       "      <th>6</th>\n",
       "      <td>Lee</td>\n",
       "      <td>confirmed</td>\n",
       "      <td>15</td>\n",
       "      <td>female</td>\n",
       "      <td>Lee</td>\n",
       "      <td>lee@empas.co.kr</td>\n",
       "    </tr>\n",
       "  </tbody>\n",
       "</table>\n",
       "</div>"
      ],
      "text/plain": [
       "   Name     result  Age     Sex    이름                email\n",
       "0  Kang  confirmed   30    male  Kang       kang@gmail.com\n",
       "1  Kang  confirmed   30    male  Kang       kang@gmail.com\n",
       "2   Kim  confirmed   22  female   Kim        kim@naver.com\n",
       "3  Choi  confirmed   34    male  Choi       choi@yahoo.com\n",
       "4  Choi  confirmed   34    male  Choi       choi@yahoo.com\n",
       "5  Park   canceled   37    male  Park  park@dsschool.co.kr\n",
       "6   Lee  confirmed   15  female   Lee      lee@empas.co.kr"
      ]
     },
     "execution_count": 56,
     "metadata": {
      "tags": []
     },
     "output_type": "execute_result"
    }
   ],
   "source": [
    "#그리고 다시 transaction과 user를 merge하도록 하겠습니다.\n",
    "pd.merge(transaction, user, how='inner')"
   ]
  },
  {
   "cell_type": "markdown",
   "metadata": {
    "colab_type": "text",
    "id": "nx5TQcenxK4e"
   },
   "source": [
    "'No common columns to perform merge on.' 이라는 에러가 났습니다 .이러한 경우에는 SQL에서 처럼 left table의 어떤 컬럼과 right table의 어떤 컬럼을 키로 사용하여 조인할 것인지 직접 지정해줘야 합니다. 이는 left_on, right_on 파라미터로 가능합니다.\n"
   ]
  },
  {
   "cell_type": "code",
   "execution_count": 0,
   "metadata": {
    "colab": {},
    "colab_type": "code",
    "id": "PB-fw88DxK4f",
    "outputId": "fb80ded3-3138-4a0c-bd63-718eb33a2566"
   },
   "outputs": [
    {
     "data": {
      "text/html": [
       "<div>\n",
       "<style>\n",
       "    .dataframe thead tr:only-child th {\n",
       "        text-align: right;\n",
       "    }\n",
       "\n",
       "    .dataframe thead th {\n",
       "        text-align: left;\n",
       "    }\n",
       "\n",
       "    .dataframe tbody tr th {\n",
       "        vertical-align: top;\n",
       "    }\n",
       "</style>\n",
       "<table border=\"1\" class=\"dataframe\">\n",
       "  <thead>\n",
       "    <tr style=\"text-align: right;\">\n",
       "      <th></th>\n",
       "      <th>Name</th>\n",
       "      <th>result</th>\n",
       "      <th>Age_x</th>\n",
       "      <th>Sex_x</th>\n",
       "      <th>이름</th>\n",
       "      <th>Age_y</th>\n",
       "      <th>Sex_y</th>\n",
       "      <th>email</th>\n",
       "    </tr>\n",
       "  </thead>\n",
       "  <tbody>\n",
       "    <tr>\n",
       "      <th>0</th>\n",
       "      <td>Kang</td>\n",
       "      <td>confirmed</td>\n",
       "      <td>30</td>\n",
       "      <td>male</td>\n",
       "      <td>Kang</td>\n",
       "      <td>30</td>\n",
       "      <td>male</td>\n",
       "      <td>kang@gmail.com</td>\n",
       "    </tr>\n",
       "    <tr>\n",
       "      <th>1</th>\n",
       "      <td>Kang</td>\n",
       "      <td>confirmed</td>\n",
       "      <td>30</td>\n",
       "      <td>male</td>\n",
       "      <td>Kang</td>\n",
       "      <td>30</td>\n",
       "      <td>male</td>\n",
       "      <td>kang@gmail.com</td>\n",
       "    </tr>\n",
       "    <tr>\n",
       "      <th>2</th>\n",
       "      <td>Kim</td>\n",
       "      <td>confirmed</td>\n",
       "      <td>22</td>\n",
       "      <td>female</td>\n",
       "      <td>Kim</td>\n",
       "      <td>22</td>\n",
       "      <td>female</td>\n",
       "      <td>kim@naver.com</td>\n",
       "    </tr>\n",
       "    <tr>\n",
       "      <th>3</th>\n",
       "      <td>Choi</td>\n",
       "      <td>confirmed</td>\n",
       "      <td>34</td>\n",
       "      <td>male</td>\n",
       "      <td>Choi</td>\n",
       "      <td>34</td>\n",
       "      <td>male</td>\n",
       "      <td>choi@yahoo.com</td>\n",
       "    </tr>\n",
       "    <tr>\n",
       "      <th>4</th>\n",
       "      <td>Choi</td>\n",
       "      <td>confirmed</td>\n",
       "      <td>34</td>\n",
       "      <td>male</td>\n",
       "      <td>Choi</td>\n",
       "      <td>34</td>\n",
       "      <td>male</td>\n",
       "      <td>choi@yahoo.com</td>\n",
       "    </tr>\n",
       "    <tr>\n",
       "      <th>5</th>\n",
       "      <td>Park</td>\n",
       "      <td>canceled</td>\n",
       "      <td>37</td>\n",
       "      <td>male</td>\n",
       "      <td>Park</td>\n",
       "      <td>37</td>\n",
       "      <td>male</td>\n",
       "      <td>park@dsschool.co.kr</td>\n",
       "    </tr>\n",
       "    <tr>\n",
       "      <th>6</th>\n",
       "      <td>Lee</td>\n",
       "      <td>confirmed</td>\n",
       "      <td>15</td>\n",
       "      <td>female</td>\n",
       "      <td>Lee</td>\n",
       "      <td>15</td>\n",
       "      <td>female</td>\n",
       "      <td>lee@empas.co.kr</td>\n",
       "    </tr>\n",
       "  </tbody>\n",
       "</table>\n",
       "</div>"
      ],
      "text/plain": [
       "   Name     result  Age_x   Sex_x    이름  Age_y   Sex_y                email\n",
       "0  Kang  confirmed     30    male  Kang     30    male       kang@gmail.com\n",
       "1  Kang  confirmed     30    male  Kang     30    male       kang@gmail.com\n",
       "2   Kim  confirmed     22  female   Kim     22  female        kim@naver.com\n",
       "3  Choi  confirmed     34    male  Choi     34    male       choi@yahoo.com\n",
       "4  Choi  confirmed     34    male  Choi     34    male       choi@yahoo.com\n",
       "5  Park   canceled     37    male  Park     37    male  park@dsschool.co.kr\n",
       "6   Lee  confirmed     15  female   Lee     15  female      lee@empas.co.kr"
      ]
     },
     "execution_count": 57,
     "metadata": {
      "tags": []
     },
     "output_type": "execute_result"
    }
   ],
   "source": [
    "#그리고 다시 transaction과 user를 merge하도록 하겠습니다.\n",
    "pd.merge(transaction, user, how='inner', left_on='Name', right_on = '이름')"
   ]
  },
  {
   "cell_type": "markdown",
   "metadata": {
    "colab_type": "text",
    "id": "JgPXQfQ1xK4g"
   },
   "source": [
    "merge와 비슷하게 join을 사용할 수 있습니다. join의 특징은 판다스의 함수로 사용할 수 있는 것이 아닌 데이터프레임의 메소드로만 사용할 수 있다는 점입니다. \n",
    "\n",
    "(`pd.join()` 이 없고 `table.join()` 으로만 사용할 수 있다는 의미입니다.)\n",
    "\n",
    "이 기능은 merge와 거의 동일하기 때문에 마음에 드는 것을 사용하시면 됩니다."
   ]
  },
  {
   "cell_type": "code",
   "execution_count": 0,
   "metadata": {
    "colab": {},
    "colab_type": "code",
    "id": "dI1jwDyBxK4h",
    "outputId": "fccd4e78-6d2f-428d-9bf6-97876d60b8fa"
   },
   "outputs": [
    {
     "data": {
      "text/html": [
       "<div>\n",
       "<style>\n",
       "    .dataframe thead tr:only-child th {\n",
       "        text-align: right;\n",
       "    }\n",
       "\n",
       "    .dataframe thead th {\n",
       "        text-align: left;\n",
       "    }\n",
       "\n",
       "    .dataframe tbody tr th {\n",
       "        vertical-align: top;\n",
       "    }\n",
       "</style>\n",
       "<table border=\"1\" class=\"dataframe\">\n",
       "  <thead>\n",
       "    <tr style=\"text-align: right;\">\n",
       "      <th></th>\n",
       "      <th>product</th>\n",
       "      <th>price</th>\n",
       "    </tr>\n",
       "  </thead>\n",
       "  <tbody>\n",
       "    <tr>\n",
       "      <th>0</th>\n",
       "      <td>apple</td>\n",
       "      <td>5.0</td>\n",
       "    </tr>\n",
       "    <tr>\n",
       "      <th>1</th>\n",
       "      <td>blueberry</td>\n",
       "      <td>7.0</td>\n",
       "    </tr>\n",
       "    <tr>\n",
       "      <th>2</th>\n",
       "      <td>banana</td>\n",
       "      <td>2.5</td>\n",
       "    </tr>\n",
       "    <tr>\n",
       "      <th>3</th>\n",
       "      <td>cereal</td>\n",
       "      <td>4.5</td>\n",
       "    </tr>\n",
       "    <tr>\n",
       "      <th>4</th>\n",
       "      <td>kiwi</td>\n",
       "      <td>10.0</td>\n",
       "    </tr>\n",
       "    <tr>\n",
       "      <th>5</th>\n",
       "      <td>melon</td>\n",
       "      <td>12.5</td>\n",
       "    </tr>\n",
       "    <tr>\n",
       "      <th>6</th>\n",
       "      <td>pineapple</td>\n",
       "      <td>15.0</td>\n",
       "    </tr>\n",
       "  </tbody>\n",
       "</table>\n",
       "</div>"
      ],
      "text/plain": [
       "     product  price\n",
       "0      apple    5.0\n",
       "1  blueberry    7.0\n",
       "2     banana    2.5\n",
       "3     cereal    4.5\n",
       "4       kiwi   10.0\n",
       "5      melon   12.5\n",
       "6  pineapple   15.0"
      ]
     },
     "execution_count": 58,
     "metadata": {
      "tags": []
     },
     "output_type": "execute_result"
    }
   ],
   "source": [
    "#데이터베이스에서 product 테이블을 불러와 transaction에 join을 이용하여 병합하도록 하겠습니다.\n",
    "# read_sql 을 이용하여 다시 product 테이블을 불러옵니다.\n",
    "product = pd.read_sql(\"SELECT * FROM 'product'\", connection)\n",
    "product"
   ]
  },
  {
   "cell_type": "code",
   "execution_count": 0,
   "metadata": {
    "colab": {},
    "colab_type": "code",
    "id": "8yZiuXEOxK4j",
    "outputId": "45ce5749-180d-446d-f7ee-536eeb5829c0"
   },
   "outputs": [
    {
     "data": {
      "text/html": [
       "<div>\n",
       "<style>\n",
       "    .dataframe thead tr:only-child th {\n",
       "        text-align: right;\n",
       "    }\n",
       "\n",
       "    .dataframe thead th {\n",
       "        text-align: left;\n",
       "    }\n",
       "\n",
       "    .dataframe tbody tr th {\n",
       "        vertical-align: top;\n",
       "    }\n",
       "</style>\n",
       "<table border=\"1\" class=\"dataframe\">\n",
       "  <thead>\n",
       "    <tr style=\"text-align: right;\">\n",
       "      <th></th>\n",
       "      <th>Name</th>\n",
       "      <th>result</th>\n",
       "      <th>Age</th>\n",
       "      <th>Sex</th>\n",
       "    </tr>\n",
       "  </thead>\n",
       "  <tbody>\n",
       "    <tr>\n",
       "      <th>0</th>\n",
       "      <td>Kang</td>\n",
       "      <td>confirmed</td>\n",
       "      <td>30</td>\n",
       "      <td>male</td>\n",
       "    </tr>\n",
       "    <tr>\n",
       "      <th>1</th>\n",
       "      <td>Kim</td>\n",
       "      <td>confirmed</td>\n",
       "      <td>22</td>\n",
       "      <td>female</td>\n",
       "    </tr>\n",
       "    <tr>\n",
       "      <th>2</th>\n",
       "      <td>Choi</td>\n",
       "      <td>confirmed</td>\n",
       "      <td>34</td>\n",
       "      <td>male</td>\n",
       "    </tr>\n",
       "    <tr>\n",
       "      <th>3</th>\n",
       "      <td>Park</td>\n",
       "      <td>canceled</td>\n",
       "      <td>37</td>\n",
       "      <td>male</td>\n",
       "    </tr>\n",
       "    <tr>\n",
       "      <th>4</th>\n",
       "      <td>Kang</td>\n",
       "      <td>confirmed</td>\n",
       "      <td>30</td>\n",
       "      <td>male</td>\n",
       "    </tr>\n",
       "    <tr>\n",
       "      <th>5</th>\n",
       "      <td>Choi</td>\n",
       "      <td>confirmed</td>\n",
       "      <td>34</td>\n",
       "      <td>male</td>\n",
       "    </tr>\n",
       "    <tr>\n",
       "      <th>6</th>\n",
       "      <td>Lee</td>\n",
       "      <td>confirmed</td>\n",
       "      <td>15</td>\n",
       "      <td>female</td>\n",
       "    </tr>\n",
       "  </tbody>\n",
       "</table>\n",
       "</div>"
      ],
      "text/plain": [
       "   Name     result  Age     Sex\n",
       "0  Kang  confirmed   30    male\n",
       "1   Kim  confirmed   22  female\n",
       "2  Choi  confirmed   34    male\n",
       "3  Park   canceled   37    male\n",
       "4  Kang  confirmed   30    male\n",
       "5  Choi  confirmed   34    male\n",
       "6   Lee  confirmed   15  female"
      ]
     },
     "execution_count": 59,
     "metadata": {
      "tags": []
     },
     "output_type": "execute_result"
    }
   ],
   "source": [
    "transaction"
   ]
  },
  {
   "cell_type": "code",
   "execution_count": 0,
   "metadata": {
    "colab": {},
    "colab_type": "code",
    "id": "1ds-4Df6xK4l",
    "outputId": "e3c7f16e-dfbe-4823-f02a-99dda0b66abb"
   },
   "outputs": [
    {
     "data": {
      "text/html": [
       "<div>\n",
       "<style>\n",
       "    .dataframe thead tr:only-child th {\n",
       "        text-align: right;\n",
       "    }\n",
       "\n",
       "    .dataframe thead th {\n",
       "        text-align: left;\n",
       "    }\n",
       "\n",
       "    .dataframe tbody tr th {\n",
       "        vertical-align: top;\n",
       "    }\n",
       "</style>\n",
       "<table border=\"1\" class=\"dataframe\">\n",
       "  <thead>\n",
       "    <tr style=\"text-align: right;\">\n",
       "      <th></th>\n",
       "      <th>product</th>\n",
       "      <th>price</th>\n",
       "    </tr>\n",
       "  </thead>\n",
       "  <tbody>\n",
       "    <tr>\n",
       "      <th>0</th>\n",
       "      <td>apple</td>\n",
       "      <td>5.0</td>\n",
       "    </tr>\n",
       "    <tr>\n",
       "      <th>1</th>\n",
       "      <td>blueberry</td>\n",
       "      <td>7.0</td>\n",
       "    </tr>\n",
       "    <tr>\n",
       "      <th>2</th>\n",
       "      <td>banana</td>\n",
       "      <td>2.5</td>\n",
       "    </tr>\n",
       "    <tr>\n",
       "      <th>3</th>\n",
       "      <td>cereal</td>\n",
       "      <td>4.5</td>\n",
       "    </tr>\n",
       "    <tr>\n",
       "      <th>4</th>\n",
       "      <td>kiwi</td>\n",
       "      <td>10.0</td>\n",
       "    </tr>\n",
       "    <tr>\n",
       "      <th>5</th>\n",
       "      <td>melon</td>\n",
       "      <td>12.5</td>\n",
       "    </tr>\n",
       "    <tr>\n",
       "      <th>6</th>\n",
       "      <td>pineapple</td>\n",
       "      <td>15.0</td>\n",
       "    </tr>\n",
       "  </tbody>\n",
       "</table>\n",
       "</div>"
      ],
      "text/plain": [
       "     product  price\n",
       "0      apple    5.0\n",
       "1  blueberry    7.0\n",
       "2     banana    2.5\n",
       "3     cereal    4.5\n",
       "4       kiwi   10.0\n",
       "5      melon   12.5\n",
       "6  pineapple   15.0"
      ]
     },
     "execution_count": 60,
     "metadata": {
      "tags": []
     },
     "output_type": "execute_result"
    }
   ],
   "source": [
    "product"
   ]
  },
  {
   "cell_type": "markdown",
   "metadata": {
    "colab_type": "text",
    "id": "nzIqbcToxK4m"
   },
   "source": [
    "join이 불편한 점은 반드시 기준이 되는 왼쪽 데이터프레임은 index가 그 기준이 되어야 한다는 것입니다. 따라서, set_index()를 이용하여 기준이 되는 열을 반드시 인덱스로 만들어준 다음 join을 사용해주세요."
   ]
  },
  {
   "cell_type": "code",
   "execution_count": 0,
   "metadata": {
    "colab": {},
    "colab_type": "code",
    "id": "KHG47kewxK4m",
    "outputId": "6a845411-eddb-499f-b9e5-387c5bc67da6"
   },
   "outputs": [
    {
     "ename": "KeyError",
     "evalue": "'product'",
     "output_type": "error",
     "traceback": [
      "\u001b[0;31m------------------------------------------------------------------------\u001b[0m",
      "\u001b[0;31mKeyError\u001b[0m                               Traceback (most recent call last)",
      "\u001b[0;32m~/.pyenv/versions/3.5.1/envs/dsschool/lib/python3.5/site-packages/pandas/core/indexes/base.py\u001b[0m in \u001b[0;36mget_loc\u001b[0;34m(self, key, method, tolerance)\u001b[0m\n\u001b[1;32m   2441\u001b[0m             \u001b[0;32mtry\u001b[0m\u001b[0;34m:\u001b[0m\u001b[0;34m\u001b[0m\u001b[0m\n\u001b[0;32m-> 2442\u001b[0;31m                 \u001b[0;32mreturn\u001b[0m \u001b[0mself\u001b[0m\u001b[0;34m.\u001b[0m\u001b[0m_engine\u001b[0m\u001b[0;34m.\u001b[0m\u001b[0mget_loc\u001b[0m\u001b[0;34m(\u001b[0m\u001b[0mkey\u001b[0m\u001b[0;34m)\u001b[0m\u001b[0;34m\u001b[0m\u001b[0m\n\u001b[0m\u001b[1;32m   2443\u001b[0m             \u001b[0;32mexcept\u001b[0m \u001b[0mKeyError\u001b[0m\u001b[0;34m:\u001b[0m\u001b[0;34m\u001b[0m\u001b[0m\n",
      "\u001b[0;32mpandas/_libs/index.pyx\u001b[0m in \u001b[0;36mpandas._libs.index.IndexEngine.get_loc (pandas/_libs/index.c:5280)\u001b[0;34m()\u001b[0m\n",
      "\u001b[0;32mpandas/_libs/index.pyx\u001b[0m in \u001b[0;36mpandas._libs.index.IndexEngine.get_loc (pandas/_libs/index.c:5126)\u001b[0;34m()\u001b[0m\n",
      "\u001b[0;32mpandas/_libs/hashtable_class_helper.pxi\u001b[0m in \u001b[0;36mpandas._libs.hashtable.PyObjectHashTable.get_item (pandas/_libs/hashtable.c:20523)\u001b[0;34m()\u001b[0m\n",
      "\u001b[0;32mpandas/_libs/hashtable_class_helper.pxi\u001b[0m in \u001b[0;36mpandas._libs.hashtable.PyObjectHashTable.get_item (pandas/_libs/hashtable.c:20477)\u001b[0;34m()\u001b[0m\n",
      "\u001b[0;31mKeyError\u001b[0m: 'product'",
      "\nDuring handling of the above exception, another exception occurred:\n",
      "\u001b[0;31mKeyError\u001b[0m                               Traceback (most recent call last)",
      "\u001b[0;32m<ipython-input-61-b54bf184ef41>\u001b[0m in \u001b[0;36m<module>\u001b[0;34m()\u001b[0m\n\u001b[1;32m      1\u001b[0m \u001b[0;31m#이제 transaction.join()을 이용하여 두 테이블을 LEFT로 병합해보세요.\u001b[0m\u001b[0;34m\u001b[0m\u001b[0;34m\u001b[0m\u001b[0m\n\u001b[0;32m----> 2\u001b[0;31m \u001b[0mtransaction\u001b[0m\u001b[0;34m.\u001b[0m\u001b[0mset_index\u001b[0m\u001b[0;34m(\u001b[0m\u001b[0;34m'product'\u001b[0m\u001b[0;34m,\u001b[0m \u001b[0minplace\u001b[0m\u001b[0;34m=\u001b[0m\u001b[0;32mTrue\u001b[0m\u001b[0;34m)\u001b[0m \u001b[0;31m#transaction = transaction.set_index('product') 와 동일한 코드입니다.\u001b[0m\u001b[0;34m\u001b[0m\u001b[0m\n\u001b[0m\u001b[1;32m      3\u001b[0m \u001b[0;34m\u001b[0m\u001b[0m\n\u001b[1;32m      4\u001b[0m \u001b[0;31m#join을 이용하여 두개의 데이터프레임을 병합하는 과정입니다. product의 경우에는 index를 product로 사용하지 않아도 on 옵션을 이용해 열을 지정해줄 수 있습니다.\u001b[0m\u001b[0;34m\u001b[0m\u001b[0;34m\u001b[0m\u001b[0m\n\u001b[1;32m      5\u001b[0m \u001b[0;31m#on 옵션은 pandas 0.23.0 버전에서 새롭게 추가된 기능이므로 작동하지 않는 경우 product테이블의 index도 'product'로 지정해주세요.\u001b[0m\u001b[0;34m\u001b[0m\u001b[0;34m\u001b[0m\u001b[0m\n",
      "\u001b[0;32m~/.pyenv/versions/3.5.1/envs/dsschool/lib/python3.5/site-packages/pandas/core/frame.py\u001b[0m in \u001b[0;36mset_index\u001b[0;34m(self, keys, drop, append, inplace, verify_integrity)\u001b[0m\n\u001b[1;32m   2828\u001b[0m                 \u001b[0mnames\u001b[0m\u001b[0;34m.\u001b[0m\u001b[0mappend\u001b[0m\u001b[0;34m(\u001b[0m\u001b[0;32mNone\u001b[0m\u001b[0;34m)\u001b[0m\u001b[0;34m\u001b[0m\u001b[0m\n\u001b[1;32m   2829\u001b[0m             \u001b[0;32melse\u001b[0m\u001b[0;34m:\u001b[0m\u001b[0;34m\u001b[0m\u001b[0m\n\u001b[0;32m-> 2830\u001b[0;31m                 \u001b[0mlevel\u001b[0m \u001b[0;34m=\u001b[0m \u001b[0mframe\u001b[0m\u001b[0;34m[\u001b[0m\u001b[0mcol\u001b[0m\u001b[0;34m]\u001b[0m\u001b[0;34m.\u001b[0m\u001b[0m_values\u001b[0m\u001b[0;34m\u001b[0m\u001b[0m\n\u001b[0m\u001b[1;32m   2831\u001b[0m                 \u001b[0mnames\u001b[0m\u001b[0;34m.\u001b[0m\u001b[0mappend\u001b[0m\u001b[0;34m(\u001b[0m\u001b[0mcol\u001b[0m\u001b[0;34m)\u001b[0m\u001b[0;34m\u001b[0m\u001b[0m\n\u001b[1;32m   2832\u001b[0m                 \u001b[0;32mif\u001b[0m \u001b[0mdrop\u001b[0m\u001b[0;34m:\u001b[0m\u001b[0;34m\u001b[0m\u001b[0m\n",
      "\u001b[0;32m~/.pyenv/versions/3.5.1/envs/dsschool/lib/python3.5/site-packages/pandas/core/frame.py\u001b[0m in \u001b[0;36m__getitem__\u001b[0;34m(self, key)\u001b[0m\n\u001b[1;32m   1962\u001b[0m             \u001b[0;32mreturn\u001b[0m \u001b[0mself\u001b[0m\u001b[0;34m.\u001b[0m\u001b[0m_getitem_multilevel\u001b[0m\u001b[0;34m(\u001b[0m\u001b[0mkey\u001b[0m\u001b[0;34m)\u001b[0m\u001b[0;34m\u001b[0m\u001b[0m\n\u001b[1;32m   1963\u001b[0m         \u001b[0;32melse\u001b[0m\u001b[0;34m:\u001b[0m\u001b[0;34m\u001b[0m\u001b[0m\n\u001b[0;32m-> 1964\u001b[0;31m             \u001b[0;32mreturn\u001b[0m \u001b[0mself\u001b[0m\u001b[0;34m.\u001b[0m\u001b[0m_getitem_column\u001b[0m\u001b[0;34m(\u001b[0m\u001b[0mkey\u001b[0m\u001b[0;34m)\u001b[0m\u001b[0;34m\u001b[0m\u001b[0m\n\u001b[0m\u001b[1;32m   1965\u001b[0m \u001b[0;34m\u001b[0m\u001b[0m\n\u001b[1;32m   1966\u001b[0m     \u001b[0;32mdef\u001b[0m \u001b[0m_getitem_column\u001b[0m\u001b[0;34m(\u001b[0m\u001b[0mself\u001b[0m\u001b[0;34m,\u001b[0m \u001b[0mkey\u001b[0m\u001b[0;34m)\u001b[0m\u001b[0;34m:\u001b[0m\u001b[0;34m\u001b[0m\u001b[0m\n",
      "\u001b[0;32m~/.pyenv/versions/3.5.1/envs/dsschool/lib/python3.5/site-packages/pandas/core/frame.py\u001b[0m in \u001b[0;36m_getitem_column\u001b[0;34m(self, key)\u001b[0m\n\u001b[1;32m   1969\u001b[0m         \u001b[0;31m# get column\u001b[0m\u001b[0;34m\u001b[0m\u001b[0;34m\u001b[0m\u001b[0m\n\u001b[1;32m   1970\u001b[0m         \u001b[0;32mif\u001b[0m \u001b[0mself\u001b[0m\u001b[0;34m.\u001b[0m\u001b[0mcolumns\u001b[0m\u001b[0;34m.\u001b[0m\u001b[0mis_unique\u001b[0m\u001b[0;34m:\u001b[0m\u001b[0;34m\u001b[0m\u001b[0m\n\u001b[0;32m-> 1971\u001b[0;31m             \u001b[0;32mreturn\u001b[0m \u001b[0mself\u001b[0m\u001b[0;34m.\u001b[0m\u001b[0m_get_item_cache\u001b[0m\u001b[0;34m(\u001b[0m\u001b[0mkey\u001b[0m\u001b[0;34m)\u001b[0m\u001b[0;34m\u001b[0m\u001b[0m\n\u001b[0m\u001b[1;32m   1972\u001b[0m \u001b[0;34m\u001b[0m\u001b[0m\n\u001b[1;32m   1973\u001b[0m         \u001b[0;31m# duplicate columns & possible reduce dimensionality\u001b[0m\u001b[0;34m\u001b[0m\u001b[0;34m\u001b[0m\u001b[0m\n",
      "\u001b[0;32m~/.pyenv/versions/3.5.1/envs/dsschool/lib/python3.5/site-packages/pandas/core/generic.py\u001b[0m in \u001b[0;36m_get_item_cache\u001b[0;34m(self, item)\u001b[0m\n\u001b[1;32m   1643\u001b[0m         \u001b[0mres\u001b[0m \u001b[0;34m=\u001b[0m \u001b[0mcache\u001b[0m\u001b[0;34m.\u001b[0m\u001b[0mget\u001b[0m\u001b[0;34m(\u001b[0m\u001b[0mitem\u001b[0m\u001b[0;34m)\u001b[0m\u001b[0;34m\u001b[0m\u001b[0m\n\u001b[1;32m   1644\u001b[0m         \u001b[0;32mif\u001b[0m \u001b[0mres\u001b[0m \u001b[0;32mis\u001b[0m \u001b[0;32mNone\u001b[0m\u001b[0;34m:\u001b[0m\u001b[0;34m\u001b[0m\u001b[0m\n\u001b[0;32m-> 1645\u001b[0;31m             \u001b[0mvalues\u001b[0m \u001b[0;34m=\u001b[0m \u001b[0mself\u001b[0m\u001b[0;34m.\u001b[0m\u001b[0m_data\u001b[0m\u001b[0;34m.\u001b[0m\u001b[0mget\u001b[0m\u001b[0;34m(\u001b[0m\u001b[0mitem\u001b[0m\u001b[0;34m)\u001b[0m\u001b[0;34m\u001b[0m\u001b[0m\n\u001b[0m\u001b[1;32m   1646\u001b[0m             \u001b[0mres\u001b[0m \u001b[0;34m=\u001b[0m \u001b[0mself\u001b[0m\u001b[0;34m.\u001b[0m\u001b[0m_box_item_values\u001b[0m\u001b[0;34m(\u001b[0m\u001b[0mitem\u001b[0m\u001b[0;34m,\u001b[0m \u001b[0mvalues\u001b[0m\u001b[0;34m)\u001b[0m\u001b[0;34m\u001b[0m\u001b[0m\n\u001b[1;32m   1647\u001b[0m             \u001b[0mcache\u001b[0m\u001b[0;34m[\u001b[0m\u001b[0mitem\u001b[0m\u001b[0;34m]\u001b[0m \u001b[0;34m=\u001b[0m \u001b[0mres\u001b[0m\u001b[0;34m\u001b[0m\u001b[0m\n",
      "\u001b[0;32m~/.pyenv/versions/3.5.1/envs/dsschool/lib/python3.5/site-packages/pandas/core/internals.py\u001b[0m in \u001b[0;36mget\u001b[0;34m(self, item, fastpath)\u001b[0m\n\u001b[1;32m   3588\u001b[0m \u001b[0;34m\u001b[0m\u001b[0m\n\u001b[1;32m   3589\u001b[0m             \u001b[0;32mif\u001b[0m \u001b[0;32mnot\u001b[0m \u001b[0misnull\u001b[0m\u001b[0;34m(\u001b[0m\u001b[0mitem\u001b[0m\u001b[0;34m)\u001b[0m\u001b[0;34m:\u001b[0m\u001b[0;34m\u001b[0m\u001b[0m\n\u001b[0;32m-> 3590\u001b[0;31m                 \u001b[0mloc\u001b[0m \u001b[0;34m=\u001b[0m \u001b[0mself\u001b[0m\u001b[0;34m.\u001b[0m\u001b[0mitems\u001b[0m\u001b[0;34m.\u001b[0m\u001b[0mget_loc\u001b[0m\u001b[0;34m(\u001b[0m\u001b[0mitem\u001b[0m\u001b[0;34m)\u001b[0m\u001b[0;34m\u001b[0m\u001b[0m\n\u001b[0m\u001b[1;32m   3591\u001b[0m             \u001b[0;32melse\u001b[0m\u001b[0;34m:\u001b[0m\u001b[0;34m\u001b[0m\u001b[0m\n\u001b[1;32m   3592\u001b[0m                 \u001b[0mindexer\u001b[0m \u001b[0;34m=\u001b[0m \u001b[0mnp\u001b[0m\u001b[0;34m.\u001b[0m\u001b[0marange\u001b[0m\u001b[0;34m(\u001b[0m\u001b[0mlen\u001b[0m\u001b[0;34m(\u001b[0m\u001b[0mself\u001b[0m\u001b[0;34m.\u001b[0m\u001b[0mitems\u001b[0m\u001b[0;34m)\u001b[0m\u001b[0;34m)\u001b[0m\u001b[0;34m[\u001b[0m\u001b[0misnull\u001b[0m\u001b[0;34m(\u001b[0m\u001b[0mself\u001b[0m\u001b[0;34m.\u001b[0m\u001b[0mitems\u001b[0m\u001b[0;34m)\u001b[0m\u001b[0;34m]\u001b[0m\u001b[0;34m\u001b[0m\u001b[0m\n",
      "\u001b[0;32m~/.pyenv/versions/3.5.1/envs/dsschool/lib/python3.5/site-packages/pandas/core/indexes/base.py\u001b[0m in \u001b[0;36mget_loc\u001b[0;34m(self, key, method, tolerance)\u001b[0m\n\u001b[1;32m   2442\u001b[0m                 \u001b[0;32mreturn\u001b[0m \u001b[0mself\u001b[0m\u001b[0;34m.\u001b[0m\u001b[0m_engine\u001b[0m\u001b[0;34m.\u001b[0m\u001b[0mget_loc\u001b[0m\u001b[0;34m(\u001b[0m\u001b[0mkey\u001b[0m\u001b[0;34m)\u001b[0m\u001b[0;34m\u001b[0m\u001b[0m\n\u001b[1;32m   2443\u001b[0m             \u001b[0;32mexcept\u001b[0m \u001b[0mKeyError\u001b[0m\u001b[0;34m:\u001b[0m\u001b[0;34m\u001b[0m\u001b[0m\n\u001b[0;32m-> 2444\u001b[0;31m                 \u001b[0;32mreturn\u001b[0m \u001b[0mself\u001b[0m\u001b[0;34m.\u001b[0m\u001b[0m_engine\u001b[0m\u001b[0;34m.\u001b[0m\u001b[0mget_loc\u001b[0m\u001b[0;34m(\u001b[0m\u001b[0mself\u001b[0m\u001b[0;34m.\u001b[0m\u001b[0m_maybe_cast_indexer\u001b[0m\u001b[0;34m(\u001b[0m\u001b[0mkey\u001b[0m\u001b[0;34m)\u001b[0m\u001b[0;34m)\u001b[0m\u001b[0;34m\u001b[0m\u001b[0m\n\u001b[0m\u001b[1;32m   2445\u001b[0m \u001b[0;34m\u001b[0m\u001b[0m\n\u001b[1;32m   2446\u001b[0m         \u001b[0mindexer\u001b[0m \u001b[0;34m=\u001b[0m \u001b[0mself\u001b[0m\u001b[0;34m.\u001b[0m\u001b[0mget_indexer\u001b[0m\u001b[0;34m(\u001b[0m\u001b[0;34m[\u001b[0m\u001b[0mkey\u001b[0m\u001b[0;34m]\u001b[0m\u001b[0;34m,\u001b[0m \u001b[0mmethod\u001b[0m\u001b[0;34m=\u001b[0m\u001b[0mmethod\u001b[0m\u001b[0;34m,\u001b[0m \u001b[0mtolerance\u001b[0m\u001b[0;34m=\u001b[0m\u001b[0mtolerance\u001b[0m\u001b[0;34m)\u001b[0m\u001b[0;34m\u001b[0m\u001b[0m\n",
      "\u001b[0;32mpandas/_libs/index.pyx\u001b[0m in \u001b[0;36mpandas._libs.index.IndexEngine.get_loc (pandas/_libs/index.c:5280)\u001b[0;34m()\u001b[0m\n",
      "\u001b[0;32mpandas/_libs/index.pyx\u001b[0m in \u001b[0;36mpandas._libs.index.IndexEngine.get_loc (pandas/_libs/index.c:5126)\u001b[0;34m()\u001b[0m\n",
      "\u001b[0;32mpandas/_libs/hashtable_class_helper.pxi\u001b[0m in \u001b[0;36mpandas._libs.hashtable.PyObjectHashTable.get_item (pandas/_libs/hashtable.c:20523)\u001b[0;34m()\u001b[0m\n",
      "\u001b[0;32mpandas/_libs/hashtable_class_helper.pxi\u001b[0m in \u001b[0;36mpandas._libs.hashtable.PyObjectHashTable.get_item (pandas/_libs/hashtable.c:20477)\u001b[0;34m()\u001b[0m\n",
      "\u001b[0;31mKeyError\u001b[0m: 'product'"
     ]
    }
   ],
   "source": [
    "#이제 transaction.join()을 이용하여 두 테이블을 LEFT로 병합해보세요.\n",
    "transaction.set_index('product', inplace=True) #transaction = transaction.set_index('product') 와 동일한 코드입니다. \n",
    "\n",
    "#join을 이용하여 두개의 데이터프레임을 병합하는 과정입니다. product의 경우에는 index를 product로 사용하지 않아도 on 옵션을 이용해 열을 지정해줄 수 있습니다.\n",
    "#on 옵션은 pandas 0.23.0 버전에서 새롭게 추가된 기능이므로 작동하지 않는 경우 product테이블의 index도 'product'로 지정해주세요.\n",
    "product.set_index('product', inplace = True)\n",
    "\n",
    "\n",
    "transaction.join(product, on='product', how='left')"
   ]
  },
  {
   "cell_type": "code",
   "execution_count": 0,
   "metadata": {
    "colab": {},
    "colab_type": "code",
    "collapsed": true,
    "id": "TZVDCrBjxK4o"
   },
   "outputs": [],
   "source": []
  },
  {
   "cell_type": "code",
   "execution_count": 0,
   "metadata": {
    "colab": {},
    "colab_type": "code",
    "collapsed": true,
    "id": "sAoukfeNxK4r"
   },
   "outputs": [],
   "source": []
  }
 ],
 "metadata": {
  "colab": {
   "name": "0301_database-connect-and-merge-concat.ipynb",
   "provenance": [],
   "version": "0.3.2"
  },
  "kernelspec": {
   "display_name": "Python 3",
   "language": "python",
   "name": "python3"
  },
  "language_info": {
   "codemirror_mode": {
    "name": "ipython",
    "version": 3
   },
   "file_extension": ".py",
   "mimetype": "text/x-python",
   "name": "python",
   "nbconvert_exporter": "python",
   "pygments_lexer": "ipython3",
   "version": "3.7.1"
  },
  "latex_envs": {
   "LaTeX_envs_menu_present": true,
   "autoclose": true,
   "autocomplete": true,
   "bibliofile": "biblio.bib",
   "cite_by": "apalike",
   "current_citInitial": 1,
   "eqLabelWithNumbers": true,
   "eqNumInitial": 1,
   "hotkeys": {
    "equation": "Ctrl-E",
    "itemize": "Ctrl-I"
   },
   "labels_anchors": false,
   "latex_user_defs": false,
   "report_style_numbering": false,
   "user_envs_cfg": false
  }
 },
 "nbformat": 4,
 "nbformat_minor": 1
}
